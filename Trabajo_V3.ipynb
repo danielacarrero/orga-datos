{
  "nbformat": 4,
  "nbformat_minor": 0,
  "metadata": {
    "kernelspec": {
      "display_name": "Python 3",
      "language": "python",
      "name": "python3"
    },
    "language_info": {
      "codemirror_mode": {
        "name": "ipython",
        "version": 3
      },
      "file_extension": ".py",
      "mimetype": "text/x-python",
      "name": "python",
      "nbconvert_exporter": "python",
      "pygments_lexer": "ipython3",
      "version": "3.7.6"
    },
    "colab": {
      "name": "Trabajo V3.ipynb",
      "provenance": [],
      "collapsed_sections": []
    }
  },
  "cells": [
    {
      "cell_type": "code",
      "metadata": {
        "id": "4U50XVcxyLVX",
        "colab_type": "code",
        "colab": {}
      },
      "source": [
        "!pip install pyspark\n",
        "!pip install -U -q PyDrive\n",
        "!apt install openjdk-8-jdk-headless -qq\n",
        "import os\n",
        "os.environ[\"JAVA_HOME\"] = \"/usr/lib/jvm/java-8-openjdk-amd64\""
      ],
      "execution_count": 0,
      "outputs": []
    },
    {
      "cell_type": "code",
      "metadata": {
        "id": "URdNDILlzqGb",
        "colab_type": "code",
        "colab": {}
      },
      "source": [
        "!pip install PyDrive\n",
        "!pip install geopandas\n",
        "import re"
      ],
      "execution_count": 0,
      "outputs": []
    },
    {
      "cell_type": "code",
      "metadata": {
        "id": "J_HAjRr2z9xK",
        "colab_type": "code",
        "colab": {}
      },
      "source": [
        "from pydrive.auth import GoogleAuth\n",
        "from pydrive.drive import GoogleDrive\n",
        "from google.colab import auth\n",
        "from oauth2client.client import GoogleCredentials\n",
        "from geopy.geocoders import Nominatim\n",
        "from google.colab import files\n",
        "import io\n",
        "import plotly.graph_objects as go\n",
        "import seaborn as sns"
      ],
      "execution_count": 0,
      "outputs": []
    },
    {
      "cell_type": "code",
      "metadata": {
        "id": "eS9t5ygMyLVZ",
        "colab_type": "code",
        "colab": {}
      },
      "source": [
        "auth.authenticate_user()\n",
        "gauth = GoogleAuth()\n",
        "gauth.credentials = GoogleCredentials.get_application_default()\n",
        "drive = GoogleDrive(gauth)"
      ],
      "execution_count": 0,
      "outputs": []
    },
    {
      "cell_type": "code",
      "metadata": {
        "id": "3nOb6ly_yLVc",
        "colab_type": "code",
        "colab": {}
      },
      "source": [
        "#idf = '1PN6TbhTwwl-hVII3P89IMbs1ashJ7BYz'\n",
        "idf = '1QQ7k1Y5RvL0ZcnQuTVg0rHU6O5AK81zQ'\n",
        "downloaded = drive.CreateFile({'id':idf})   # replace the id with id of file you want to access\n",
        "downloaded.GetContentFile('flights.parquet') \n",
        "# Fuente del dataset: https://www.kaggle.com/divyansh22/flight-delay-prediction"
      ],
      "execution_count": 0,
      "outputs": []
    },
    {
      "cell_type": "code",
      "metadata": {
        "id": "fpUzWhS_yLVf",
        "colab_type": "code",
        "colab": {}
      },
      "source": [
        "from pyspark.sql import *\n",
        "from pyspark.sql.functions import *\n",
        "from pyspark import SparkContext\n",
        "import pandas as pd\n",
        "from pyspark.sql import SQLContext, SparkSession\n",
        "from collections import Counter\n",
        "from textblob import TextBlob\n",
        "# create the Spark Session\n",
        "spark = SparkSession.builder.getOrCreate()\n",
        "\n",
        "# create the Spark Context\n",
        "sc = spark.sparkContext"
      ],
      "execution_count": 0,
      "outputs": []
    },
    {
      "cell_type": "markdown",
      "metadata": {
        "id": "hnowgI--5fW7",
        "colab_type": "text"
      },
      "source": [
        "Trabajo Practico"
      ]
    },
    {
      "cell_type": "code",
      "metadata": {
        "id": "X6oOrIXT5ek2",
        "colab_type": "code",
        "outputId": "de97730e-0eb2-44b8-cc56-0f03943ca1ff",
        "colab": {
          "resources": {
            "http://localhost:8080/nbextensions/google.colab/files.js": {
              "data": "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",
              "ok": true,
              "headers": [
                [
                  "content-type",
                  "application/javascript"
                ]
              ],
              "status": 200,
              "status_text": ""
            }
          },
          "base_uri": "https://localhost:8080/",
          "height": 109
        }
      },
      "source": [
        "uploaded=files.upload()"
      ],
      "execution_count": 10,
      "outputs": [
        {
          "output_type": "display_data",
          "data": {
            "text/html": [
              "\n",
              "     <input type=\"file\" id=\"files-3f07e73e-f046-463d-b219-4ac133fa037c\" name=\"files[]\" multiple disabled />\n",
              "     <output id=\"result-3f07e73e-f046-463d-b219-4ac133fa037c\">\n",
              "      Upload widget is only available when the cell has been executed in the\n",
              "      current browser session. Please rerun this cell to enable.\n",
              "      </output>\n",
              "      <script src=\"/nbextensions/google.colab/files.js\"></script> "
            ],
            "text/plain": [
              "<IPython.core.display.HTML object>"
            ]
          },
          "metadata": {
            "tags": []
          }
        },
        {
          "output_type": "stream",
          "text": [
            "Saving traintp.csv to traintp (1).csv\n",
            "Saving twiter_with_data_location.csv to twiter_with_data_location (1).csv\n"
          ],
          "name": "stdout"
        }
      ]
    },
    {
      "cell_type": "markdown",
      "metadata": {
        "id": "rJ052v0JCQIe",
        "colab_type": "text"
      },
      "source": [
        "Obtencion Del CSV FREE DE NANO : Es funcion es para limpiar lo mas que se pueda aquellas Locaciones no validas"
      ]
    },
    {
      "cell_type": "code",
      "metadata": {
        "id": "Q7xugNSYNaQ8",
        "colab_type": "code",
        "colab": {}
      },
      "source": [
        "def quitaNoAlfaNum(texto):\n",
        "  words=re.compile(r'\\W+', re.UNICODE).split(texto)\n",
        "  word_total=\" \"\n",
        "  for word in words:\n",
        "   word_total=word_total + \" \" + word\n",
        "  return word_total"
      ],
      "execution_count": 0,
      "outputs": []
    },
    {
      "cell_type": "code",
      "metadata": {
        "id": "nzFgYXiICgjR",
        "colab_type": "code",
        "colab": {}
      },
      "source": [
        "twiter=df = pd.read_csv(io.StringIO(uploaded['twiter_with_data_location.csv'].decode('utf-8')))\n",
        "twiter[\"location_isnull\"]=twiter.location.isnull()\n",
        "twiter[\"location_free\"]=twiter.loc[twiter.location_isnull == False].location.transform(quitaNoAlfaNum)\n",
        "#twiter limpia#ndo sirecciones\n"
      ],
      "execution_count": 0,
      "outputs": []
    },
    {
      "cell_type": "markdown",
      "metadata": {
        "id": "cq5QOMXpamKo",
        "colab_type": "text"
      },
      "source": [
        "# Obtencion del Data Frame con Country - City - Longitude - Latitude"
      ]
    },
    {
      "cell_type": "code",
      "metadata": {
        "id": "injxZy6BCoBl",
        "colab_type": "code",
        "colab": {}
      },
      "source": [
        "#Esta funcion es para obtener los datos de loas locaciones de Data Frame\n",
        "#geolocator = Nominatim(user_agent=\"orga_datos\")\n",
        "#def getGeoData(x):\n",
        "#    l = geolocator.geocode(x, timeout=20)\n",
        "#    if l == None:\n",
        "#       return (None, None, None)\n",
        "#    return ([l.address, l.latitude, l.longitude])"
      ],
      "execution_count": 0,
      "outputs": []
    },
    {
      "cell_type": "markdown",
      "metadata": {
        "id": "8ClHRZHkbf_P",
        "colab_type": "text"
      },
      "source": [
        "Aca creo la columna address_latitude_longitude del data frame esta linea demora unos 40 min"
      ]
    },
    {
      "cell_type": "code",
      "metadata": {
        "id": "OwVZa4F-zv5p",
        "colab_type": "code",
        "colab": {}
      },
      "source": [
        "#twiter[\"address_latitude_longitude\"] = twiter.loc[(twiter.location_isnull == False)&(twiter.location_free.isnull() == False )].location_free.transform(lambda x: getGeoData(x))"
      ],
      "execution_count": 0,
      "outputs": []
    },
    {
      "cell_type": "code",
      "metadata": {
        "id": "uJjFJJ1XF6DF",
        "colab_type": "code",
        "colab": {}
      },
      "source": [
        "twiter_my=pd.read_csv(io.BytesIO(uploaded[\"twiter_with_data_location.csv\"]))"
      ],
      "execution_count": 0,
      "outputs": []
    },
    {
      "cell_type": "markdown",
      "metadata": {
        "id": "-zn8dMh0bq2D",
        "colab_type": "text"
      },
      "source": [
        "Obtengo las latidudes y longitudes "
      ]
    },
    {
      "cell_type": "code",
      "metadata": {
        "id": "OTCZHXJ2QbJE",
        "colab_type": "code",
        "colab": {}
      },
      "source": [
        "#def get_latitude(x):\n",
        "#  latidude = x[1]\n",
        "#  return latidude\n",
        "#def get_longitude(x):\n",
        "#  longitude = x[2]\n",
        "#  return longitude"
      ],
      "execution_count": 0,
      "outputs": []
    },
    {
      "cell_type": "code",
      "metadata": {
        "id": "TZORgo_q7g1l",
        "colab_type": "code",
        "colab": {}
      },
      "source": [
        "#twiter_my[\"latitude\"]=twiter_my.loc[(twiter_my.location_isnull == False)&(twiter_my.location_free.isnull() == False )].address_latitude_longitude.transform(get_latitude)\n",
        "#twiter_my[\"longitude\"]=twiter_my.loc[(twiter_my.location_isnull == False)&(twiter_my.location_free.isnull() == False )].address_latitude_longitude.transform(get_longitude)\n",
        "#twiter_my.loc[(twiter_my.location_isnull == False)&(twiter_my.location_free.isnull() == False )].head(3)"
      ],
      "execution_count": 0,
      "outputs": []
    },
    {
      "cell_type": "markdown",
      "metadata": {
        "id": "cbzWFrfIb7Oc",
        "colab_type": "text"
      },
      "source": [
        "Obtengo Country y City"
      ]
    },
    {
      "cell_type": "code",
      "metadata": {
        "id": "TVModmGMT8Do",
        "colab_type": "code",
        "colab": {}
      },
      "source": [
        "#def get_country(x):\n",
        "#  if x[0] == None:\n",
        "#    return None\n",
        "#  country=x[0].split(\",\")[-1]\n",
        "#  return country\n"
      ],
      "execution_count": 0,
      "outputs": []
    },
    {
      "cell_type": "code",
      "metadata": {
        "id": "dXB4DG6oYvt0",
        "colab_type": "code",
        "colab": {}
      },
      "source": [
        "#def get_city(x):\n",
        "#  if x[0] == None:\n",
        "#    return None\n",
        "#  city=x[0].split(\",\")[0]\n",
        "#  return city"
      ],
      "execution_count": 0,
      "outputs": []
    },
    {
      "cell_type": "code",
      "metadata": {
        "id": "u386OnhnY_Yg",
        "colab_type": "code",
        "colab": {}
      },
      "source": [
        "#twiter_my[\"city\"]=twiter_my.loc[(twiter_my.location_isnull == False)&(twiter_my.location_free.isnull() == False )].address_latitude_longitude.transform(get_city)\n",
        "#twiter_my[\"country\"]=twiter_my.loc[(twiter_my.location_isnull == False)&(twiter_my.location_free.isnull() == False )].address_latitude_longitude.transform(get_country)"
      ],
      "execution_count": 0,
      "outputs": []
    },
    {
      "cell_type": "code",
      "metadata": {
        "id": "mYno8rUDZWVz",
        "colab_type": "code",
        "colab": {}
      },
      "source": [
        "twiter_my.loc[(twiter_my.location_isnull == False)&(twiter_my.location_free.isnull() == False )].head(3)"
      ],
      "execution_count": 0,
      "outputs": []
    },
    {
      "cell_type": "markdown",
      "metadata": {
        "id": "OBKR8OqR6N4V",
        "colab_type": "text"
      },
      "source": [
        "Bool que me indica si algun campo de la locacion en nula para poder manejar el erro del geopandas"
      ]
    },
    {
      "cell_type": "code",
      "metadata": {
        "id": "98TVHw5ayLVk",
        "colab_type": "code",
        "colab": {}
      },
      "source": [
        "twiter_my[\"locacion_isnull\"]=twiter_my.location.isnull()\n",
        "#tweets_with_clean_location.head(5)"
      ],
      "execution_count": 0,
      "outputs": []
    },
    {
      "cell_type": "markdown",
      "metadata": {
        "id": "ssxkC5AIffv4",
        "colab_type": "text"
      },
      "source": [
        "Analisis de Sentimiento del texto\n"
      ]
    },
    {
      "cell_type": "code",
      "metadata": {
        "id": "vjOIfPhDyLV3",
        "colab_type": "code",
        "colab": {}
      },
      "source": [
        "def subjectivityText(x):\n",
        "  t=TextBlob(x)\n",
        "  return t.sentiment.subjectivity"
      ],
      "execution_count": 0,
      "outputs": []
    },
    {
      "cell_type": "code",
      "metadata": {
        "id": "LR_p-VB8hqIn",
        "colab_type": "code",
        "colab": {}
      },
      "source": [
        "def polarityText(x):\n",
        "  t=TextBlob(x)\n",
        "  return t.sentiment.polarity"
      ],
      "execution_count": 0,
      "outputs": []
    },
    {
      "cell_type": "code",
      "metadata": {
        "id": "Yq5vKHWWyLV5",
        "colab_type": "code",
        "colab": {}
      },
      "source": [
        "twiter_my[\"subjectivity_text\"]=twiter_my.loc[twiter_my.location_free.isnull()==False].text.transform(subjectivityText)"
      ],
      "execution_count": 0,
      "outputs": []
    },
    {
      "cell_type": "code",
      "metadata": {
        "id": "j8dgq84siCyP",
        "colab_type": "code",
        "colab": {}
      },
      "source": [
        "twiter_my[\"polarity_text\"]=twiter_my.loc[twiter_my.location_free.isnull()==False].text.transform(polarityText)"
      ],
      "execution_count": 0,
      "outputs": []
    },
    {
      "cell_type": "code",
      "metadata": {
        "id": "CdkpaURU233w",
        "colab_type": "code",
        "colab": {}
      },
      "source": [
        "def pos(x):\n",
        "  count =0\n",
        "  for y in x :\n",
        "    if(y>0):\n",
        "      count=count+1\n",
        "  return count"
      ],
      "execution_count": 0,
      "outputs": []
    },
    {
      "cell_type": "code",
      "metadata": {
        "id": "pOQmHfvj5o4w",
        "colab_type": "code",
        "colab": {}
      },
      "source": [
        "def neg(x):\n",
        "  count =0\n",
        "  for y in x :\n",
        "    if(y<0):\n",
        "      count=count+1\n",
        "  return count"
      ],
      "execution_count": 0,
      "outputs": []
    },
    {
      "cell_type": "code",
      "metadata": {
        "id": "ACuXqSYj5pBm",
        "colab_type": "code",
        "colab": {}
      },
      "source": [
        "def neu(x):\n",
        "  count =0\n",
        "  for y in x :\n",
        "    if(y==0):\n",
        "      count=count+1\n",
        "  return count"
      ],
      "execution_count": 0,
      "outputs": []
    },
    {
      "cell_type": "code",
      "metadata": {
        "id": "-hxhUPV4yLV7",
        "colab_type": "code",
        "outputId": "95b9f74a-28dc-4f15-8e87-faf068af5813",
        "colab": {
          "base_uri": "https://localhost:8080/",
          "height": 477
        }
      },
      "source": [
        "twiter_my_polarity=twiter_my.loc[twiter_my.location_free.isnull()==False].groupby(\"country\").agg({\"polarity_text\":[pos,neg,neu,\"mean\",\"max\",\"min\"],\"text\":[\"count\"]})\n",
        "#.sort_values(by=['polarity_text'],ascending=False)\n",
        "twiter_my_polarity"
      ],
      "execution_count": 25,
      "outputs": [
        {
          "output_type": "execute_result",
          "data": {
            "text/html": [
              "<div>\n",
              "<style scoped>\n",
              "    .dataframe tbody tr th:only-of-type {\n",
              "        vertical-align: middle;\n",
              "    }\n",
              "\n",
              "    .dataframe tbody tr th {\n",
              "        vertical-align: top;\n",
              "    }\n",
              "\n",
              "    .dataframe thead tr th {\n",
              "        text-align: left;\n",
              "    }\n",
              "\n",
              "    .dataframe thead tr:last-of-type th {\n",
              "        text-align: right;\n",
              "    }\n",
              "</style>\n",
              "<table border=\"1\" class=\"dataframe\">\n",
              "  <thead>\n",
              "    <tr>\n",
              "      <th></th>\n",
              "      <th colspan=\"6\" halign=\"left\">polarity_text</th>\n",
              "      <th>text</th>\n",
              "    </tr>\n",
              "    <tr>\n",
              "      <th></th>\n",
              "      <th>pos</th>\n",
              "      <th>neg</th>\n",
              "      <th>neu</th>\n",
              "      <th>mean</th>\n",
              "      <th>max</th>\n",
              "      <th>min</th>\n",
              "      <th>count</th>\n",
              "    </tr>\n",
              "    <tr>\n",
              "      <th>country</th>\n",
              "      <th></th>\n",
              "      <th></th>\n",
              "      <th></th>\n",
              "      <th></th>\n",
              "      <th></th>\n",
              "      <th></th>\n",
              "      <th></th>\n",
              "    </tr>\n",
              "  </thead>\n",
              "  <tbody>\n",
              "    <tr>\n",
              "      <th>Argentina</th>\n",
              "      <td>4.0</td>\n",
              "      <td>1.0</td>\n",
              "      <td>7.0</td>\n",
              "      <td>0.027778</td>\n",
              "      <td>0.300000</td>\n",
              "      <td>-0.200000</td>\n",
              "      <td>12</td>\n",
              "    </tr>\n",
              "    <tr>\n",
              "      <th>Armenia</th>\n",
              "      <td>1.0</td>\n",
              "      <td>0.0</td>\n",
              "      <td>0.0</td>\n",
              "      <td>0.003788</td>\n",
              "      <td>0.003788</td>\n",
              "      <td>0.003788</td>\n",
              "      <td>1</td>\n",
              "    </tr>\n",
              "    <tr>\n",
              "      <th>Australia</th>\n",
              "      <td>28.0</td>\n",
              "      <td>26.0</td>\n",
              "      <td>48.0</td>\n",
              "      <td>0.001320</td>\n",
              "      <td>0.850000</td>\n",
              "      <td>-1.000000</td>\n",
              "      <td>102</td>\n",
              "    </tr>\n",
              "    <tr>\n",
              "      <th>Bangladesh</th>\n",
              "      <td>2.0</td>\n",
              "      <td>0.0</td>\n",
              "      <td>1.0</td>\n",
              "      <td>0.133333</td>\n",
              "      <td>0.300000</td>\n",
              "      <td>0.000000</td>\n",
              "      <td>3</td>\n",
              "    </tr>\n",
              "    <tr>\n",
              "      <th>Barbados</th>\n",
              "      <td>2.0</td>\n",
              "      <td>0.0</td>\n",
              "      <td>1.0</td>\n",
              "      <td>0.066667</td>\n",
              "      <td>0.100000</td>\n",
              "      <td>0.000000</td>\n",
              "      <td>3</td>\n",
              "    </tr>\n",
              "    <tr>\n",
              "      <th>...</th>\n",
              "      <td>...</td>\n",
              "      <td>...</td>\n",
              "      <td>...</td>\n",
              "      <td>...</td>\n",
              "      <td>...</td>\n",
              "      <td>...</td>\n",
              "      <td>...</td>\n",
              "    </tr>\n",
              "    <tr>\n",
              "      <th>ประเทศไทย</th>\n",
              "      <td>1.0</td>\n",
              "      <td>0.0</td>\n",
              "      <td>2.0</td>\n",
              "      <td>0.003968</td>\n",
              "      <td>0.011905</td>\n",
              "      <td>0.000000</td>\n",
              "      <td>3</td>\n",
              "    </tr>\n",
              "    <tr>\n",
              "      <th>ປະເທດລາວ</th>\n",
              "      <td>3.0</td>\n",
              "      <td>0.0</td>\n",
              "      <td>3.0</td>\n",
              "      <td>0.127778</td>\n",
              "      <td>0.500000</td>\n",
              "      <td>0.000000</td>\n",
              "      <td>6</td>\n",
              "    </tr>\n",
              "    <tr>\n",
              "      <th>中国</th>\n",
              "      <td>7.0</td>\n",
              "      <td>0.0</td>\n",
              "      <td>0.0</td>\n",
              "      <td>0.294079</td>\n",
              "      <td>0.535714</td>\n",
              "      <td>0.034091</td>\n",
              "      <td>7</td>\n",
              "    </tr>\n",
              "    <tr>\n",
              "      <th>日本</th>\n",
              "      <td>2.0</td>\n",
              "      <td>1.0</td>\n",
              "      <td>2.0</td>\n",
              "      <td>0.131310</td>\n",
              "      <td>0.535714</td>\n",
              "      <td>-0.250000</td>\n",
              "      <td>5</td>\n",
              "    </tr>\n",
              "    <tr>\n",
              "      <th>대한민국</th>\n",
              "      <td>1.0</td>\n",
              "      <td>0.0</td>\n",
              "      <td>1.0</td>\n",
              "      <td>0.017045</td>\n",
              "      <td>0.034091</td>\n",
              "      <td>0.000000</td>\n",
              "      <td>2</td>\n",
              "    </tr>\n",
              "  </tbody>\n",
              "</table>\n",
              "<p>185 rows × 7 columns</p>\n",
              "</div>"
            ],
            "text/plain": [
              "            polarity_text                                            text\n",
              "                      pos   neg   neu      mean       max       min count\n",
              "country                                                                  \n",
              " Argentina            4.0   1.0   7.0  0.027778  0.300000 -0.200000    12\n",
              " Armenia              1.0   0.0   0.0  0.003788  0.003788  0.003788     1\n",
              " Australia           28.0  26.0  48.0  0.001320  0.850000 -1.000000   102\n",
              " Bangladesh           2.0   0.0   1.0  0.133333  0.300000  0.000000     3\n",
              " Barbados             2.0   0.0   1.0  0.066667  0.100000  0.000000     3\n",
              "...                   ...   ...   ...       ...       ...       ...   ...\n",
              "ประเทศไทย             1.0   0.0   2.0  0.003968  0.011905  0.000000     3\n",
              "ປະເທດລາວ              3.0   0.0   3.0  0.127778  0.500000  0.000000     6\n",
              "中国                    7.0   0.0   0.0  0.294079  0.535714  0.034091     7\n",
              "日本                    2.0   1.0   2.0  0.131310  0.535714 -0.250000     5\n",
              "대한민국                  1.0   0.0   1.0  0.017045  0.034091  0.000000     2\n",
              "\n",
              "[185 rows x 7 columns]"
            ]
          },
          "metadata": {
            "tags": []
          },
          "execution_count": 25
        }
      ]
    },
    {
      "cell_type": "code",
      "metadata": {
        "id": "jFnGdK_I6lfM",
        "colab_type": "code",
        "colab": {}
      },
      "source": [
        "level0=twiter_my_polarity.columns.get_level_values(0)\n",
        "level1=twiter_my_polarity.columns.get_level_values(1)\n",
        "twiter_my_polarity.columns=level0 + \"_\" + level1\n",
        "twiter_my_polarity.reset_index(inplace=True)"
      ],
      "execution_count": 0,
      "outputs": []
    },
    {
      "cell_type": "code",
      "metadata": {
        "id": "wQCDeKzq6qRM",
        "colab_type": "code",
        "outputId": "0cdf86a0-84a3-4410-eeb6-56687455de0d",
        "colab": {
          "base_uri": "https://localhost:8080/",
          "height": 416
        }
      },
      "source": [
        "#twiter_my_polarity_subjectivity.sort_values(by=['polarity_text_pos'],ascending=False)\n",
        "twiter_my_polarity"
      ],
      "execution_count": 27,
      "outputs": [
        {
          "output_type": "execute_result",
          "data": {
            "text/html": [
              "<div>\n",
              "<style scoped>\n",
              "    .dataframe tbody tr th:only-of-type {\n",
              "        vertical-align: middle;\n",
              "    }\n",
              "\n",
              "    .dataframe tbody tr th {\n",
              "        vertical-align: top;\n",
              "    }\n",
              "\n",
              "    .dataframe thead th {\n",
              "        text-align: right;\n",
              "    }\n",
              "</style>\n",
              "<table border=\"1\" class=\"dataframe\">\n",
              "  <thead>\n",
              "    <tr style=\"text-align: right;\">\n",
              "      <th></th>\n",
              "      <th>country</th>\n",
              "      <th>polarity_text_pos</th>\n",
              "      <th>polarity_text_neg</th>\n",
              "      <th>polarity_text_neu</th>\n",
              "      <th>polarity_text_mean</th>\n",
              "      <th>polarity_text_max</th>\n",
              "      <th>polarity_text_min</th>\n",
              "      <th>text_count</th>\n",
              "    </tr>\n",
              "  </thead>\n",
              "  <tbody>\n",
              "    <tr>\n",
              "      <th>0</th>\n",
              "      <td>Argentina</td>\n",
              "      <td>4.0</td>\n",
              "      <td>1.0</td>\n",
              "      <td>7.0</td>\n",
              "      <td>0.027778</td>\n",
              "      <td>0.300000</td>\n",
              "      <td>-0.200000</td>\n",
              "      <td>12</td>\n",
              "    </tr>\n",
              "    <tr>\n",
              "      <th>1</th>\n",
              "      <td>Armenia</td>\n",
              "      <td>1.0</td>\n",
              "      <td>0.0</td>\n",
              "      <td>0.0</td>\n",
              "      <td>0.003788</td>\n",
              "      <td>0.003788</td>\n",
              "      <td>0.003788</td>\n",
              "      <td>1</td>\n",
              "    </tr>\n",
              "    <tr>\n",
              "      <th>2</th>\n",
              "      <td>Australia</td>\n",
              "      <td>28.0</td>\n",
              "      <td>26.0</td>\n",
              "      <td>48.0</td>\n",
              "      <td>0.001320</td>\n",
              "      <td>0.850000</td>\n",
              "      <td>-1.000000</td>\n",
              "      <td>102</td>\n",
              "    </tr>\n",
              "    <tr>\n",
              "      <th>3</th>\n",
              "      <td>Bangladesh</td>\n",
              "      <td>2.0</td>\n",
              "      <td>0.0</td>\n",
              "      <td>1.0</td>\n",
              "      <td>0.133333</td>\n",
              "      <td>0.300000</td>\n",
              "      <td>0.000000</td>\n",
              "      <td>3</td>\n",
              "    </tr>\n",
              "    <tr>\n",
              "      <th>4</th>\n",
              "      <td>Barbados</td>\n",
              "      <td>2.0</td>\n",
              "      <td>0.0</td>\n",
              "      <td>1.0</td>\n",
              "      <td>0.066667</td>\n",
              "      <td>0.100000</td>\n",
              "      <td>0.000000</td>\n",
              "      <td>3</td>\n",
              "    </tr>\n",
              "    <tr>\n",
              "      <th>...</th>\n",
              "      <td>...</td>\n",
              "      <td>...</td>\n",
              "      <td>...</td>\n",
              "      <td>...</td>\n",
              "      <td>...</td>\n",
              "      <td>...</td>\n",
              "      <td>...</td>\n",
              "      <td>...</td>\n",
              "    </tr>\n",
              "    <tr>\n",
              "      <th>180</th>\n",
              "      <td>ประเทศไทย</td>\n",
              "      <td>1.0</td>\n",
              "      <td>0.0</td>\n",
              "      <td>2.0</td>\n",
              "      <td>0.003968</td>\n",
              "      <td>0.011905</td>\n",
              "      <td>0.000000</td>\n",
              "      <td>3</td>\n",
              "    </tr>\n",
              "    <tr>\n",
              "      <th>181</th>\n",
              "      <td>ປະເທດລາວ</td>\n",
              "      <td>3.0</td>\n",
              "      <td>0.0</td>\n",
              "      <td>3.0</td>\n",
              "      <td>0.127778</td>\n",
              "      <td>0.500000</td>\n",
              "      <td>0.000000</td>\n",
              "      <td>6</td>\n",
              "    </tr>\n",
              "    <tr>\n",
              "      <th>182</th>\n",
              "      <td>中国</td>\n",
              "      <td>7.0</td>\n",
              "      <td>0.0</td>\n",
              "      <td>0.0</td>\n",
              "      <td>0.294079</td>\n",
              "      <td>0.535714</td>\n",
              "      <td>0.034091</td>\n",
              "      <td>7</td>\n",
              "    </tr>\n",
              "    <tr>\n",
              "      <th>183</th>\n",
              "      <td>日本</td>\n",
              "      <td>2.0</td>\n",
              "      <td>1.0</td>\n",
              "      <td>2.0</td>\n",
              "      <td>0.131310</td>\n",
              "      <td>0.535714</td>\n",
              "      <td>-0.250000</td>\n",
              "      <td>5</td>\n",
              "    </tr>\n",
              "    <tr>\n",
              "      <th>184</th>\n",
              "      <td>대한민국</td>\n",
              "      <td>1.0</td>\n",
              "      <td>0.0</td>\n",
              "      <td>1.0</td>\n",
              "      <td>0.017045</td>\n",
              "      <td>0.034091</td>\n",
              "      <td>0.000000</td>\n",
              "      <td>2</td>\n",
              "    </tr>\n",
              "  </tbody>\n",
              "</table>\n",
              "<p>185 rows × 8 columns</p>\n",
              "</div>"
            ],
            "text/plain": [
              "         country  polarity_text_pos  ...  polarity_text_min  text_count\n",
              "0      Argentina                4.0  ...          -0.200000          12\n",
              "1        Armenia                1.0  ...           0.003788           1\n",
              "2      Australia               28.0  ...          -1.000000         102\n",
              "3     Bangladesh                2.0  ...           0.000000           3\n",
              "4       Barbados                2.0  ...           0.000000           3\n",
              "..           ...                ...  ...                ...         ...\n",
              "180    ประเทศไทย                1.0  ...           0.000000           3\n",
              "181     ປະເທດລາວ                3.0  ...           0.000000           6\n",
              "182           中国                7.0  ...           0.034091           7\n",
              "183           日本                2.0  ...          -0.250000           5\n",
              "184         대한민국                1.0  ...           0.000000           2\n",
              "\n",
              "[185 rows x 8 columns]"
            ]
          },
          "metadata": {
            "tags": []
          },
          "execution_count": 27
        }
      ]
    },
    {
      "cell_type": "code",
      "metadata": {
        "id": "H3D0Ve_qyLV9",
        "colab_type": "code",
        "outputId": "d03f12ff-2fbd-49e0-fab9-dd4c6d43af1f",
        "colab": {
          "base_uri": "https://localhost:8080/",
          "height": 1000
        }
      },
      "source": [
        "import matplotlib.pyplot as plt\n",
        "fig, ax = plt.subplots(figsize = (30, 20))\n",
        "sns.distplot(twiter_my.loc[twiter_my.location_free.isnull()==False][\"subjectivity_text\"],ax = ax,hist=False)\n",
        "sns.distplot(twiter_my.loc[twiter_my.location_free.isnull()==False][\"polarity_text\"],ax = ax,hist=False)"
      ],
      "execution_count": 28,
      "outputs": [
        {
          "output_type": "execute_result",
          "data": {
            "text/plain": [
              "<matplotlib.axes._subplots.AxesSubplot at 0x7f40cc7bf2e8>"
            ]
          },
          "metadata": {
            "tags": []
          },
          "execution_count": 28
        },
        {
          "output_type": "display_data",
          "data": {
            "image/png": "[encoded data removed]",
            "text/plain": [
              "<Figure size 2160x1440 with 1 Axes>"
            ]
          },
          "metadata": {
            "tags": [],
            "needs_background": "light"
          }
        }
      ]
    },
    {
      "cell_type": "code",
      "metadata": {
        "id": "LMvNDB5rnhBt",
        "colab_type": "code",
        "colab": {
          "base_uri": "https://localhost:8080/",
          "height": 356
        },
        "outputId": "cfbe8de8-3c10-476d-ffc9-04df3ed18fcf"
      },
      "source": [
        "twiter_my_polarity_top10=twiter_my_polarity.sort_values(by=['polarity_text_pos'],ascending=False).head(10)\n",
        "twiter_my_polarity_top10"
      ],
      "execution_count": 30,
      "outputs": [
        {
          "output_type": "execute_result",
          "data": {
            "text/html": [
              "<div>\n",
              "<style scoped>\n",
              "    .dataframe tbody tr th:only-of-type {\n",
              "        vertical-align: middle;\n",
              "    }\n",
              "\n",
              "    .dataframe tbody tr th {\n",
              "        vertical-align: top;\n",
              "    }\n",
              "\n",
              "    .dataframe thead th {\n",
              "        text-align: right;\n",
              "    }\n",
              "</style>\n",
              "<table border=\"1\" class=\"dataframe\">\n",
              "  <thead>\n",
              "    <tr style=\"text-align: right;\">\n",
              "      <th></th>\n",
              "      <th>country</th>\n",
              "      <th>polarity_text_pos</th>\n",
              "      <th>polarity_text_neg</th>\n",
              "      <th>polarity_text_neu</th>\n",
              "      <th>polarity_text_mean</th>\n",
              "      <th>polarity_text_max</th>\n",
              "      <th>polarity_text_min</th>\n",
              "      <th>text_count</th>\n",
              "    </tr>\n",
              "  </thead>\n",
              "  <tbody>\n",
              "    <tr>\n",
              "      <th>84</th>\n",
              "      <td>United States of America</td>\n",
              "      <td>669.0</td>\n",
              "      <td>390.0</td>\n",
              "      <td>841.0</td>\n",
              "      <td>0.056509</td>\n",
              "      <td>1.00</td>\n",
              "      <td>-1.000000</td>\n",
              "      <td>1900</td>\n",
              "    </tr>\n",
              "    <tr>\n",
              "      <th>83</th>\n",
              "      <td>United Kingdom</td>\n",
              "      <td>143.0</td>\n",
              "      <td>92.0</td>\n",
              "      <td>184.0</td>\n",
              "      <td>0.038399</td>\n",
              "      <td>1.00</td>\n",
              "      <td>-1.000000</td>\n",
              "      <td>419</td>\n",
              "    </tr>\n",
              "    <tr>\n",
              "      <th>10</th>\n",
              "      <td>Canada</td>\n",
              "      <td>74.0</td>\n",
              "      <td>47.0</td>\n",
              "      <td>104.0</td>\n",
              "      <td>0.075309</td>\n",
              "      <td>1.00</td>\n",
              "      <td>-0.800000</td>\n",
              "      <td>225</td>\n",
              "    </tr>\n",
              "    <tr>\n",
              "      <th>28</th>\n",
              "      <td>India</td>\n",
              "      <td>49.0</td>\n",
              "      <td>22.0</td>\n",
              "      <td>40.0</td>\n",
              "      <td>0.077690</td>\n",
              "      <td>0.80</td>\n",
              "      <td>-1.000000</td>\n",
              "      <td>111</td>\n",
              "    </tr>\n",
              "    <tr>\n",
              "      <th>157</th>\n",
              "      <td>United States</td>\n",
              "      <td>37.0</td>\n",
              "      <td>40.0</td>\n",
              "      <td>94.0</td>\n",
              "      <td>0.034430</td>\n",
              "      <td>0.70</td>\n",
              "      <td>-0.800000</td>\n",
              "      <td>171</td>\n",
              "    </tr>\n",
              "    <tr>\n",
              "      <th>2</th>\n",
              "      <td>Australia</td>\n",
              "      <td>28.0</td>\n",
              "      <td>26.0</td>\n",
              "      <td>48.0</td>\n",
              "      <td>0.001320</td>\n",
              "      <td>0.85</td>\n",
              "      <td>-1.000000</td>\n",
              "      <td>102</td>\n",
              "    </tr>\n",
              "    <tr>\n",
              "      <th>56</th>\n",
              "      <td>Philippines</td>\n",
              "      <td>20.0</td>\n",
              "      <td>6.0</td>\n",
              "      <td>13.0</td>\n",
              "      <td>0.159063</td>\n",
              "      <td>1.00</td>\n",
              "      <td>-0.200000</td>\n",
              "      <td>39</td>\n",
              "    </tr>\n",
              "    <tr>\n",
              "      <th>131</th>\n",
              "      <td>Kenya</td>\n",
              "      <td>18.0</td>\n",
              "      <td>2.0</td>\n",
              "      <td>1.0</td>\n",
              "      <td>0.053583</td>\n",
              "      <td>0.20</td>\n",
              "      <td>-0.511111</td>\n",
              "      <td>21</td>\n",
              "    </tr>\n",
              "    <tr>\n",
              "      <th>156</th>\n",
              "      <td>United Kingdom</td>\n",
              "      <td>16.0</td>\n",
              "      <td>12.0</td>\n",
              "      <td>19.0</td>\n",
              "      <td>0.070309</td>\n",
              "      <td>1.00</td>\n",
              "      <td>-0.900000</td>\n",
              "      <td>47</td>\n",
              "    </tr>\n",
              "    <tr>\n",
              "      <th>137</th>\n",
              "      <td>Nigeria</td>\n",
              "      <td>13.0</td>\n",
              "      <td>5.0</td>\n",
              "      <td>17.0</td>\n",
              "      <td>0.038452</td>\n",
              "      <td>0.50</td>\n",
              "      <td>-0.250000</td>\n",
              "      <td>35</td>\n",
              "    </tr>\n",
              "  </tbody>\n",
              "</table>\n",
              "</div>"
            ],
            "text/plain": [
              "                       country  ...  text_count\n",
              "84    United States of America  ...        1900\n",
              "83              United Kingdom  ...         419\n",
              "10                      Canada  ...         225\n",
              "28                       India  ...         111\n",
              "157              United States  ...         171\n",
              "2                    Australia  ...         102\n",
              "56                 Philippines  ...          39\n",
              "131                      Kenya  ...          21\n",
              "156             United Kingdom  ...          47\n",
              "137                    Nigeria  ...          35\n",
              "\n",
              "[10 rows x 8 columns]"
            ]
          },
          "metadata": {
            "tags": []
          },
          "execution_count": 30
        }
      ]
    },
    {
      "cell_type": "code",
      "metadata": {
        "id": "9h1YGdYrSYom",
        "colab_type": "code",
        "colab": {
          "base_uri": "https://localhost:8080/",
          "height": 296
        },
        "outputId": "b4f15a2e-4f9c-493b-e7a7-45b8682e4114"
      },
      "source": [
        "#sns.factorplot(\"country\", hue=\"country\", x_order=[\"polarity_text_pos\", \"polarity_text_neg\", \"polarity_text_neu\"], data=twiter_my_polarity, palette=\"Paired\")\n",
        "sns.barplot(x = 'country', y = 'text_count', hue = 'country', data = twiter_my_polarity_top10,\n",
        "            palette = 'hls',\n",
        "            capsize = 0.05,             \n",
        "            saturation = 8,             \n",
        "            errcolor = 'gray', errwidth = 2,  \n",
        "            ci = 'sd'   \n",
        "            )"
      ],
      "execution_count": 35,
      "outputs": [
        {
          "output_type": "execute_result",
          "data": {
            "text/plain": [
              "<matplotlib.axes._subplots.AxesSubplot at 0x7f40720ca668>"
            ]
          },
          "metadata": {
            "tags": []
          },
          "execution_count": 35
        },
        {
          "output_type": "display_data",
          "data": {
            "image/png": "[encoded data removed]",
            "text/plain": [
              "<Figure size 432x288 with 1 Axes>"
            ]
          },
          "metadata": {
            "tags": [],
            "needs_background": "light"
          }
        }
      ]
    }
  ]
}