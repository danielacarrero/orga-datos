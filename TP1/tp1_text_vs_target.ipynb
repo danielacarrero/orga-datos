{
 "cells": [
  {
   "cell_type": "code",
   "execution_count": 907,
   "metadata": {},
   "outputs": [
    {
     "data": {
      "text/html": [
       "<div>\n",
       "<style scoped>\n",
       "    .dataframe tbody tr th:only-of-type {\n",
       "        vertical-align: middle;\n",
       "    }\n",
       "\n",
       "    .dataframe tbody tr th {\n",
       "        vertical-align: top;\n",
       "    }\n",
       "\n",
       "    .dataframe thead th {\n",
       "        text-align: right;\n",
       "    }\n",
       "</style>\n",
       "<table border=\"1\" class=\"dataframe\">\n",
       "  <thead>\n",
       "    <tr style=\"text-align: right;\">\n",
       "      <th></th>\n",
       "      <th>id</th>\n",
       "      <th>keyword</th>\n",
       "      <th>location</th>\n",
       "      <th>text</th>\n",
       "      <th>target</th>\n",
       "    </tr>\n",
       "  </thead>\n",
       "  <tbody>\n",
       "    <tr>\n",
       "      <th>0</th>\n",
       "      <td>1</td>\n",
       "      <td>NaN</td>\n",
       "      <td>NaN</td>\n",
       "      <td>Our Deeds are the Reason of this #earthquake M...</td>\n",
       "      <td>1</td>\n",
       "    </tr>\n",
       "    <tr>\n",
       "      <th>1</th>\n",
       "      <td>4</td>\n",
       "      <td>NaN</td>\n",
       "      <td>NaN</td>\n",
       "      <td>Forest fire near La Ronge Sask. Canada</td>\n",
       "      <td>1</td>\n",
       "    </tr>\n",
       "    <tr>\n",
       "      <th>2</th>\n",
       "      <td>5</td>\n",
       "      <td>NaN</td>\n",
       "      <td>NaN</td>\n",
       "      <td>All residents asked to 'shelter in place' are ...</td>\n",
       "      <td>1</td>\n",
       "    </tr>\n",
       "    <tr>\n",
       "      <th>3</th>\n",
       "      <td>6</td>\n",
       "      <td>NaN</td>\n",
       "      <td>NaN</td>\n",
       "      <td>13,000 people receive #wildfires evacuation or...</td>\n",
       "      <td>1</td>\n",
       "    </tr>\n",
       "    <tr>\n",
       "      <th>4</th>\n",
       "      <td>7</td>\n",
       "      <td>NaN</td>\n",
       "      <td>NaN</td>\n",
       "      <td>Just got sent this photo from Ruby #Alaska as ...</td>\n",
       "      <td>1</td>\n",
       "    </tr>\n",
       "    <tr>\n",
       "      <th>...</th>\n",
       "      <td>...</td>\n",
       "      <td>...</td>\n",
       "      <td>...</td>\n",
       "      <td>...</td>\n",
       "      <td>...</td>\n",
       "    </tr>\n",
       "    <tr>\n",
       "      <th>7608</th>\n",
       "      <td>10869</td>\n",
       "      <td>NaN</td>\n",
       "      <td>NaN</td>\n",
       "      <td>Two giant cranes holding a bridge collapse int...</td>\n",
       "      <td>1</td>\n",
       "    </tr>\n",
       "    <tr>\n",
       "      <th>7609</th>\n",
       "      <td>10870</td>\n",
       "      <td>NaN</td>\n",
       "      <td>NaN</td>\n",
       "      <td>@aria_ahrary @TheTawniest The out of control w...</td>\n",
       "      <td>1</td>\n",
       "    </tr>\n",
       "    <tr>\n",
       "      <th>7610</th>\n",
       "      <td>10871</td>\n",
       "      <td>NaN</td>\n",
       "      <td>NaN</td>\n",
       "      <td>M1.94 [01:04 UTC]?5km S of Volcano Hawaii. htt...</td>\n",
       "      <td>1</td>\n",
       "    </tr>\n",
       "    <tr>\n",
       "      <th>7611</th>\n",
       "      <td>10872</td>\n",
       "      <td>NaN</td>\n",
       "      <td>NaN</td>\n",
       "      <td>Police investigating after an e-bike collided ...</td>\n",
       "      <td>1</td>\n",
       "    </tr>\n",
       "    <tr>\n",
       "      <th>7612</th>\n",
       "      <td>10873</td>\n",
       "      <td>NaN</td>\n",
       "      <td>NaN</td>\n",
       "      <td>The Latest: More Homes Razed by Northern Calif...</td>\n",
       "      <td>1</td>\n",
       "    </tr>\n",
       "  </tbody>\n",
       "</table>\n",
       "<p>7613 rows × 5 columns</p>\n",
       "</div>"
      ],
      "text/plain": [
       "         id keyword location  \\\n",
       "0         1     NaN      NaN   \n",
       "1         4     NaN      NaN   \n",
       "2         5     NaN      NaN   \n",
       "3         6     NaN      NaN   \n",
       "4         7     NaN      NaN   \n",
       "...     ...     ...      ...   \n",
       "7608  10869     NaN      NaN   \n",
       "7609  10870     NaN      NaN   \n",
       "7610  10871     NaN      NaN   \n",
       "7611  10872     NaN      NaN   \n",
       "7612  10873     NaN      NaN   \n",
       "\n",
       "                                                   text  target  \n",
       "0     Our Deeds are the Reason of this #earthquake M...       1  \n",
       "1                Forest fire near La Ronge Sask. Canada       1  \n",
       "2     All residents asked to 'shelter in place' are ...       1  \n",
       "3     13,000 people receive #wildfires evacuation or...       1  \n",
       "4     Just got sent this photo from Ruby #Alaska as ...       1  \n",
       "...                                                 ...     ...  \n",
       "7608  Two giant cranes holding a bridge collapse int...       1  \n",
       "7609  @aria_ahrary @TheTawniest The out of control w...       1  \n",
       "7610  M1.94 [01:04 UTC]?5km S of Volcano Hawaii. htt...       1  \n",
       "7611  Police investigating after an e-bike collided ...       1  \n",
       "7612  The Latest: More Homes Razed by Northern Calif...       1  \n",
       "\n",
       "[7613 rows x 5 columns]"
      ]
     },
     "execution_count": 907,
     "metadata": {},
     "output_type": "execute_result"
    }
   ],
   "source": [
    "import pandas as pd\n",
    "import seaborn as sns\n",
    "import matplotlib.pyplot as plt\n",
    "import numpy as np\n",
    "from matplotlib import rcParams\n",
    "\n",
    "tweets = pd.read_csv('train.csv')\n",
    "#vista previa de datos\n",
    "tweets"
   ]
  },
  {
   "cell_type": "code",
   "execution_count": 908,
   "metadata": {
    "scrolled": true
   },
   "outputs": [
    {
     "data": {
      "text/html": [
       "<div>\n",
       "<style scoped>\n",
       "    .dataframe tbody tr th:only-of-type {\n",
       "        vertical-align: middle;\n",
       "    }\n",
       "\n",
       "    .dataframe tbody tr th {\n",
       "        vertical-align: top;\n",
       "    }\n",
       "\n",
       "    .dataframe thead th {\n",
       "        text-align: right;\n",
       "    }\n",
       "</style>\n",
       "<table border=\"1\" class=\"dataframe\">\n",
       "  <thead>\n",
       "    <tr style=\"text-align: right;\">\n",
       "      <th></th>\n",
       "      <th>text</th>\n",
       "      <th>target</th>\n",
       "    </tr>\n",
       "  </thead>\n",
       "  <tbody>\n",
       "    <tr>\n",
       "      <th>0</th>\n",
       "      <td>Our Deeds are the Reason of this #earthquake M...</td>\n",
       "      <td>True</td>\n",
       "    </tr>\n",
       "    <tr>\n",
       "      <th>1</th>\n",
       "      <td>Forest fire near La Ronge Sask. Canada</td>\n",
       "      <td>True</td>\n",
       "    </tr>\n",
       "    <tr>\n",
       "      <th>2</th>\n",
       "      <td>All residents asked to 'shelter in place' are ...</td>\n",
       "      <td>True</td>\n",
       "    </tr>\n",
       "    <tr>\n",
       "      <th>3</th>\n",
       "      <td>13,000 people receive #wildfires evacuation or...</td>\n",
       "      <td>True</td>\n",
       "    </tr>\n",
       "    <tr>\n",
       "      <th>4</th>\n",
       "      <td>Just got sent this photo from Ruby #Alaska as ...</td>\n",
       "      <td>True</td>\n",
       "    </tr>\n",
       "    <tr>\n",
       "      <th>...</th>\n",
       "      <td>...</td>\n",
       "      <td>...</td>\n",
       "    </tr>\n",
       "    <tr>\n",
       "      <th>7608</th>\n",
       "      <td>Two giant cranes holding a bridge collapse int...</td>\n",
       "      <td>True</td>\n",
       "    </tr>\n",
       "    <tr>\n",
       "      <th>7609</th>\n",
       "      <td>@aria_ahrary @TheTawniest The out of control w...</td>\n",
       "      <td>True</td>\n",
       "    </tr>\n",
       "    <tr>\n",
       "      <th>7610</th>\n",
       "      <td>M1.94 [01:04 UTC]?5km S of Volcano Hawaii. htt...</td>\n",
       "      <td>True</td>\n",
       "    </tr>\n",
       "    <tr>\n",
       "      <th>7611</th>\n",
       "      <td>Police investigating after an e-bike collided ...</td>\n",
       "      <td>True</td>\n",
       "    </tr>\n",
       "    <tr>\n",
       "      <th>7612</th>\n",
       "      <td>The Latest: More Homes Razed by Northern Calif...</td>\n",
       "      <td>True</td>\n",
       "    </tr>\n",
       "  </tbody>\n",
       "</table>\n",
       "<p>7613 rows × 2 columns</p>\n",
       "</div>"
      ],
      "text/plain": [
       "                                                   text  target\n",
       "0     Our Deeds are the Reason of this #earthquake M...    True\n",
       "1                Forest fire near La Ronge Sask. Canada    True\n",
       "2     All residents asked to 'shelter in place' are ...    True\n",
       "3     13,000 people receive #wildfires evacuation or...    True\n",
       "4     Just got sent this photo from Ruby #Alaska as ...    True\n",
       "...                                                 ...     ...\n",
       "7608  Two giant cranes holding a bridge collapse int...    True\n",
       "7609  @aria_ahrary @TheTawniest The out of control w...    True\n",
       "7610  M1.94 [01:04 UTC]?5km S of Volcano Hawaii. htt...    True\n",
       "7611  Police investigating after an e-bike collided ...    True\n",
       "7612  The Latest: More Homes Razed by Northern Calif...    True\n",
       "\n",
       "[7613 rows x 2 columns]"
      ]
     },
     "execution_count": 908,
     "metadata": {},
     "output_type": "execute_result"
    }
   ],
   "source": [
    "tweets_text = tweets.loc[:,['text','target']]\n",
    "tweets_text['target'] = tweets_text['target'] == 1\n",
    "tweets_text"
   ]
  },
  {
   "cell_type": "markdown",
   "metadata": {},
   "source": [
    "# Cuál es la distribución entre tweets Reales y Falsos? "
   ]
  },
  {
   "cell_type": "code",
   "execution_count": 909,
   "metadata": {},
   "outputs": [
    {
     "data": {
      "text/plain": [
       "Text(0.5, 0, 'Target')"
      ]
     },
     "execution_count": 909,
     "metadata": {},
     "output_type": "execute_result"
    },
    {
     "data": {
      "image/png": "[encoded data removed]",
      "text/plain": [
       "<Figure size 504x504 with 1 Axes>"
      ]
     },
     "metadata": {
      "needs_background": "light"
     },
     "output_type": "display_data"
    }
   ],
   "source": [
    "ax = sns.barplot(data = tweets_text.target.value_counts().reset_index(),x='index',y='target')\n",
    "ax.set_title(\"Distribución entre tweets Reales y Falsos\")\n",
    "ax.set_ylabel(\"Total de Tweets\")\n",
    "ax.set_xlabel(\"Target\")"
   ]
  },
  {
   "cell_type": "markdown",
   "metadata": {},
   "source": [
    "# Pregunta: ¿Se puede establecer un conjunto de palabras que dado un tweet que contenga al menos una, indique si es real o falso?"
   ]
  },
  {
   "cell_type": "markdown",
   "metadata": {},
   "source": [
    "Obtenemos las columnas de interés"
   ]
  },
  {
   "cell_type": "markdown",
   "metadata": {},
   "source": [
    "Se crea un DataFrame con todas las palabras y sus frecuencias "
   ]
  },
  {
   "cell_type": "code",
   "execution_count": 910,
   "metadata": {},
   "outputs": [],
   "source": [
    "words = []\n",
    "for x in tweets_text.text.tolist():\n",
    "    for y in x.split(\" \"):\n",
    "        words.append(y.lower())\n",
    "df_words = pd.Series(words).value_counts().to_frame().reset_index()\n",
    "df_words.columns = ['word','frecuency']"
   ]
  },
  {
   "cell_type": "code",
   "execution_count": 911,
   "metadata": {},
   "outputs": [],
   "source": [
    "# Recibe las listas l1=[a1,a2,...,an] y l2=[b1,b2,...,bm] y las extiendea ambas a n x m elementos con la forma:\n",
    "#  l1=[a1,...,a1,a2,...,a2,...,an,...,an] (m veces para cada elemento)\n",
    "#  l2=[b1,b2,...,bm,b1,b2,...,bm] (n veces para cada m elementos)\n",
    "#  Además devuelve una tercera lista con el producto cartesiano de las dos listas anteriores\n",
    "def separate_cartesian_product_list(lenght_list, frecuency_list):\n",
    "    first_list = lenght_list.copy()\n",
    "    second_list = frecuency_list.copy()\n",
    "    for x in range(len(second_list)-1):\n",
    "        lenght_list.extend(first_list)\n",
    "    lenght_list.sort()  \n",
    "    for x in range(len(first_list)-1):\n",
    "        frecuency_list.extend(second_list)\n",
    "    \n",
    "    third_list = []\n",
    "    for x in first_list:\n",
    "        for y in second_list:\n",
    "            third_list.append((x,y))\n",
    "    return third_list"
   ]
  },
  {
   "cell_type": "markdown",
   "metadata": {},
   "source": [
    "Para determinar si existe un conjunto de palabras con las características deseadas, se realiza un count de cada palabra en todos los tweets. Luego, para achicar el conjunto se eligirá una longitud mínima y la frecuencia mínima de las palabras"
   ]
  },
  {
   "cell_type": "code",
   "execution_count": 912,
   "metadata": {},
   "outputs": [],
   "source": [
    "#Se crean dos listas, la primera contiene todas las longitudes mínimas y la segunda contiene las frecuencias mínimas\n",
    "#que se imponen para pertenecer al conjuto de palabras más frecuentes. \n",
    "#Se crea un dataframe donde cada registro determina un conjunto de palabras, ya que este contiene las variables antes \n",
    "#mencionadas y además una dupla con los mismos valores\n",
    "word_lenght = list(range(1,10))\n",
    "word_frecuency = list(range(10,140,5))\n",
    "\n",
    "len_vs_fre = separate_cartesian_product_list(word_lenght,word_frecuency)\n",
    "tweets_frec_len = pd.DataFrame({'lenght_min':word_lenght,'frecuency_min':word_frecuency, 'len_and_fre':len_vs_fre}) \n"
   ]
  },
  {
   "cell_type": "code",
   "execution_count": 913,
   "metadata": {},
   "outputs": [],
   "source": [
    "#Recibe un string y una colección de palabras, devuelve True en caso que al menos una de las palabras del string\n",
    "#este contenida en la colección, Devuelve Falso para el caso contrario. \n",
    "def contain_long_words(s,long_words):\n",
    "    for x in s.lower().split(\" \"):\n",
    "        if x in long_words:\n",
    "            return True\n",
    "    return False"
   ]
  },
  {
   "cell_type": "code",
   "execution_count": 914,
   "metadata": {},
   "outputs": [],
   "source": [
    "#Recibe una dupla de elementos: (longitud min,frecuencia min). devuelve el porcentaje de tweets reales de aquellos\n",
    "#que continen al menos una palabra del conjunto de palabras mas frecuentes determinados por longitud min y frecuencia min\n",
    "def get_true_percentage(x):\n",
    "    long_words = df_words.loc[df_words['word'].transform(lambda y: len(y) >=  x[0])].loc[df_words.frecuency >= x[1],'word'].tolist()\n",
    "    tweets_text['contain_long_word'] = tweets_text['text'].transform(lambda y: contain_long_words(y,long_words))\n",
    "    tweets_contain_long_words = tweets_text.loc[tweets_text.contain_long_word == True,:]\n",
    "    total_true =tweets_contain_long_words.loc[tweets_text.target == True,'target'].count()\n",
    "    total_False = tweets_contain_long_words.loc[tweets_text.target == False,'target'].count()\n",
    "\n",
    "    return total_true*100/(total_true +total_False)"
   ]
  },
  {
   "cell_type": "markdown",
   "metadata": {},
   "source": [
    "El siguiente dataframe indica los porcentajes de tweets reales de aquellos que por lo menos una de sus palabras se encuentran en las palabras más frecuentes de logintud min y frecuencia min especificados"
   ]
  },
  {
   "cell_type": "code",
   "execution_count": 915,
   "metadata": {},
   "outputs": [
    {
     "data": {
      "text/html": [
       "<div>\n",
       "<style scoped>\n",
       "    .dataframe tbody tr th:only-of-type {\n",
       "        vertical-align: middle;\n",
       "    }\n",
       "\n",
       "    .dataframe tbody tr th {\n",
       "        vertical-align: top;\n",
       "    }\n",
       "\n",
       "    .dataframe thead th {\n",
       "        text-align: right;\n",
       "    }\n",
       "</style>\n",
       "<table border=\"1\" class=\"dataframe\">\n",
       "  <thead>\n",
       "    <tr style=\"text-align: right;\">\n",
       "      <th></th>\n",
       "      <th>1</th>\n",
       "      <th>2</th>\n",
       "      <th>3</th>\n",
       "      <th>4</th>\n",
       "      <th>5</th>\n",
       "      <th>6</th>\n",
       "      <th>7</th>\n",
       "      <th>8</th>\n",
       "      <th>9</th>\n",
       "    </tr>\n",
       "    <tr>\n",
       "      <th>frecuency_min</th>\n",
       "      <th></th>\n",
       "      <th></th>\n",
       "      <th></th>\n",
       "      <th></th>\n",
       "      <th></th>\n",
       "      <th></th>\n",
       "      <th></th>\n",
       "      <th></th>\n",
       "      <th></th>\n",
       "    </tr>\n",
       "  </thead>\n",
       "  <tbody>\n",
       "    <tr>\n",
       "      <th>10</th>\n",
       "      <td>43.118052</td>\n",
       "      <td>43.137515</td>\n",
       "      <td>43.209055</td>\n",
       "      <td>43.455427</td>\n",
       "      <td>44.424183</td>\n",
       "      <td>46.119426</td>\n",
       "      <td>48.717022</td>\n",
       "      <td>51.631617</td>\n",
       "      <td>55.107426</td>\n",
       "    </tr>\n",
       "    <tr>\n",
       "      <th>15</th>\n",
       "      <td>43.139073</td>\n",
       "      <td>43.168238</td>\n",
       "      <td>43.227358</td>\n",
       "      <td>43.426943</td>\n",
       "      <td>44.683908</td>\n",
       "      <td>46.715093</td>\n",
       "      <td>49.316651</td>\n",
       "      <td>51.925078</td>\n",
       "      <td>54.845361</td>\n",
       "    </tr>\n",
       "    <tr>\n",
       "      <th>20</th>\n",
       "      <td>43.158593</td>\n",
       "      <td>43.184239</td>\n",
       "      <td>43.258502</td>\n",
       "      <td>43.557019</td>\n",
       "      <td>45.283019</td>\n",
       "      <td>47.817869</td>\n",
       "      <td>50.135107</td>\n",
       "      <td>52.361981</td>\n",
       "      <td>55.550416</td>\n",
       "    </tr>\n",
       "    <tr>\n",
       "      <th>25</th>\n",
       "      <td>43.236039</td>\n",
       "      <td>43.256623</td>\n",
       "      <td>43.344617</td>\n",
       "      <td>43.862841</td>\n",
       "      <td>45.887246</td>\n",
       "      <td>48.774645</td>\n",
       "      <td>50.980392</td>\n",
       "      <td>53.036566</td>\n",
       "      <td>55.407565</td>\n",
       "    </tr>\n",
       "    <tr>\n",
       "      <th>30</th>\n",
       "      <td>43.234545</td>\n",
       "      <td>43.217708</td>\n",
       "      <td>43.238016</td>\n",
       "      <td>44.057377</td>\n",
       "      <td>47.525952</td>\n",
       "      <td>51.460778</td>\n",
       "      <td>55.363215</td>\n",
       "      <td>58.612770</td>\n",
       "      <td>64.050633</td>\n",
       "    </tr>\n",
       "    <tr>\n",
       "      <th>35</th>\n",
       "      <td>43.147824</td>\n",
       "      <td>43.154034</td>\n",
       "      <td>42.996191</td>\n",
       "      <td>44.012895</td>\n",
       "      <td>48.083624</td>\n",
       "      <td>52.951289</td>\n",
       "      <td>56.629393</td>\n",
       "      <td>62.515803</td>\n",
       "      <td>65.796345</td>\n",
       "    </tr>\n",
       "    <tr>\n",
       "      <th>40</th>\n",
       "      <td>43.156897</td>\n",
       "      <td>43.272777</td>\n",
       "      <td>43.074058</td>\n",
       "      <td>44.207511</td>\n",
       "      <td>49.178228</td>\n",
       "      <td>55.491744</td>\n",
       "      <td>60.400445</td>\n",
       "      <td>64.926740</td>\n",
       "      <td>67.706013</td>\n",
       "    </tr>\n",
       "    <tr>\n",
       "      <th>45</th>\n",
       "      <td>43.119391</td>\n",
       "      <td>43.235819</td>\n",
       "      <td>42.927608</td>\n",
       "      <td>44.186047</td>\n",
       "      <td>50.000000</td>\n",
       "      <td>57.843570</td>\n",
       "      <td>61.358656</td>\n",
       "      <td>68.414918</td>\n",
       "      <td>73.300971</td>\n",
       "    </tr>\n",
       "    <tr>\n",
       "      <th>50</th>\n",
       "      <td>43.143130</td>\n",
       "      <td>43.242499</td>\n",
       "      <td>42.850858</td>\n",
       "      <td>44.069807</td>\n",
       "      <td>51.133368</td>\n",
       "      <td>59.240759</td>\n",
       "      <td>64.690497</td>\n",
       "      <td>68.850267</td>\n",
       "      <td>71.774194</td>\n",
       "    </tr>\n",
       "    <tr>\n",
       "      <th>55</th>\n",
       "      <td>43.169101</td>\n",
       "      <td>43.296976</td>\n",
       "      <td>42.781065</td>\n",
       "      <td>43.897808</td>\n",
       "      <td>50.620347</td>\n",
       "      <td>58.477896</td>\n",
       "      <td>64.524648</td>\n",
       "      <td>68.571429</td>\n",
       "      <td>71.774194</td>\n",
       "    </tr>\n",
       "    <tr>\n",
       "      <th>60</th>\n",
       "      <td>43.193323</td>\n",
       "      <td>43.313953</td>\n",
       "      <td>42.801788</td>\n",
       "      <td>44.159292</td>\n",
       "      <td>52.095097</td>\n",
       "      <td>60.654725</td>\n",
       "      <td>66.145354</td>\n",
       "      <td>68.571429</td>\n",
       "      <td>71.774194</td>\n",
       "    </tr>\n",
       "    <tr>\n",
       "      <th>65</th>\n",
       "      <td>43.166256</td>\n",
       "      <td>43.302396</td>\n",
       "      <td>42.573960</td>\n",
       "      <td>43.756767</td>\n",
       "      <td>51.602666</td>\n",
       "      <td>60.438783</td>\n",
       "      <td>63.256785</td>\n",
       "      <td>64.532020</td>\n",
       "      <td>66.773163</td>\n",
       "    </tr>\n",
       "    <tr>\n",
       "      <th>70</th>\n",
       "      <td>43.160927</td>\n",
       "      <td>43.319444</td>\n",
       "      <td>42.443973</td>\n",
       "      <td>43.571693</td>\n",
       "      <td>52.025877</td>\n",
       "      <td>64.388186</td>\n",
       "      <td>64.311377</td>\n",
       "      <td>64.116576</td>\n",
       "      <td>66.773163</td>\n",
       "    </tr>\n",
       "    <tr>\n",
       "      <th>75</th>\n",
       "      <td>43.157172</td>\n",
       "      <td>43.318036</td>\n",
       "      <td>42.326431</td>\n",
       "      <td>43.480736</td>\n",
       "      <td>51.407196</td>\n",
       "      <td>66.852886</td>\n",
       "      <td>67.402597</td>\n",
       "      <td>64.116576</td>\n",
       "      <td>66.773163</td>\n",
       "    </tr>\n",
       "    <tr>\n",
       "      <th>80</th>\n",
       "      <td>43.151815</td>\n",
       "      <td>43.294806</td>\n",
       "      <td>42.255892</td>\n",
       "      <td>43.485814</td>\n",
       "      <td>51.019665</td>\n",
       "      <td>66.852886</td>\n",
       "      <td>67.402597</td>\n",
       "      <td>64.116576</td>\n",
       "      <td>66.773163</td>\n",
       "    </tr>\n",
       "    <tr>\n",
       "      <th>85</th>\n",
       "      <td>43.162688</td>\n",
       "      <td>43.308628</td>\n",
       "      <td>42.090614</td>\n",
       "      <td>43.546465</td>\n",
       "      <td>51.883830</td>\n",
       "      <td>70.582329</td>\n",
       "      <td>72.832370</td>\n",
       "      <td>71.702128</td>\n",
       "      <td>66.773163</td>\n",
       "    </tr>\n",
       "    <tr>\n",
       "      <th>90</th>\n",
       "      <td>43.103925</td>\n",
       "      <td>43.261418</td>\n",
       "      <td>41.906391</td>\n",
       "      <td>43.311071</td>\n",
       "      <td>50.870322</td>\n",
       "      <td>68.798236</td>\n",
       "      <td>70.333333</td>\n",
       "      <td>69.135802</td>\n",
       "      <td>66.519824</td>\n",
       "    </tr>\n",
       "    <tr>\n",
       "      <th>95</th>\n",
       "      <td>43.135898</td>\n",
       "      <td>43.390117</td>\n",
       "      <td>41.955290</td>\n",
       "      <td>43.577304</td>\n",
       "      <td>49.269213</td>\n",
       "      <td>65.963061</td>\n",
       "      <td>65.771812</td>\n",
       "      <td>58.723404</td>\n",
       "      <td>47.101449</td>\n",
       "    </tr>\n",
       "    <tr>\n",
       "      <th>100</th>\n",
       "      <td>43.150590</td>\n",
       "      <td>43.420495</td>\n",
       "      <td>41.632133</td>\n",
       "      <td>43.150389</td>\n",
       "      <td>47.502498</td>\n",
       "      <td>63.623395</td>\n",
       "      <td>65.771812</td>\n",
       "      <td>58.723404</td>\n",
       "      <td>47.101449</td>\n",
       "    </tr>\n",
       "    <tr>\n",
       "      <th>105</th>\n",
       "      <td>43.174559</td>\n",
       "      <td>43.437058</td>\n",
       "      <td>41.730646</td>\n",
       "      <td>43.240273</td>\n",
       "      <td>48.451928</td>\n",
       "      <td>63.623395</td>\n",
       "      <td>65.771812</td>\n",
       "      <td>58.723404</td>\n",
       "      <td>47.101449</td>\n",
       "    </tr>\n",
       "    <tr>\n",
       "      <th>110</th>\n",
       "      <td>43.133167</td>\n",
       "      <td>43.365466</td>\n",
       "      <td>41.359223</td>\n",
       "      <td>42.237288</td>\n",
       "      <td>46.061644</td>\n",
       "      <td>58.842975</td>\n",
       "      <td>57.391304</td>\n",
       "      <td>58.723404</td>\n",
       "      <td>47.101449</td>\n",
       "    </tr>\n",
       "    <tr>\n",
       "      <th>115</th>\n",
       "      <td>43.103688</td>\n",
       "      <td>43.407766</td>\n",
       "      <td>41.379873</td>\n",
       "      <td>42.213494</td>\n",
       "      <td>46.535283</td>\n",
       "      <td>59.840954</td>\n",
       "      <td>58.723404</td>\n",
       "      <td>58.723404</td>\n",
       "      <td>47.101449</td>\n",
       "    </tr>\n",
       "    <tr>\n",
       "      <th>120</th>\n",
       "      <td>43.222114</td>\n",
       "      <td>43.542172</td>\n",
       "      <td>41.546290</td>\n",
       "      <td>42.793322</td>\n",
       "      <td>46.535283</td>\n",
       "      <td>59.840954</td>\n",
       "      <td>58.723404</td>\n",
       "      <td>58.723404</td>\n",
       "      <td>47.101449</td>\n",
       "    </tr>\n",
       "    <tr>\n",
       "      <th>125</th>\n",
       "      <td>43.212291</td>\n",
       "      <td>43.538484</td>\n",
       "      <td>41.417972</td>\n",
       "      <td>42.206864</td>\n",
       "      <td>44.979920</td>\n",
       "      <td>56.416465</td>\n",
       "      <td>47.101449</td>\n",
       "      <td>47.101449</td>\n",
       "      <td>47.101449</td>\n",
       "    </tr>\n",
       "    <tr>\n",
       "      <th>130</th>\n",
       "      <td>43.236816</td>\n",
       "      <td>43.513746</td>\n",
       "      <td>41.271696</td>\n",
       "      <td>41.949888</td>\n",
       "      <td>45.036916</td>\n",
       "      <td>50.328947</td>\n",
       "      <td>47.101449</td>\n",
       "      <td>47.101449</td>\n",
       "      <td>47.101449</td>\n",
       "    </tr>\n",
       "    <tr>\n",
       "      <th>135</th>\n",
       "      <td>43.236816</td>\n",
       "      <td>43.513746</td>\n",
       "      <td>41.271696</td>\n",
       "      <td>41.949888</td>\n",
       "      <td>45.036916</td>\n",
       "      <td>50.328947</td>\n",
       "      <td>47.101449</td>\n",
       "      <td>47.101449</td>\n",
       "      <td>47.101449</td>\n",
       "    </tr>\n",
       "  </tbody>\n",
       "</table>\n",
       "</div>"
      ],
      "text/plain": [
       "                       1          2          3          4          5  \\\n",
       "frecuency_min                                                          \n",
       "10             43.118052  43.137515  43.209055  43.455427  44.424183   \n",
       "15             43.139073  43.168238  43.227358  43.426943  44.683908   \n",
       "20             43.158593  43.184239  43.258502  43.557019  45.283019   \n",
       "25             43.236039  43.256623  43.344617  43.862841  45.887246   \n",
       "30             43.234545  43.217708  43.238016  44.057377  47.525952   \n",
       "35             43.147824  43.154034  42.996191  44.012895  48.083624   \n",
       "40             43.156897  43.272777  43.074058  44.207511  49.178228   \n",
       "45             43.119391  43.235819  42.927608  44.186047  50.000000   \n",
       "50             43.143130  43.242499  42.850858  44.069807  51.133368   \n",
       "55             43.169101  43.296976  42.781065  43.897808  50.620347   \n",
       "60             43.193323  43.313953  42.801788  44.159292  52.095097   \n",
       "65             43.166256  43.302396  42.573960  43.756767  51.602666   \n",
       "70             43.160927  43.319444  42.443973  43.571693  52.025877   \n",
       "75             43.157172  43.318036  42.326431  43.480736  51.407196   \n",
       "80             43.151815  43.294806  42.255892  43.485814  51.019665   \n",
       "85             43.162688  43.308628  42.090614  43.546465  51.883830   \n",
       "90             43.103925  43.261418  41.906391  43.311071  50.870322   \n",
       "95             43.135898  43.390117  41.955290  43.577304  49.269213   \n",
       "100            43.150590  43.420495  41.632133  43.150389  47.502498   \n",
       "105            43.174559  43.437058  41.730646  43.240273  48.451928   \n",
       "110            43.133167  43.365466  41.359223  42.237288  46.061644   \n",
       "115            43.103688  43.407766  41.379873  42.213494  46.535283   \n",
       "120            43.222114  43.542172  41.546290  42.793322  46.535283   \n",
       "125            43.212291  43.538484  41.417972  42.206864  44.979920   \n",
       "130            43.236816  43.513746  41.271696  41.949888  45.036916   \n",
       "135            43.236816  43.513746  41.271696  41.949888  45.036916   \n",
       "\n",
       "                       6          7          8          9  \n",
       "frecuency_min                                              \n",
       "10             46.119426  48.717022  51.631617  55.107426  \n",
       "15             46.715093  49.316651  51.925078  54.845361  \n",
       "20             47.817869  50.135107  52.361981  55.550416  \n",
       "25             48.774645  50.980392  53.036566  55.407565  \n",
       "30             51.460778  55.363215  58.612770  64.050633  \n",
       "35             52.951289  56.629393  62.515803  65.796345  \n",
       "40             55.491744  60.400445  64.926740  67.706013  \n",
       "45             57.843570  61.358656  68.414918  73.300971  \n",
       "50             59.240759  64.690497  68.850267  71.774194  \n",
       "55             58.477896  64.524648  68.571429  71.774194  \n",
       "60             60.654725  66.145354  68.571429  71.774194  \n",
       "65             60.438783  63.256785  64.532020  66.773163  \n",
       "70             64.388186  64.311377  64.116576  66.773163  \n",
       "75             66.852886  67.402597  64.116576  66.773163  \n",
       "80             66.852886  67.402597  64.116576  66.773163  \n",
       "85             70.582329  72.832370  71.702128  66.773163  \n",
       "90             68.798236  70.333333  69.135802  66.519824  \n",
       "95             65.963061  65.771812  58.723404  47.101449  \n",
       "100            63.623395  65.771812  58.723404  47.101449  \n",
       "105            63.623395  65.771812  58.723404  47.101449  \n",
       "110            58.842975  57.391304  58.723404  47.101449  \n",
       "115            59.840954  58.723404  58.723404  47.101449  \n",
       "120            59.840954  58.723404  58.723404  47.101449  \n",
       "125            56.416465  47.101449  47.101449  47.101449  \n",
       "130            50.328947  47.101449  47.101449  47.101449  \n",
       "135            50.328947  47.101449  47.101449  47.101449  "
      ]
     },
     "execution_count": 915,
     "metadata": {},
     "output_type": "execute_result"
    }
   ],
   "source": [
    "tweets_frec_len['true_percentage'] = tweets_frec_len['len_and_fre'].transform(lambda x: get_true_percentage(x)) \n",
    "data_for_heatmap =tweets_frec_len.drop(columns=['len_and_fre']).set_index(['frecuency_min','lenght_min']).unstack()\n",
    "data_for_heatmap.columns = list(range(1,10))\n",
    "data_for_heatmap\n"
   ]
  },
  {
   "cell_type": "code",
   "execution_count": 916,
   "metadata": {},
   "outputs": [
    {
     "data": {
      "text/plain": [
       "Text(114.0, 0.5, 'Frecuencia mínima de las palabras mas frecuentes')"
      ]
     },
     "execution_count": 916,
     "metadata": {},
     "output_type": "execute_result"
    },
    {
     "data": {
      "image/png": "[encoded data removed]",
      "text/plain": [
       "<Figure size 1080x720 with 2 Axes>"
      ]
     },
     "metadata": {
      "needs_background": "light"
     },
     "output_type": "display_data"
    }
   ],
   "source": [
    "rcParams['figure.figsize'] = 15,10\n",
    "heatmap = sns.heatmap(data_for_heatmap,cmap=\"YlGnBu\")\n",
    "heatmap.set_title(\"Porcentaje de tweets reales: Tweets que contienen por lo menos \\nuna palabra de las palabras mas frecuentes con longitud mayor o igual a n\")\n",
    "heatmap.set_xlabel(\"Longitud mínima de las palabras mas frecuentes\")\n",
    "heatmap.set_ylabel(\"Frecuencia mínima de las palabras mas frecuentes\")\n"
   ]
  },
  {
   "cell_type": "markdown",
   "metadata": {},
   "source": [
    "El gráfico anterior nos permite acotar el conjunto de palabras, para lo cual se tomará aquellas palabras con longitud mínima de 5 y que posean una frecuencia minima de 30 ocurrencias. Luego, repetimos el proceso anterior pero por cada palabra para identificar aquellas que disminuyen el porcentaje de tweets reales "
   ]
  },
  {
   "cell_type": "code",
   "execution_count": 917,
   "metadata": {},
   "outputs": [],
   "source": [
    "def get_true_pertentage_word(x):\n",
    "    x_list = []\n",
    "    x_list.append(x)\n",
    "    tweets_text['contain_long_word'] = tweets_text['text'].transform(lambda y: contain_long_words(y,x_list))\n",
    "    tweets_contain_long_words = tweets_text.loc[tweets_text.contain_long_word == True,:]\n",
    "    total_true =tweets_contain_long_words.loc[tweets_text.target == True,'target'].count()\n",
    "    total_False = tweets_contain_long_words.loc[tweets_text.target == False,'target'].count()\n",
    "    if (total_true +total_False) == False:\n",
    "        print(x)\n",
    "        print(tweets_contain_long_words)\n",
    "    return total_true*100/(total_true +total_False),total_true"
   ]
  },
  {
   "cell_type": "code",
   "execution_count": 918,
   "metadata": {},
   "outputs": [],
   "source": [
    "words_set = pd.DataFrame(df_words.loc[df_words['word'].transform(lambda y: len(y) >=  5)].loc[df_words.frecuency >= 30,'word'].tolist())\n",
    "words_set['percentage_true'] = words_set[0].transform(lambda x: get_true_pertentage_word(x))\n",
    "words_set['total_tweets_true'] = words_set['percentage_true'].transform(lambda x: x[1]).astype('int')\n",
    "words_set['percentage_true'] = words_set['percentage_true'].transform(lambda x: x[0]).astype('int')\n"
   ]
  },
  {
   "cell_type": "markdown",
   "metadata": {},
   "source": [
    "Se toman las palabras tienen más de un 75% de veracidad y que haya más de 30 de estos (este sería el conjunto de palabras buscados)"
   ]
  },
  {
   "cell_type": "code",
   "execution_count": 940,
   "metadata": {},
   "outputs": [
    {
     "data": {
      "text/plain": [
       "['suicide',\n",
       " 'killed',\n",
       " 'california',\n",
       " 'families',\n",
       " 'train',\n",
       " 'crash',\n",
       " 'fires',\n",
       " 'accident',\n",
       " 'bombing',\n",
       " 'fatal',\n",
       " 'northern',\n",
       " 'bomber',\n",
       " 'hiroshima',\n",
       " 'obama',\n",
       " 'atomic',\n",
       " 'homes',\n",
       " 'forest',\n",
       " 'wildfire',\n",
       " 'found',\n",
       " 'debris',\n",
       " 'evacuation',\n",
       " 'severe',\n",
       " 'malaysia',\n",
       " 'injured',\n",
       " 'warning',\n",
       " 'spill',\n",
       " 'japan',\n",
       " 'missing',\n",
       " 'mh370:',\n",
       " 'thunderstorm',\n",
       " 'wreckage',\n",
       " 'migrants',\n",
       " 'outbreak',\n",
       " 'saudi',\n",
       " 'investigators',\n",
       " 'kills',\n",
       " 'anniversary',\n",
       " 'hundreds',\n",
       " 'affected',\n",
       " 'rescuers',\n",
       " 'reunion',\n",
       " 'detonated',\n",
       " 'latest:',\n",
       " \"legionnaires'\"]"
      ]
     },
     "execution_count": 940,
     "metadata": {},
     "output_type": "execute_result"
    }
   ],
   "source": [
    "best_words = words_set.loc[words_set.percentage_true > 75].loc[words_set.total_tweets_true >30][0].tolist()\n",
    "best_words"
   ]
  },
  {
   "cell_type": "markdown",
   "metadata": {},
   "source": [
    "Se indica a cada tweet si contiene o no al menos una palabra de esta \"bolsa de palabras\""
   ]
  },
  {
   "cell_type": "code",
   "execution_count": 920,
   "metadata": {},
   "outputs": [],
   "source": [
    "tweets_text['contain_long_word'] = tweets_text['text'].transform(lambda y: contain_long_words(y,best_words))"
   ]
  },
  {
   "cell_type": "code",
   "execution_count": 939,
   "metadata": {},
   "outputs": [
    {
     "data": {
      "text/plain": [
       "Text(0.5, 0, 'Target')"
      ]
     },
     "execution_count": 939,
     "metadata": {},
     "output_type": "execute_result"
    },
    {
     "data": {
      "image/png": "[encoded data removed]",
      "text/plain": [
       "<Figure size 504x504 with 1 Axes>"
      ]
     },
     "metadata": {
      "needs_background": "light"
     },
     "output_type": "display_data"
    }
   ],
   "source": [
    "rcParams['figure.figsize'] = 7,7\n",
    "ax = sns.barplot(data = tweets_text.loc[tweets_text['contain_long_word'] == True].target.value_counts().reset_index(),x='index',y='target')\n",
    "ax.set_title(\"Bar Plot de Veracidad de Tweets que contienen \\nal menos una palabra de 'la bolsa de palabras'\")\n",
    "ax.set_ylabel(\"Total de Tweets\")\n",
    "ax.set_xlabel(\"Target\")\n"
   ]
  },
  {
   "cell_type": "markdown",
   "metadata": {},
   "source": [
    "# Relación cantidad de palabras del tweet y veracidad"
   ]
  },
  {
   "cell_type": "markdown",
   "metadata": {},
   "source": [
    "Se indica para cada tweet cuantas palabras posee el texto"
   ]
  },
  {
   "cell_type": "code",
   "execution_count": 922,
   "metadata": {},
   "outputs": [],
   "source": [
    "tweets_text['total_words'] = tweets_text.text.transform(lambda x: len(x.split(\" \")))\n"
   ]
  },
  {
   "cell_type": "code",
   "execution_count": 923,
   "metadata": {
    "scrolled": false
   },
   "outputs": [
    {
     "data": {
      "text/plain": [
       "Text(0, 0.5, 'Frecuencia')"
      ]
     },
     "execution_count": 923,
     "metadata": {},
     "output_type": "execute_result"
    },
    {
     "data": {
      "image/png": "[encoded data removed]",
      "text/plain": [
       "<Figure size 1080x720 with 1 Axes>"
      ]
     },
     "metadata": {
      "needs_background": "light"
     },
     "output_type": "display_data"
    }
   ],
   "source": [
    "rcParams['figure.figsize'] = 15,10\n",
    "sns.distplot(tweets_text.loc[tweets_text.target== True,'total_words'],  kde=False, label='Reales', bins = 54)\n",
    "sns.distplot(tweets_text.loc[tweets_text.target== False,'total_words'],  kde=False, label='Falsos',bins = 54)\n",
    "plt.legend(prop={'size': 12})\n",
    "plt.title(\"Histograma de Cantidad de Palabras de los Tweets Reales vs Falsos\")\n",
    "plt.xlabel(\"Cantidad de palabras del Tweet\")\n",
    "plt.ylabel('Frecuencia')"
   ]
  },
  {
   "cell_type": "markdown",
   "metadata": {},
   "source": [
    "# Relación entre la cantidad de caracteres en mayusculas y la veracidad del tweet"
   ]
  },
  {
   "cell_type": "code",
   "execution_count": 924,
   "metadata": {},
   "outputs": [],
   "source": [
    "#Recibe un string y devuelve la cantidad de caracteres en mayusculas que posee\n",
    "def get_upper_total(s):\n",
    "    total = 0\n",
    "    for x in s:\n",
    "        y = ord(x)\n",
    "        if y > 90:\n",
    "            continue\n",
    "        if y > 64:\n",
    "            total = total + 1\n",
    "    return total"
   ]
  },
  {
   "cell_type": "markdown",
   "metadata": {},
   "source": [
    "Se obtiene para cada tweet la cantidad de caracteres en mayusculas que posee el texto"
   ]
  },
  {
   "cell_type": "code",
   "execution_count": 925,
   "metadata": {},
   "outputs": [],
   "source": [
    "tweets_text['total_upper_chars'] = tweets_text.text.transform(lambda x: get_upper_total(x))"
   ]
  },
  {
   "cell_type": "code",
   "execution_count": 926,
   "metadata": {
    "scrolled": false
   },
   "outputs": [
    {
     "data": {
      "text/plain": [
       "Text(0, 0.5, 'Frecuencia')"
      ]
     },
     "execution_count": 926,
     "metadata": {},
     "output_type": "execute_result"
    },
    {
     "data": {
      "image/png": "[encoded data removed]",
      "text/plain": [
       "<Figure size 1080x720 with 1 Axes>"
      ]
     },
     "metadata": {
      "needs_background": "light"
     },
     "output_type": "display_data"
    }
   ],
   "source": [
    "total_bins = tweets_text.total_upper_chars.max()\n",
    "sns.distplot(tweets_text.loc[tweets_text.target== True,'total_upper_chars'],  kde=False, label='Reales', bins = total_bins)\n",
    "sns.distplot(tweets_text.loc[tweets_text.target== False,'total_upper_chars'],  kde=False, label='Falsos',bins = total_bins)\n",
    "plt.legend(prop={'size': 12})\n",
    "plt.title(\"Histograma de Cantidad de Caracteres en Mayusculas de los Tweets Reales vs Falsos\")\n",
    "plt.xlabel(\"Cantidad de Caracteres en Mayusculas en el Tweet\")\n",
    "plt.ylabel('Frecuencia')"
   ]
  },
  {
   "cell_type": "markdown",
   "metadata": {},
   "source": [
    "# Relación entre la cantidad de caracteres numéricos y la veracidad del tweet"
   ]
  },
  {
   "cell_type": "code",
   "execution_count": 927,
   "metadata": {},
   "outputs": [],
   "source": [
    "#Recibe un string y devuelve la cantidad de caracteres numéricos que posee\n",
    "def get_total_numbers_chars(s):\n",
    "    total = 0\n",
    "    for x in s:\n",
    "        y = ord(x)\n",
    "        if y in range(48,58):\n",
    "            total = total + 1\n",
    "    return total"
   ]
  },
  {
   "cell_type": "markdown",
   "metadata": {},
   "source": [
    "Se obtiene para cada tweet la cantidad de caracteres numéricos que posee el texto"
   ]
  },
  {
   "cell_type": "code",
   "execution_count": 928,
   "metadata": {},
   "outputs": [],
   "source": [
    "tweets_text['total_numbers_chars'] = tweets_text.text.transform(lambda x: get_total_numbers_chars(x))"
   ]
  },
  {
   "cell_type": "code",
   "execution_count": 929,
   "metadata": {},
   "outputs": [
    {
     "data": {
      "text/plain": [
       "Text(0, 0.5, 'Frecuencia')"
      ]
     },
     "execution_count": 929,
     "metadata": {},
     "output_type": "execute_result"
    },
    {
     "data": {
      "image/png": "[encoded data removed]",
      "text/plain": [
       "<Figure size 1080x720 with 1 Axes>"
      ]
     },
     "metadata": {
      "needs_background": "light"
     },
     "output_type": "display_data"
    }
   ],
   "source": [
    "total_bins = tweets_text.total_numbers_chars.max()\n",
    "sns.distplot(tweets_text.loc[tweets_text.target== True,'total_numbers_chars'],  kde=False, label='Reales', bins = total_bins)\n",
    "sns.distplot(tweets_text.loc[tweets_text.target== False,'total_numbers_chars'],  kde=False, label='Falsos',bins = total_bins)\n",
    "plt.legend(prop={'size': 12})\n",
    "plt.title(\"Histograma de Cantidad de Caracteres Numéricos de los Tweets Reales vs Falsos\")\n",
    "plt.xlabel(\"Cantidad de Caracteres numéricos en el Tweet\")\n",
    "plt.ylabel('Frecuencia')"
   ]
  },
  {
   "cell_type": "markdown",
   "metadata": {},
   "source": [
    "# Relación entre la cantidad de caracteres especiales y la veracidad del tweet\n"
   ]
  },
  {
   "cell_type": "code",
   "execution_count": 930,
   "metadata": {},
   "outputs": [],
   "source": [
    "#Recibe un string y devuelve la cantidad de caracteres especiales que posee (excluye una lista de caracteres comunes)\n",
    "def get_special_chars_total(s):\n",
    "    total = 0\n",
    "    common_esp_chr = [\" \",\".\",\"?\",\",\",\"!\"]\n",
    "    for x in s:\n",
    "        y = ord(x)\n",
    "        if y in range(97,123) or y in range(65,91) or y in range(48,58) or x in common_esp_chr:\n",
    "            continue\n",
    "        total = total + 1\n",
    "    return total"
   ]
  },
  {
   "cell_type": "markdown",
   "metadata": {},
   "source": [
    "Se obtiene para cada tweet la cantidad de caracteres especiales que posee el texto (sin incluir los mas comunes)"
   ]
  },
  {
   "cell_type": "code",
   "execution_count": 931,
   "metadata": {},
   "outputs": [],
   "source": [
    "tweets_text['total_special_chars'] = tweets_text.text.transform(lambda x: get_special_chars_total(x))"
   ]
  },
  {
   "cell_type": "code",
   "execution_count": 932,
   "metadata": {},
   "outputs": [
    {
     "data": {
      "text/plain": [
       "Text(0, 0.5, 'Frecuencia')"
      ]
     },
     "execution_count": 932,
     "metadata": {},
     "output_type": "execute_result"
    },
    {
     "data": {
      "image/png": "[encoded data removed]",
      "text/plain": [
       "<Figure size 1080x720 with 1 Axes>"
      ]
     },
     "metadata": {
      "needs_background": "light"
     },
     "output_type": "display_data"
    }
   ],
   "source": [
    "total_bins = tweets_text.total_special_chars.max()\n",
    "sns.distplot(tweets_text.loc[tweets_text.target== True,'total_special_chars'],  kde=False, label='Reales', bins = total_bins)\n",
    "sns.distplot(tweets_text.loc[tweets_text.target== False,'total_special_chars'],  kde=False, label='Falsos',bins = total_bins)\n",
    "plt.legend(prop={'size': 12})\n",
    "plt.title(\"Histograma de Cantidad de Caracteres Especiales de los Tweets Reales vs Falsos\")\n",
    "plt.xlabel(\"Cantidad de Caracteres Especiales en el Tweet\")\n",
    "plt.ylabel('Frecuencia')\n"
   ]
  },
  {
   "cell_type": "markdown",
   "metadata": {},
   "source": [
    "# Existen preguntas en los tweets? como se relacionan estas con su veracidad"
   ]
  },
  {
   "cell_type": "markdown",
   "metadata": {},
   "source": [
    "Indicamos para cada tweet si posee o no una pregunta (se asume que la posee si contiene el caracter \"?\")"
   ]
  },
  {
   "cell_type": "code",
   "execution_count": 933,
   "metadata": {},
   "outputs": [],
   "source": [
    "tweets_text['contain_question'] = tweets_text.text.transform(lambda x: \"?\" in x)"
   ]
  },
  {
   "cell_type": "code",
   "execution_count": 934,
   "metadata": {},
   "outputs": [
    {
     "data": {
      "text/plain": [
       "Text(0.5, 0, 'Target')"
      ]
     },
     "execution_count": 934,
     "metadata": {},
     "output_type": "execute_result"
    },
    {
     "data": {
      "image/png": "[encoded data removed]",
      "text/plain": [
       "<Figure size 504x504 with 1 Axes>"
      ]
     },
     "metadata": {
      "needs_background": "light"
     },
     "output_type": "display_data"
    }
   ],
   "source": [
    "rcParams['figure.figsize'] = 7,7\n",
    "ax = sns.barplot(data = tweets_text.loc[tweets_text.contain_question == True].target.value_counts().reset_index(),x='index',y='target')\n",
    "ax.set_title(\"Bar Plot de Veracidad de Tweets que Poseen Preguntas \")\n",
    "ax.set_ylabel(\"Total de Tweets\")\n",
    "ax.set_xlabel(\"Target\")\n"
   ]
  },
  {
   "cell_type": "markdown",
   "metadata": {},
   "source": [
    "# Cómo se relaciona los tweets que poseen  enlaces con su veracidad?"
   ]
  },
  {
   "cell_type": "markdown",
   "metadata": {},
   "source": [
    "Indicamos para cada tweet si posee o no un enlace (se asume que la posee si contiene \"http\")"
   ]
  },
  {
   "cell_type": "code",
   "execution_count": 935,
   "metadata": {},
   "outputs": [],
   "source": [
    "tweets_text['contain_link'] = tweets_text.text.transform(lambda x: \"http\" in x)"
   ]
  },
  {
   "cell_type": "code",
   "execution_count": 936,
   "metadata": {},
   "outputs": [
    {
     "data": {
      "text/plain": [
       "Text(0.5, 0, 'Target')"
      ]
     },
     "execution_count": 936,
     "metadata": {},
     "output_type": "execute_result"
    },
    {
     "data": {
      "image/png": "[encoded data removed]",
      "text/plain": [
       "<Figure size 504x504 with 1 Axes>"
      ]
     },
     "metadata": {
      "needs_background": "light"
     },
     "output_type": "display_data"
    }
   ],
   "source": [
    "ax = sns.barplot(data = tweets_text.loc[tweets_text.contain_link == True].target.value_counts().reset_index(),x='index',y='target')\n",
    "ax.set_title(\"Bar Plot de Veracidad de Tweets que Poseen Enlaces \")\n",
    "ax.set_ylabel(\"Total de Tweets\")\n",
    "ax.set_xlabel(\"Target\")"
   ]
  },
  {
   "cell_type": "code",
   "execution_count": null,
   "metadata": {},
   "outputs": [],
   "source": []
  },
  {
   "cell_type": "code",
   "execution_count": 937,
   "metadata": {},
   "outputs": [],
   "source": [
    "#para revisar\n",
    "def func(x):\n",
    "    country = ['alabama','alaska','arizona','arkansas','california','colorado','connecticut','delaware','florida','georgia','hawaii','idaho','illinois','indiana','iowa','kansas','kentucky','louisiana','maine','maryland','massachusetts','michigan','minnesota','mississippi','missouri','montana','nebraska','nevada','hampshire','jersey','mexico','new york','carolina','dakota','ohio','oklahoma','oregon','pennsylvania','rhode island','tennessee','texas','utah','vermont','virginia','washington','virginia','wisconsin','wyomin']\n",
    "    for y in x.split(\" \"):\n",
    "        if y in country:\n",
    "            return True\n",
    "    return False\n",
    "    "
   ]
  }
 ],
 "metadata": {
  "kernelspec": {
   "display_name": "Python 3",
   "language": "python",
   "name": "python3"
  },
  "language_info": {
   "codemirror_mode": {
    "name": "ipython",
    "version": 3
   },
   "file_extension": ".py",
   "mimetype": "text/x-python",
   "name": "python",
   "nbconvert_exporter": "python",
   "pygments_lexer": "ipython3",
   "version": "3.7.6"
  }
 },
 "nbformat": 4,
 "nbformat_minor": 4
}
