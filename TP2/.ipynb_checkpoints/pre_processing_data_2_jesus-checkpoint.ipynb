{
 "cells": [
  {
   "cell_type": "markdown",
   "metadata": {},
   "source": [
    "Conitnuación del notebook pre_processing_data_jesus. Se añaden features adicionales para seguir haciendo pruebas"
   ]
  },
  {
   "cell_type": "code",
   "execution_count": 1,
   "metadata": {},
   "outputs": [],
   "source": [
    "import pandas as pd"
   ]
  },
  {
   "cell_type": "code",
   "execution_count": 3,
   "metadata": {},
   "outputs": [
    {
     "name": "stdout",
     "output_type": "stream",
     "text": [
      "<class 'pandas.core.frame.DataFrame'>\n",
      "RangeIndex: 7613 entries, 0 to 7612\n",
      "Data columns (total 36 columns):\n",
      " #   Column                Non-Null Count  Dtype  \n",
      "---  ------                --------------  -----  \n",
      " 0   keyword               7552 non-null   object \n",
      " 1   location              5080 non-null   object \n",
      " 2   text                  7613 non-null   object \n",
      " 3   keyword_grouped       7552 non-null   object \n",
      " 4   text_contain_keyword  7552 non-null   object \n",
      " 5   total_words           7613 non-null   int64  \n",
      " 6   len_text              7613 non-null   int64  \n",
      " 7   total_upper_chars     7613 non-null   int64  \n",
      " 8   total_numbers_chars   7613 non-null   int64  \n",
      " 9   total_special_chars   7613 non-null   int64  \n",
      " 10  total_common_chars    7613 non-null   int64  \n",
      " 11  contain_question      7613 non-null   bool   \n",
      " 12  contain_link          7613 non-null   bool   \n",
      " 13  contain_hashtag       7613 non-null   bool   \n",
      " 14  contain_upper_words   7613 non-null   bool   \n",
      " 15  total_3_words         7613 non-null   int64  \n",
      " 16  total_4_words         7613 non-null   int64  \n",
      " 17  total_5_words         7613 non-null   int64  \n",
      " 18  total_6_words         7613 non-null   int64  \n",
      " 19  total_7_words         7613 non-null   int64  \n",
      " 20  total_8_words         7613 non-null   int64  \n",
      " 21  total_3_ormore_words  7613 non-null   int64  \n",
      " 22  total_4_ormore_words  7613 non-null   int64  \n",
      " 23  total_5_ormore_words  7613 non-null   int64  \n",
      " 24  total_6_ormore_words  7613 non-null   int64  \n",
      " 25  total_7_ormore_words  7613 non-null   int64  \n",
      " 26  total_8_ormore_words  7613 non-null   int64  \n",
      " 27  total_3_orless_words  7613 non-null   int64  \n",
      " 28  total_4_orless_words  7613 non-null   int64  \n",
      " 29  total_5_orless_words  7613 non-null   int64  \n",
      " 30  total_6_orless_words  7613 non-null   int64  \n",
      " 31  total_7_orless_words  7613 non-null   int64  \n",
      " 32  total_8_orless_words  7613 non-null   int64  \n",
      " 33  subjectivity_text     7613 non-null   float64\n",
      " 34  polarity_text         7613 non-null   float64\n",
      " 35  target                7613 non-null   int64  \n",
      "dtypes: bool(4), float64(2), int64(25), object(5)\n",
      "memory usage: 1.9+ MB\n"
     ]
    }
   ],
   "source": [
    "tweets = pd.read_csv(\"data/train_pre_processing.csv\")\n",
    "tweets.info()"
   ]
  },
  {
   "cell_type": "markdown",
   "metadata": {},
   "source": [
    "Convertir text_contain_keyword en bool (en el anterior no se hizo). Aquellos registros con null se sustituyen por false"
   ]
  },
  {
   "cell_type": "code",
   "execution_count": 4,
   "metadata": {},
   "outputs": [],
   "source": [
    "tweets['text_contain_keyword'] = tweets.text_contain_keyword.fillna(False).astype('bool')"
   ]
  },
  {
   "cell_type": "code",
   "execution_count": null,
   "metadata": {},
   "outputs": [],
   "source": []
  }
 ],
 "metadata": {
  "kernelspec": {
   "display_name": "Python 3",
   "language": "python",
   "name": "python3"
  },
  "language_info": {
   "codemirror_mode": {
    "name": "ipython",
    "version": 3
   },
   "file_extension": ".py",
   "mimetype": "text/x-python",
   "name": "python",
   "nbconvert_exporter": "python",
   "pygments_lexer": "ipython3",
   "version": "3.7.6"
  }
 },
 "nbformat": 4,
 "nbformat_minor": 4
}
