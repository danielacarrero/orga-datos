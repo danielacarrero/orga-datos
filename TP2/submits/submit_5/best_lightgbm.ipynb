{
 "cells": [
  {
   "cell_type": "code",
   "execution_count": 10,
   "metadata": {},
   "outputs": [],
   "source": [
    "from lightgbm import LGBMClassifier\n",
    "import pandas as pd\n"
   ]
  },
  {
   "cell_type": "code",
   "execution_count": 18,
   "metadata": {},
   "outputs": [],
   "source": [
    "train = pd.read_csv(\"data/train_pre_processing_true.csv\")\n",
    "test = pd.read_csv(\"data/test_pre_processing_true.csv\")\n",
    "x_train, y_train = train.select_dtypes(include=['float64','int64','bool']).iloc[:,:-1],train.iloc[:,-1]\n",
    "x_test = test.drop(columns=['id']).select_dtypes(include=['float64','int64','bool'])\n",
    "submit = test['id'].to_frame()\n",
    "light_model = LGBMClassifier(random_state=1)\n",
    "light_model.fit(x_train, y_train)\n",
    "preds = light_model.predict(x_test)\n",
    "submit['target'] = preds\n",
    "submit.to_csv('data/submit_kaggle_true.csv', index=False)"
   ]
  },
  {
   "cell_type": "code",
   "execution_count": 19,
   "metadata": {},
   "outputs": [],
   "source": [
    "train = pd.read_csv(\"data/train_pre_processing_false.csv\")\n",
    "test = pd.read_csv(\"data/test_pre_processing_false.csv\")\n",
    "x_train, y_train = train.select_dtypes(include=['float64','int64','bool']).iloc[:,:-1],train.iloc[:,-1]\n",
    "x_train.columns = [\"\".join (c if c.isalnum() else \"_\" for c in str(x)) for x in x_train.columns]\n",
    "x_test = test.drop(columns=['id']).select_dtypes(include=['float64','int64','bool'])\n",
    "x_test.columns = [\"\".join (c if c.isalnum() else \"_\" for c in str(x)) for x in x_test.columns]\n",
    "submit = test['id'].to_frame()\n",
    "light_model = LGBMClassifier(random_state=1)\n",
    "light_model.fit(x_train, y_train)\n",
    "preds = light_model.predict(x_test)\n",
    "submit['target'] = preds\n",
    "submit.to_csv('data/submit_kaggle_false.csv', index=False)"
   ]
  },
  {
   "cell_type": "code",
   "execution_count": 20,
   "metadata": {},
   "outputs": [],
   "source": [
    "train = pd.read_csv(\"data/train_pre_processing_true_false.csv\")\n",
    "test = pd.read_csv(\"data/test_pre_processing_true_false.csv\")\n",
    "x_train, y_train = train.select_dtypes(include=['float64','int64','bool']).iloc[:,:-1],train.iloc[:,-1]\n",
    "x_train.columns = [\"\".join (c if c.isalnum() else \"_\" for c in str(x)) for x in x_train.columns]\n",
    "x_test = test.drop(columns=['id']).select_dtypes(include=['float64','int64','bool'])\n",
    "x_test.columns = [\"\".join (c if c.isalnum() else \"_\" for c in str(x)) for x in x_test.columns]\n",
    "submit = test['id'].to_frame()\n",
    "light_model = LGBMClassifier(random_state=1)\n",
    "light_model.fit(x_train, y_train)\n",
    "preds = light_model.predict(x_test)\n",
    "submit['target'] = preds\n",
    "submit.to_csv('data/submit_kaggle_true_false.csv', index=False)"
   ]
  },
  {
   "cell_type": "code",
   "execution_count": null,
   "metadata": {},
   "outputs": [],
   "source": []
  }
 ],
 "metadata": {
  "kernelspec": {
   "display_name": "Python 3",
   "language": "python",
   "name": "python3"
  },
  "language_info": {
   "codemirror_mode": {
    "name": "ipython",
    "version": 3
   },
   "file_extension": ".py",
   "mimetype": "text/x-python",
   "name": "python",
   "nbconvert_exporter": "python",
   "pygments_lexer": "ipython3",
   "version": "3.7.6"
  }
 },
 "nbformat": 4,
 "nbformat_minor": 4
}
