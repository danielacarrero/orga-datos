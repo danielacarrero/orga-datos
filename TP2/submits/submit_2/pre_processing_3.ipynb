{
 "cells": [
  {
   "cell_type": "code",
   "execution_count": 107,
   "metadata": {},
   "outputs": [],
   "source": [
    "import pandas as pd\n",
    "from fuzzywuzzy import fuzz\n",
    "import re\n",
    "\n"
   ]
  },
  {
   "cell_type": "code",
   "execution_count": 108,
   "metadata": {},
   "outputs": [],
   "source": [
    "train = pd.read_csv(\"data/train_pre_processing.csv\")\n",
    "test = pd.read_csv(\"data/test_pre_processing.csv\")"
   ]
  },
  {
   "cell_type": "code",
   "execution_count": 109,
   "metadata": {},
   "outputs": [],
   "source": [
    "train['text_contain_keyword'] = train.text_contain_keyword.fillna(False).astype('bool')\n",
    "test['text_contain_keyword'] = test.text_contain_keyword.fillna(False).astype('bool')"
   ]
  },
  {
   "cell_type": "code",
   "execution_count": 110,
   "metadata": {},
   "outputs": [],
   "source": [
    "def string_contain_word_string(s,ws):\n",
    "    if pd.isna(ws):\n",
    "        return False\n",
    "    for w1 in ws.lower().split(\" \"):\n",
    "        for w2 in w1.split(\",\"):\n",
    "            for w3 in w2.split(\":\"):\n",
    "                for w in w3.split(\".\"):\n",
    "                    if len(w) > 3 and w in s.lower():\n",
    "                        return True\n",
    "    return False\n",
    "\n",
    "train['text_contain_word_location'] = train.apply(lambda x: string_contain_word_string(x.text,x.location), axis = 1)\n",
    "test['text_contain_word_location'] = test.apply(lambda x: string_contain_word_string(x.text,x.location), axis = 1)"
   ]
  },
  {
   "cell_type": "code",
   "execution_count": 111,
   "metadata": {},
   "outputs": [],
   "source": [
    "train['len_location_cero_default'] = train.location.transform(lambda x: 0 if pd.isna(x) else len(x))\n",
    "test['len_location_cero_default'] = test.location.transform(lambda x: 0 if pd.isna(x) else len(x))\n",
    "\n",
    "len_location_mean = int(train.loc[train.len_location_cero_default != 0,'len_location_cero_default'].mean())\n",
    "\n",
    "train['len_location_mean_default'] = train.len_location_cero_default.replace(0, len_location_mean)\n",
    "test['len_location_mean_default'] = test.len_location_cero_default.replace(0, len_location_mean)\n",
    "\n",
    "train['total_words_location_cero_default'] = train.location.transform(lambda x: 0 if pd.isna(x) else len(x.split(\" \")))\n",
    "test['total_words_location_cero_default'] = test.location.transform(lambda x: 0 if pd.isna(x) else len(x.split(\" \")))\n",
    "\n",
    "total_words_location_mean = int(train.loc[train.total_words_location_cero_default != 0,'total_words_location_cero_default'].mean())\n",
    "\n",
    "train['total_words_location_mean_default'] = train.total_words_location_cero_default.replace(0, total_words_location_mean)\n",
    "test['total_words_location_mean_default'] = test.total_words_location_cero_default.replace(0, total_words_location_mean)\n",
    "\n"
   ]
  },
  {
   "cell_type": "code",
   "execution_count": 112,
   "metadata": {},
   "outputs": [],
   "source": [
    "def text_contain_similarity_word(x,y):\n",
    "    if pd.isna(y):\n",
    "        return False\n",
    "    \n",
    "    for w in x.lower().split(\" \"):\n",
    "        if fuzz.ratio(w,y.lower()) > 80:\n",
    "            return True\n",
    "    return False \n",
    "\n",
    "train['text_contain_keyword_similarity'] = train.apply(lambda x: text_contain_similarity_word(x.text,x.keyword_grouped), axis = 1)\n",
    "test['text_contain_keyword_similarity'] = test.apply(lambda x: text_contain_similarity_word(x.text,x.keyword_grouped), axis = 1)\n",
    "\n"
   ]
  },
  {
   "cell_type": "code",
   "execution_count": 113,
   "metadata": {},
   "outputs": [],
   "source": [
    "train['text_similarity_keyword'] = train.apply(lambda x: 0 if pd.isna(x.keyword_grouped) else fuzz.ratio(x.text.lower(),x.keyword_grouped.lower()), axis = 1)\n",
    "test['text_similarity_keyword'] = test.apply(lambda x: 0 if pd.isna(x.keyword_grouped) else fuzz.ratio(x.text.lower(),x.keyword_grouped.lower()), axis = 1)\n",
    "\n"
   ]
  },
  {
   "cell_type": "code",
   "execution_count": 114,
   "metadata": {},
   "outputs": [],
   "source": [
    "def get_best_similarity(s,w):\n",
    "    similarity = 0\n",
    "    \n",
    "    for x in s.split(\" \"):\n",
    "        if fuzz.ratio(x,w) > similarity:\n",
    "            similarity = fuzz.ratio(x,w)\n",
    "    return similarity\n",
    "\n",
    "train['text_best_similarity_keyword'] = train.apply(lambda x: 0 if pd.isna(x.keyword_grouped) else get_best_similarity(x.text.lower(),x.keyword_grouped.lower()), axis = 1)\n",
    "test['text_best_similarity_keyword'] = test.apply(lambda x: 0 if pd.isna(x.keyword_grouped) else get_best_similarity(x.text.lower(),x.keyword_grouped.lower()), axis = 1)\n"
   ]
  },
  {
   "cell_type": "code",
   "execution_count": 115,
   "metadata": {},
   "outputs": [],
   "source": [
    "train['text_similarity_location'] = train.apply(lambda x: 0 if pd.isna(x.location) else fuzz.ratio(x.text.lower(),x.location.lower()), axis = 1)\n",
    "test['text_similarity_location'] = test.apply(lambda x: 0 if pd.isna(x.location) else fuzz.ratio(x.text.lower(),x.location.lower()), axis = 1)\n"
   ]
  },
  {
   "cell_type": "code",
   "execution_count": 116,
   "metadata": {},
   "outputs": [],
   "source": [
    "train['text_best_similarity_location'] = train.apply(lambda x: 0 if pd.isna(x.location) else get_best_similarity(x.text.lower(),x.location.lower()), axis = 1)\n",
    "test['text_best_similarity_location'] = test.apply(lambda x: 0 if pd.isna(x.location) else get_best_similarity(x.text.lower(),x.location.lower()), axis = 1)\n"
   ]
  },
  {
   "cell_type": "code",
   "execution_count": 117,
   "metadata": {},
   "outputs": [],
   "source": [
    "train['ratio_short_big_words']  = train['total_3_orless_words'] / train['total_5_ormore_words'].replace(0,1)\n",
    "test['ratio_short_big_words']  = test['total_3_orless_words'] / test['total_5_ormore_words'].replace(0,1)"
   ]
  },
  {
   "cell_type": "code",
   "execution_count": 118,
   "metadata": {},
   "outputs": [],
   "source": [
    "train.drop(columns=['subjectivity_text', 'text_best_similarity_location', 'text_similarity_location', 'total_4_words', 'total_4_ormore_words', 'total_7_words', 'total_4_orless_words', 'len_location_mean_default'],inplace = True)\n",
    "test.drop( columns=['subjectivity_text', 'text_best_similarity_location', 'text_similarity_location', 'total_4_words', 'total_4_ormore_words', 'total_7_words', 'total_4_orless_words', 'len_location_mean_default'],inplace = True)\n"
   ]
  },
  {
   "cell_type": "code",
   "execution_count": 119,
   "metadata": {},
   "outputs": [],
   "source": [
    "words_dict = {}\n",
    "for x in train.loc[:,['text','target']].iterrows():\n",
    "    for word in re.split(' |\\'|\\*|\\n|:|#|@|-|\\?|\\.|,|[|]|!|¡',x[1]['text']):\n",
    "        word = word.lower()\n",
    "        if len(word) < 4:\n",
    "            continue\n",
    "        if not word in words_dict:\n",
    "            words_dict[word] = [0,0]\n",
    "        if x[1]['target'] == 1:\n",
    "            words_dict[word][0] = words_dict[word][0] + 1\n",
    "        else:\n",
    "            words_dict[word][1] = words_dict[word][1] + 1"
   ]
  },
  {
   "cell_type": "code",
   "execution_count": 120,
   "metadata": {},
   "outputs": [],
   "source": [
    "words_df = pd.DataFrame(words_dict,index=['total_target_true','total_target_false']).transpose()\n",
    "words_df = words_df.loc[(words_df.total_target_true + words_df.total_target_false) > 10]"
   ]
  },
  {
   "cell_type": "code",
   "execution_count": 121,
   "metadata": {},
   "outputs": [],
   "source": [
    "words_100_true = []\n",
    "words_100_false = []\n",
    "words_90_true = []\n",
    "words_90_false = []\n",
    "words_85_true = []\n",
    "words_85_false = []\n",
    "words_80_true = []\n",
    "words_80_false = []\n",
    "words_75_true = []\n",
    "words_75_false = []\n",
    "words_70_true = []\n",
    "words_70_false = []\n",
    "\n",
    "\n",
    "for word in words_df.iterrows():\n",
    "    false = word[1]['total_target_false']\n",
    "    true = word[1]['total_target_true']\n",
    "    \n",
    "    if true == 0:\n",
    "        words_100_false.append(word[0])\n",
    "        \n",
    "    if false == 0:\n",
    "        words_100_true.append(word[0])\n",
    "        \n",
    "    if true / (true + false) >= 0.9:\n",
    "        words_90_true.append(word[0])\n",
    "\n",
    "    if false / (true + false) >= 0.9:\n",
    "        words_90_false.append(word[0])\n",
    "        \n",
    "    if true / (true + false) >= 0.85:\n",
    "        words_85_true.append(word[0])\n",
    "\n",
    "    if false / (true + false) >= 0.85:\n",
    "        words_85_false.append(word[0])\n",
    "        \n",
    "    if true / (true + false) >= 0.8:\n",
    "        words_80_true.append(word[0])\n",
    "\n",
    "    if false / (true + false) >= 0.8:\n",
    "        words_80_false.append(word[0])\n",
    "\n",
    "    if true / (true + false) >= 0.75:\n",
    "        words_75_true.append(word[0])\n",
    "\n",
    "    if false / (true + false) >= 0.75:\n",
    "        words_75_false.append(word[0])\n",
    "        \n",
    "    if true / (true + false) >= 0.7:\n",
    "        words_70_true.append(word[0])\n",
    "\n",
    "    if false / (true + false) >= 0.7:\n",
    "        words_70_false.append(word[0])"
   ]
  },
  {
   "cell_type": "code",
   "execution_count": 122,
   "metadata": {},
   "outputs": [],
   "source": [
    "def text_contain_word_list(s,l):\n",
    "    for word in l:\n",
    "        if word.lower() in s.lower():\n",
    "            return True\n",
    "    return False"
   ]
  },
  {
   "cell_type": "code",
   "execution_count": 123,
   "metadata": {},
   "outputs": [],
   "source": [
    "train['contain_words_100_true'] = train.text.transform(lambda x: text_contain_word_list(x,words_100_true))\n",
    "train['contain_words_100_false'] = train.text.transform(lambda x: text_contain_word_list(x,words_100_false))\n",
    "train['contain_words_90_true'] = train.text.transform(lambda x: text_contain_word_list(x,words_90_true))\n",
    "train['contain_words_90_false'] = train.text.transform(lambda x: text_contain_word_list(x,words_90_false))\n",
    "train['contain_words_85_true'] = train.text.transform(lambda x: text_contain_word_list(x,words_85_true))\n",
    "train['contain_words_85_false'] = train.text.transform(lambda x: text_contain_word_list(x,words_85_false))\n",
    "train['contain_words_80_true'] = train.text.transform(lambda x: text_contain_word_list(x,words_80_true))\n",
    "train['contain_words_80_false'] = train.text.transform(lambda x: text_contain_word_list(x,words_80_false))\n",
    "train['contain_words_75_true'] = train.text.transform(lambda x: text_contain_word_list(x,words_75_true))\n",
    "train['contain_words_75_false'] = train.text.transform(lambda x: text_contain_word_list(x,words_75_false))\n",
    "train['contain_words_70_true'] = train.text.transform(lambda x: text_contain_word_list(x,words_70_true))\n",
    "train['contain_words_70_false'] = train.text.transform(lambda x: text_contain_word_list(x,words_70_false))\n",
    "\n",
    "test['contain_words_100_true'] = test.text.transform(lambda x: text_contain_word_list(x,words_100_true))\n",
    "test['contain_words_100_false'] = test.text.transform(lambda x: text_contain_word_list(x,words_100_false))\n",
    "test['contain_words_90_true'] = test.text.transform(lambda x: text_contain_word_list(x,words_90_true))\n",
    "test['contain_words_90_false'] = test.text.transform(lambda x: text_contain_word_list(x,words_90_false))\n",
    "test['contain_words_85_true'] = test.text.transform(lambda x: text_contain_word_list(x,words_85_true))\n",
    "test['contain_words_85_false'] = test.text.transform(lambda x: text_contain_word_list(x,words_85_false))\n",
    "test['contain_words_80_true'] = test.text.transform(lambda x: text_contain_word_list(x,words_80_true))\n",
    "test['contain_words_80_false'] = test.text.transform(lambda x: text_contain_word_list(x,words_80_false))\n",
    "test['contain_words_75_true'] = test.text.transform(lambda x: text_contain_word_list(x,words_75_true))\n",
    "test['contain_words_75_false'] = test.text.transform(lambda x: text_contain_word_list(x,words_75_false))\n",
    "test['contain_words_70_true'] = test.text.transform(lambda x: text_contain_word_list(x,words_70_true))\n",
    "test['contain_words_70_false'] = test.text.transform(lambda x: text_contain_word_list(x,words_70_false))"
   ]
  },
  {
   "cell_type": "code",
   "execution_count": 124,
   "metadata": {},
   "outputs": [],
   "source": [
    "train.drop(columns=['len_text', 'contain_words_75_false', 'total_7_ormore_words', 'contain_words_100_false', 'total_common_chars', 'total_7_orless_words'],inplace = True)\n",
    "test.drop( columns=['len_text', 'contain_words_75_false', 'total_7_ormore_words', 'contain_words_100_false', 'total_common_chars', 'total_7_orless_words'],inplace = True)\n",
    "\n"
   ]
  },
  {
   "cell_type": "code",
   "execution_count": 125,
   "metadata": {},
   "outputs": [
    {
     "name": "stdout",
     "output_type": "stream",
     "text": [
      "<class 'pandas.core.frame.DataFrame'>\n",
      "RangeIndex: 7613 entries, 0 to 7612\n",
      "Data columns (total 47 columns):\n",
      " #   Column                             Non-Null Count  Dtype  \n",
      "---  ------                             --------------  -----  \n",
      " 0   keyword                            7552 non-null   object \n",
      " 1   location                           5080 non-null   object \n",
      " 2   text                               7613 non-null   object \n",
      " 3   keyword_grouped                    7552 non-null   object \n",
      " 4   text_contain_keyword               7613 non-null   bool   \n",
      " 5   total_words                        7613 non-null   int64  \n",
      " 6   total_upper_chars                  7613 non-null   int64  \n",
      " 7   total_numbers_chars                7613 non-null   int64  \n",
      " 8   total_special_chars                7613 non-null   int64  \n",
      " 9   contain_question                   7613 non-null   bool   \n",
      " 10  contain_link                       7613 non-null   bool   \n",
      " 11  contain_hashtag                    7613 non-null   bool   \n",
      " 12  contain_upper_words                7613 non-null   bool   \n",
      " 13  total_3_words                      7613 non-null   int64  \n",
      " 14  total_5_words                      7613 non-null   int64  \n",
      " 15  total_6_words                      7613 non-null   int64  \n",
      " 16  total_8_words                      7613 non-null   int64  \n",
      " 17  total_3_ormore_words               7613 non-null   int64  \n",
      " 18  total_5_ormore_words               7613 non-null   int64  \n",
      " 19  total_6_ormore_words               7613 non-null   int64  \n",
      " 20  total_8_ormore_words               7613 non-null   int64  \n",
      " 21  total_3_orless_words               7613 non-null   int64  \n",
      " 22  total_5_orless_words               7613 non-null   int64  \n",
      " 23  total_6_orless_words               7613 non-null   int64  \n",
      " 24  total_8_orless_words               7613 non-null   int64  \n",
      " 25  polarity_text                      7613 non-null   float64\n",
      " 26  stopword_count                     7613 non-null   int64  \n",
      " 27  unique_word_count                  7613 non-null   int64  \n",
      " 28  text_contain_word_location         7613 non-null   bool   \n",
      " 29  len_location_cero_default          7613 non-null   int64  \n",
      " 30  total_words_location_cero_default  7613 non-null   int64  \n",
      " 31  total_words_location_mean_default  7613 non-null   int64  \n",
      " 32  text_contain_keyword_similarity    7613 non-null   bool   \n",
      " 33  text_similarity_keyword            7613 non-null   int64  \n",
      " 34  text_best_similarity_keyword       7613 non-null   int64  \n",
      " 35  ratio_short_big_words              7613 non-null   float64\n",
      " 36  contain_words_100_true             7613 non-null   bool   \n",
      " 37  contain_words_90_true              7613 non-null   bool   \n",
      " 38  contain_words_90_false             7613 non-null   bool   \n",
      " 39  contain_words_85_true              7613 non-null   bool   \n",
      " 40  contain_words_85_false             7613 non-null   bool   \n",
      " 41  contain_words_80_true              7613 non-null   bool   \n",
      " 42  contain_words_80_false             7613 non-null   bool   \n",
      " 43  contain_words_75_true              7613 non-null   bool   \n",
      " 44  contain_words_70_true              7613 non-null   bool   \n",
      " 45  contain_words_70_false             7613 non-null   bool   \n",
      " 46  target                             7613 non-null   int64  \n",
      "dtypes: bool(17), float64(2), int64(24), object(4)\n",
      "memory usage: 1.9+ MB\n"
     ]
    }
   ],
   "source": [
    "target = train.target\n",
    "train.drop(columns=['target'], inplace=True)\n",
    "train['target'] = target\n",
    "train.info()"
   ]
  },
  {
   "cell_type": "code",
   "execution_count": 126,
   "metadata": {},
   "outputs": [
    {
     "name": "stdout",
     "output_type": "stream",
     "text": [
      "<class 'pandas.core.frame.DataFrame'>\n",
      "RangeIndex: 3263 entries, 0 to 3262\n",
      "Data columns (total 47 columns):\n",
      " #   Column                             Non-Null Count  Dtype  \n",
      "---  ------                             --------------  -----  \n",
      " 0   id                                 3263 non-null   int64  \n",
      " 1   keyword                            3237 non-null   object \n",
      " 2   location                           2158 non-null   object \n",
      " 3   text                               3263 non-null   object \n",
      " 4   keyword_grouped                    3237 non-null   object \n",
      " 5   text_contain_keyword               3263 non-null   bool   \n",
      " 6   total_words                        3263 non-null   int64  \n",
      " 7   total_upper_chars                  3263 non-null   int64  \n",
      " 8   total_numbers_chars                3263 non-null   int64  \n",
      " 9   total_special_chars                3263 non-null   int64  \n",
      " 10  contain_question                   3263 non-null   bool   \n",
      " 11  contain_link                       3263 non-null   bool   \n",
      " 12  contain_hashtag                    3263 non-null   bool   \n",
      " 13  contain_upper_words                3263 non-null   bool   \n",
      " 14  total_3_words                      3263 non-null   int64  \n",
      " 15  total_5_words                      3263 non-null   int64  \n",
      " 16  total_6_words                      3263 non-null   int64  \n",
      " 17  total_8_words                      3263 non-null   int64  \n",
      " 18  total_3_ormore_words               3263 non-null   int64  \n",
      " 19  total_5_ormore_words               3263 non-null   int64  \n",
      " 20  total_6_ormore_words               3263 non-null   int64  \n",
      " 21  total_8_ormore_words               3263 non-null   int64  \n",
      " 22  total_3_orless_words               3263 non-null   int64  \n",
      " 23  total_5_orless_words               3263 non-null   int64  \n",
      " 24  total_6_orless_words               3263 non-null   int64  \n",
      " 25  total_8_orless_words               3263 non-null   int64  \n",
      " 26  polarity_text                      3263 non-null   float64\n",
      " 27  stopword_count                     3263 non-null   int64  \n",
      " 28  unique_word_count                  3263 non-null   int64  \n",
      " 29  text_contain_word_location         3263 non-null   bool   \n",
      " 30  len_location_cero_default          3263 non-null   int64  \n",
      " 31  total_words_location_cero_default  3263 non-null   int64  \n",
      " 32  total_words_location_mean_default  3263 non-null   int64  \n",
      " 33  text_contain_keyword_similarity    3263 non-null   bool   \n",
      " 34  text_similarity_keyword            3263 non-null   int64  \n",
      " 35  text_best_similarity_keyword       3263 non-null   int64  \n",
      " 36  ratio_short_big_words              3263 non-null   float64\n",
      " 37  contain_words_100_true             3263 non-null   bool   \n",
      " 38  contain_words_90_true              3263 non-null   bool   \n",
      " 39  contain_words_90_false             3263 non-null   bool   \n",
      " 40  contain_words_85_true              3263 non-null   bool   \n",
      " 41  contain_words_85_false             3263 non-null   bool   \n",
      " 42  contain_words_80_true              3263 non-null   bool   \n",
      " 43  contain_words_80_false             3263 non-null   bool   \n",
      " 44  contain_words_75_true              3263 non-null   bool   \n",
      " 45  contain_words_70_true              3263 non-null   bool   \n",
      " 46  contain_words_70_false             3263 non-null   bool   \n",
      "dtypes: bool(17), float64(2), int64(24), object(4)\n",
      "memory usage: 819.1+ KB\n"
     ]
    }
   ],
   "source": [
    "test.info()"
   ]
  },
  {
   "cell_type": "code",
   "execution_count": 128,
   "metadata": {},
   "outputs": [],
   "source": [
    "#train.to_csv('data/train_pre_processing_3.csv', index=False)\n",
    "#test.to_csv('data/test_pre_processing_3.csv', index=False)"
   ]
  },
  {
   "cell_type": "code",
   "execution_count": null,
   "metadata": {},
   "outputs": [],
   "source": []
  }
 ],
 "metadata": {
  "kernelspec": {
   "display_name": "Python 3",
   "language": "python",
   "name": "python3"
  },
  "language_info": {
   "codemirror_mode": {
    "name": "ipython",
    "version": 3
   },
   "file_extension": ".py",
   "mimetype": "text/x-python",
   "name": "python",
   "nbconvert_exporter": "python",
   "pygments_lexer": "ipython3",
   "version": "3.7.6"
  }
 },
 "nbformat": 4,
 "nbformat_minor": 4
}
