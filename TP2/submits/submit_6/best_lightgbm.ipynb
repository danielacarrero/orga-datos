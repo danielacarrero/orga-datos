{
 "cells": [
  {
   "cell_type": "code",
   "execution_count": 14,
   "metadata": {},
   "outputs": [],
   "source": [
    "from lightgbm import LGBMClassifier\n",
    "import pandas as pd\n"
   ]
  },
  {
   "cell_type": "code",
   "execution_count": 15,
   "metadata": {},
   "outputs": [],
   "source": [
    "train = pd.read_csv(\"data/train_pre_processing_true_false.csv\")\n",
    "test = pd.read_csv(\"data/test_pre_processing_true_false.csv\")\n",
    "\n",
    "x_train, y_train = train.select_dtypes(include=['float64','int64','bool']).iloc[:,:-1],train.iloc[:,-1]\n",
    "x_train.columns = [\"\".join (c if c.isalnum() else \"_\" for c in str(x)) for x in x_train.columns]\n",
    "x_test = test.drop(columns=['id']).select_dtypes(include=['float64','int64','bool'])\n",
    "x_test.columns = [\"\".join (c if c.isalnum() else \"_\" for c in str(x)) for x in x_test.columns]\n",
    "\n"
   ]
  },
  {
   "cell_type": "code",
   "execution_count": 16,
   "metadata": {},
   "outputs": [],
   "source": [
    "preds_dict = {}\n",
    "rango = 20\n",
    "for i in range(42+rango,len(x_train.columns),rango):\n",
    "    \n",
    "    light_model = LGBMClassifier(random_state=1)\n",
    "    train_emsemble = x_train.iloc[:,range(0,42)].join(x_train.iloc[:,range(i-rango,i)])\n",
    "    light_model.fit(train_emsemble, y_train)\n",
    "    test_emsemble = x_test.iloc[:,range(0,42)].join(x_test.iloc[:,range(i-rango,i)])\n",
    "    preds = light_model.predict(test_emsemble)\n",
    "    preds_dict['{} to {}'.format(i-rango,i)] = preds\n",
    "    \n",
    "preds = pd.DataFrame(preds_dict).transpose().sum().transform(lambda x: 1 if x >= (len(preds_dict)/2) else 0)\n"
   ]
  },
  {
   "cell_type": "code",
   "execution_count": 17,
   "metadata": {},
   "outputs": [],
   "source": [
    "submit = test['id'].to_frame()\n",
    "submit['target'] = preds\n",
    "submit.to_csv('data/submit_kaggle_MV', index=False)"
   ]
  }
 ],
 "metadata": {
  "kernelspec": {
   "display_name": "Python 3",
   "language": "python",
   "name": "python3"
  },
  "language_info": {
   "codemirror_mode": {
    "name": "ipython",
    "version": 3
   },
   "file_extension": ".py",
   "mimetype": "text/x-python",
   "name": "python",
   "nbconvert_exporter": "python",
   "pygments_lexer": "ipython3",
   "version": "3.7.6"
  }
 },
 "nbformat": 4,
 "nbformat_minor": 4
}
