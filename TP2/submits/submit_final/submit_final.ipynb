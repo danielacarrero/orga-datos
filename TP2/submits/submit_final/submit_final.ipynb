{
  "nbformat": 4,
  "nbformat_minor": 0,
  "metadata": {
    "kernelspec": {
      "display_name": "Python 3",
      "language": "python",
      "name": "python3"
    },
    "language_info": {
      "codemirror_mode": {
        "name": "ipython",
        "version": 3
      },
      "file_extension": ".py",
      "mimetype": "text/x-python",
      "name": "python",
      "nbconvert_exporter": "python",
      "pygments_lexer": "ipython3",
      "version": "3.7.4"
    },
    "colab": {
      "name": "submit_finalVF.ipynb",
      "provenance": []
    }
  },
  "cells": [
    {
      "cell_type": "code",
      "metadata": {
        "id": "q8dcOElw66nX",
        "colab_type": "code",
        "colab": {}
      },
      "source": [
        "import pandas as pd\n",
        "import numpy as np\n",
        "import matplotlib.pyplot as plt\n",
        "\n",
        "#es para correrlo en colab\n",
        "from google.colab import files\n",
        "import io\n",
        "#finn\n",
        "\n",
        "from lightgbm import LGBMClassifier\n",
        "import xgboost as xgb\n",
        "\n",
        "from sklearn.preprocessing import LabelEncoder"
      ],
      "execution_count": null,
      "outputs": []
    },
    {
      "cell_type": "code",
      "metadata": {
        "id": "CuzLPplj66nc",
        "colab_type": "code",
        "colab": {}
      },
      "source": [
        "test = pd.read_csv(\"data/test.csv\")\n",
        "ensemble_submit = test['id'].to_frame()"
      ],
      "execution_count": null,
      "outputs": []
    },
    {
      "cell_type": "markdown",
      "metadata": {
        "id": "Tulgbu-p7If_",
        "colab_type": "text"
      },
      "source": [
        "## CNN"
      ]
    },
    {
      "cell_type": "code",
      "metadata": {
        "id": "sIEsyV31pYyA",
        "colab_type": "code",
        "colab": {}
      },
      "source": [
        "from   keras                        import initializers, regularizers, constraints, callbacks, optimizers\n",
        "from   keras.layers                 import Conv1D, Embedding, GlobalMaxPooling1D, concatenate, Input, Dense,Dropout\n",
        "from   keras.models                 import Sequential, Model\n",
        "from   keras.preprocessing.sequence import pad_sequences\n",
        "from   keras.preprocessing.text     import Tokenizer\n",
        "from   sklearn.model_selection      import train_test_split\n",
        "from   gensim.models.keyedvectors   import KeyedVectors"
      ],
      "execution_count": null,
      "outputs": []
    },
    {
      "cell_type": "markdown",
      "metadata": {
        "id": "zkLJV0zHg59V",
        "colab_type": "text"
      },
      "source": [
        "### Preparacion de datos"
      ]
    },
    {
      "cell_type": "code",
      "metadata": {
        "id": "tzsxQfWLsQ0h",
        "colab_type": "code",
        "colab": {}
      },
      "source": [
        "train_cnn = pd.read_csv('data/tran_cnn.csv')\n",
        "test_cnn = pd.read_csv('data/test_cnn.csv')"
      ],
      "execution_count": null,
      "outputs": []
    },
    {
      "cell_type": "code",
      "metadata": {
        "id": "foc4Q7Km--r4",
        "colab_type": "code",
        "colab": {}
      },
      "source": [
        "test_cnn.text_clean.fillna(\" \", inplace=True)\n",
        "test_it=test_cnn[[\"id\",\"text_clean\"]]\n",
        "total_words = train_cnn[[\"id\",\"text_clean\"]]\n",
        "total_words=pd.concat([total_words,test_it], sort = 'False')"
      ],
      "execution_count": null,
      "outputs": []
    },
    {
      "cell_type": "code",
      "metadata": {
        "id": "cvhjPLwLEIt2",
        "colab_type": "code",
        "colab": {}
      },
      "source": [
        "numWords=20000\n",
        "tokenizer = Tokenizer(num_words = numWords)\n",
        "tokenizer.fit_on_texts(total_words.text_clean)\n",
        "sequences_train  = tokenizer.texts_to_sequences(train_cnn['text_clean'])\n",
        "sequences_test  =  tokenizer.texts_to_sequences(test_cnn['text_clean'])\n",
        "word_index       = tokenizer.word_index"
      ],
      "execution_count": null,
      "outputs": []
    },
    {
      "cell_type": "code",
      "metadata": {
        "id": "s1rGH5pWfRRx",
        "colab_type": "code",
        "colab": {}
      },
      "source": [
        "max_length       = 300\n",
        "x_train          = pad_sequences(sequences_train, maxlen = max_length)\n",
        "x_test           = pad_sequences(sequences_test, maxlen = max_length)\n",
        "x_features_train = train_cnn[['len_text', 'count_word_uniques',\"text_contain_keyword_norm\",\"contain_question_norm\",\"contain_hashtag_norm\"]]\n",
        "x_features_test  = test_cnn[['len_text', 'count_word_uniques',\"text_contain_keyword_norm\",\"contain_question_norm\",\"contain_hashtag_norm\"]]\n",
        "y_train          = train_cnn[\"target\"].values"
      ],
      "execution_count": null,
      "outputs": []
    },
    {
      "cell_type": "code",
      "metadata": {
        "id": "yafv8_UMfS9O",
        "colab_type": "code",
        "colab": {
          "base_uri": "https://localhost:8080/",
          "height": 71
        },
        "outputId": "4d3afb01-f1ab-4202-e836-c7b1a1b767a0"
      },
      "source": [
        "word_vectors = KeyedVectors.load_word2vec_format('https://s3.amazonaws.com/dl4j-distribution/GoogleNews-vectors-negative300.bin.gz', binary = True)"
      ],
      "execution_count": null,
      "outputs": [
        {
          "output_type": "stream",
          "text": [
            "/usr/local/lib/python3.6/dist-packages/smart_open/smart_open_lib.py:254: UserWarning: This function is deprecated, use smart_open.open instead. See the migration notes for details: https://github.com/RaRe-Technologies/smart_open/blob/master/README.rst#migrating-to-the-new-open-function\n",
            "  'See the migration notes for details: %s' % _MIGRATION_NOTES_URL\n"
          ],
          "name": "stderr"
        }
      ]
    },
    {
      "cell_type": "code",
      "metadata": {
        "id": "CDHyrn2_g06x",
        "colab_type": "code",
        "colab": {}
      },
      "source": [
        "embeddind_dimension = 300\n",
        "vocabulary_size = min(len(word_index) + 1, numWords)\n",
        "embedding_matrix = np.zeros((vocabulary_size, embeddind_dimension))"
      ],
      "execution_count": null,
      "outputs": []
    },
    {
      "cell_type": "code",
      "metadata": {
        "id": "itXPQI7Cg3Gz",
        "colab_type": "code",
        "colab": {}
      },
      "source": [
        "for word, i in word_index.items():\n",
        "    if i < numWords:\n",
        "        try:\n",
        "            embedding_vector = word_vectors[word]\n",
        "            embedding_matrix[i] = embedding_vector\n",
        "        except KeyError:\n",
        "            embedding_matrix[i] = np.random.normal(0, np.sqrt(0.25), embeddind_dimension)\n",
        "\n",
        "del(word_vectors)"
      ],
      "execution_count": null,
      "outputs": []
    },
    {
      "cell_type": "code",
      "metadata": {
        "id": "fCdOWWv2Qk-k",
        "colab_type": "code",
        "colab": {}
      },
      "source": [
        "e = Embedding(len(embedding_matrix), 200, input_length=300)"
      ],
      "execution_count": null,
      "outputs": []
    },
    {
      "cell_type": "code",
      "metadata": {
        "id": "8lFewX47QfRu",
        "colab_type": "code",
        "colab": {}
      },
      "source": [
        "Xtrain1, Xval1, ytrain1, yval1 = train_test_split(x_train, y_train,\n",
        "                                              train_size = 0.95, random_state = 233)\n",
        "\n",
        "Xfeaturestrain1, Xfeaturesval1, ytrain1, yval1 = train_test_split(x_features_train, y_train,\n",
        "                                                            train_size = 0.95, random_state = 233)"
      ],
      "execution_count": null,
      "outputs": []
    },
    {
      "cell_type": "markdown",
      "metadata": {
        "id": "pmsN4B-xhFeu",
        "colab_type": "text"
      },
      "source": [
        "### Uso de modelos"
      ]
    },
    {
      "cell_type": "code",
      "metadata": {
        "id": "tj9RTPKJ7qOL",
        "colab_type": "code",
        "colab": {
          "base_uri": "https://localhost:8080/",
          "height": 357
        },
        "outputId": "9749a5f2-dad0-4c44-94a1-197bec3d8866"
      },
      "source": [
        "model = Sequential()\n",
        "model.add(e)\n",
        "model.add(Conv1D(filters=100, kernel_size=2, padding='valid', activation='relu', strides=1))\n",
        "model.add(GlobalMaxPooling1D())\n",
        "model.add(Dropout(0.25))\n",
        "model.add(Dense(256, activation='relu'))\n",
        "model.add(Dense(1, activation='sigmoid'))\n",
        "model.compile(loss='binary_crossentropy', optimizer='adam', metrics=['accuracy'])\n",
        "model.summary()"
      ],
      "execution_count": null,
      "outputs": [
        {
          "output_type": "stream",
          "text": [
            "Model: \"sequential_5\"\n",
            "_________________________________________________________________\n",
            "Layer (type)                 Output Shape              Param #   \n",
            "=================================================================\n",
            "embedding_1 (Embedding)      (None, 300, 200)          4000000   \n",
            "_________________________________________________________________\n",
            "conv1d_3 (Conv1D)            (None, 299, 100)          40100     \n",
            "_________________________________________________________________\n",
            "global_max_pooling1d_3 (Glob (None, 100)               0         \n",
            "_________________________________________________________________\n",
            "dropout_3 (Dropout)          (None, 100)               0         \n",
            "_________________________________________________________________\n",
            "dense_8 (Dense)              (None, 256)               25856     \n",
            "_________________________________________________________________\n",
            "dense_9 (Dense)              (None, 1)                 257       \n",
            "=================================================================\n",
            "Total params: 4,066,213\n",
            "Trainable params: 4,066,213\n",
            "Non-trainable params: 0\n",
            "_________________________________________________________________\n"
          ],
          "name": "stdout"
        }
      ]
    },
    {
      "cell_type": "code",
      "metadata": {
        "id": "ga3DBfSfa0KS",
        "colab_type": "code",
        "colab": {
          "base_uri": "https://localhost:8080/",
          "height": 204
        },
        "outputId": "95a73104-06ee-4197-bba5-ed084c2ba545"
      },
      "source": [
        "model.fit(Xtrain1, ytrain1,\n",
        "          validation_data=(Xval1, yval1), \n",
        "          epochs=5, \n",
        "          batch_size=300,\n",
        "          verbose=1)"
      ],
      "execution_count": null,
      "outputs": [
        {
          "output_type": "stream",
          "text": [
            "Epoch 1/5\n",
            "25/25 [==============================] - 16s 636ms/step - loss: 0.4167 - accuracy: 0.8494 - val_loss: 0.5952 - val_accuracy: 0.7690\n",
            "Epoch 2/5\n",
            "25/25 [==============================] - 16s 626ms/step - loss: 0.0508 - accuracy: 0.9835 - val_loss: 1.0852 - val_accuracy: 0.7559\n",
            "Epoch 3/5\n",
            "25/25 [==============================] - 16s 628ms/step - loss: 0.0343 - accuracy: 0.9847 - val_loss: 1.1655 - val_accuracy: 0.7533\n",
            "Epoch 4/5\n",
            "25/25 [==============================] - 16s 635ms/step - loss: 0.0309 - accuracy: 0.9855 - val_loss: 1.1684 - val_accuracy: 0.7638\n",
            "Epoch 5/5\n",
            "25/25 [==============================] - 16s 639ms/step - loss: 0.0306 - accuracy: 0.9841 - val_loss: 1.1513 - val_accuracy: 0.7690\n"
          ],
          "name": "stdout"
        },
        {
          "output_type": "execute_result",
          "data": {
            "text/plain": [
              "<tensorflow.python.keras.callbacks.History at 0x7f5a2ec51668>"
            ]
          },
          "metadata": {
            "tags": []
          },
          "execution_count": 99
        }
      ]
    },
    {
      "cell_type": "code",
      "metadata": {
        "id": "YmTHMv7Ca2Lg",
        "colab_type": "code",
        "colab": {}
      },
      "source": [
        "y_pred1 = model.predict_classes(x_test)"
      ],
      "execution_count": null,
      "outputs": []
    },
    {
      "cell_type": "code",
      "metadata": {
        "id": "oMBh1-Po7q2D",
        "colab_type": "code",
        "colab": {
          "base_uri": "https://localhost:8080/",
          "height": 425
        },
        "outputId": "1624ce98-4952-4d1a-f12e-6e3a478dad49"
      },
      "source": [
        "model3 = Sequential()\n",
        "model3.add(e)\n",
        "model3.add(Conv1D(filters=100, kernel_size=2, padding='valid', activation='relu', strides=1))\n",
        "model3.add(GlobalMaxPooling1D())\n",
        "model3.add(Dense(200, activation='relu'))\n",
        "model3.add(Dropout(0.25))\n",
        "model3.add(Dense(200, activation='relu'))\n",
        "model3.add(Dense(100, activation='relu'))\n",
        "model3.add(Dense(1, activation='sigmoid'))\n",
        "model3.compile(loss='binary_crossentropy', optimizer='adam', metrics=['accuracy'])\n",
        "model3.summary()"
      ],
      "execution_count": null,
      "outputs": [
        {
          "output_type": "stream",
          "text": [
            "Model: \"sequential_3\"\n",
            "_________________________________________________________________\n",
            "Layer (type)                 Output Shape              Param #   \n",
            "=================================================================\n",
            "embedding_1 (Embedding)      (None, 300, 200)          4000000   \n",
            "_________________________________________________________________\n",
            "conv1d_1 (Conv1D)            (None, 299, 100)          40100     \n",
            "_________________________________________________________________\n",
            "global_max_pooling1d_1 (Glob (None, 100)               0         \n",
            "_________________________________________________________________\n",
            "dense_2 (Dense)              (None, 200)               20200     \n",
            "_________________________________________________________________\n",
            "dropout_1 (Dropout)          (None, 200)               0         \n",
            "_________________________________________________________________\n",
            "dense_3 (Dense)              (None, 200)               40200     \n",
            "_________________________________________________________________\n",
            "dense_4 (Dense)              (None, 100)               20100     \n",
            "_________________________________________________________________\n",
            "dense_5 (Dense)              (None, 1)                 101       \n",
            "=================================================================\n",
            "Total params: 4,120,701\n",
            "Trainable params: 4,120,701\n",
            "Non-trainable params: 0\n",
            "_________________________________________________________________\n"
          ],
          "name": "stdout"
        }
      ]
    },
    {
      "cell_type": "code",
      "metadata": {
        "id": "67Rw54QEcPFu",
        "colab_type": "code",
        "colab": {
          "base_uri": "https://localhost:8080/",
          "height": 204
        },
        "outputId": "b5b78335-9266-43ff-996a-53e69ceade6f"
      },
      "source": [
        "model3.fit(x = [Xtrain1, Xfeaturestrain1], y = ytrain1, epochs=5,\n",
        "          validation_data = ([Xval1, Xfeaturesval1], yval1), verbose = 1)"
      ],
      "execution_count": null,
      "outputs": [
        {
          "output_type": "stream",
          "text": [
            "Epoch 1/5\n",
            "226/226 [==============================] - 27s 119ms/step - loss: 0.2356 - accuracy: 0.9086 - val_loss: 0.6483 - val_accuracy: 0.7769\n",
            "Epoch 2/5\n",
            "226/226 [==============================] - 27s 118ms/step - loss: 0.0845 - accuracy: 0.9730 - val_loss: 0.7708 - val_accuracy: 0.7612\n",
            "Epoch 3/5\n",
            "226/226 [==============================] - 26s 117ms/step - loss: 0.0503 - accuracy: 0.9815 - val_loss: 0.8233 - val_accuracy: 0.7533\n",
            "Epoch 4/5\n",
            "226/226 [==============================] - 27s 118ms/step - loss: 0.0342 - accuracy: 0.9848 - val_loss: 1.1825 - val_accuracy: 0.7375\n",
            "Epoch 5/5\n",
            "226/226 [==============================] - 26s 117ms/step - loss: 0.0292 - accuracy: 0.9837 - val_loss: 1.2188 - val_accuracy: 0.7533\n"
          ],
          "name": "stdout"
        },
        {
          "output_type": "execute_result",
          "data": {
            "text/plain": [
              "<tensorflow.python.keras.callbacks.History at 0x7f5a2e810da0>"
            ]
          },
          "metadata": {
            "tags": []
          },
          "execution_count": 94
        }
      ]
    },
    {
      "cell_type": "code",
      "metadata": {
        "id": "oShgyqaDcQ0A",
        "colab_type": "code",
        "colab": {}
      },
      "source": [
        "y_pred3 = model3.predict_classes([x_test, x_features_test])"
      ],
      "execution_count": null,
      "outputs": []
    },
    {
      "cell_type": "code",
      "metadata": {
        "id": "ZH8X4nZmcS16",
        "colab_type": "code",
        "colab": {
          "base_uri": "https://localhost:8080/",
          "height": 493
        },
        "outputId": "2ab23b8c-896e-485d-f5e2-041dcbf2b25b"
      },
      "source": [
        "model4 = Sequential()\n",
        "model4.add(e)\n",
        "model4.add(Conv1D(filters=100, kernel_size=2, padding='valid', activation='relu', strides=1))\n",
        "model4.add(GlobalMaxPooling1D())\n",
        "model4.add(Dense(200, activation='relu'))\n",
        "model4.add(Dropout(0.25))\n",
        "model4.add(Dense(200, activation='relu'))\n",
        "model4.add(Dense(100, activation='relu'))\n",
        "model4.add(Dense(50, activation='relu'))\n",
        "model4.add(Dropout(0.25))\n",
        "model4.add(Dense(1, activation='sigmoid'))\n",
        "model4.compile(loss='binary_crossentropy', optimizer='adam', metrics=['accuracy'])\n",
        "model4.summary()"
      ],
      "execution_count": null,
      "outputs": [
        {
          "output_type": "stream",
          "text": [
            "Model: \"sequential_6\"\n",
            "_________________________________________________________________\n",
            "Layer (type)                 Output Shape              Param #   \n",
            "=================================================================\n",
            "embedding_1 (Embedding)      (None, 300, 200)          4000000   \n",
            "_________________________________________________________________\n",
            "conv1d_4 (Conv1D)            (None, 299, 100)          40100     \n",
            "_________________________________________________________________\n",
            "global_max_pooling1d_4 (Glob (None, 100)               0         \n",
            "_________________________________________________________________\n",
            "dense_10 (Dense)             (None, 200)               20200     \n",
            "_________________________________________________________________\n",
            "dropout_4 (Dropout)          (None, 200)               0         \n",
            "_________________________________________________________________\n",
            "dense_11 (Dense)             (None, 200)               40200     \n",
            "_________________________________________________________________\n",
            "dense_12 (Dense)             (None, 100)               20100     \n",
            "_________________________________________________________________\n",
            "dense_13 (Dense)             (None, 50)                5050      \n",
            "_________________________________________________________________\n",
            "dropout_5 (Dropout)          (None, 50)                0         \n",
            "_________________________________________________________________\n",
            "dense_14 (Dense)             (None, 1)                 51        \n",
            "=================================================================\n",
            "Total params: 4,125,701\n",
            "Trainable params: 4,125,701\n",
            "Non-trainable params: 0\n",
            "_________________________________________________________________\n"
          ],
          "name": "stdout"
        }
      ]
    },
    {
      "cell_type": "code",
      "metadata": {
        "id": "GMxVlR3ZcU_I",
        "colab_type": "code",
        "colab": {
          "base_uri": "https://localhost:8080/",
          "height": 204
        },
        "outputId": "bd3e4f4f-30f7-428f-b68b-a0431a23dfda"
      },
      "source": [
        "model4.fit(x = [Xtrain1, Xfeaturestrain1], y = ytrain1, epochs=5,\n",
        "          validation_data = ([Xval1, Xfeaturesval1], yval1), verbose = 1)"
      ],
      "execution_count": null,
      "outputs": [
        {
          "output_type": "stream",
          "text": [
            "Epoch 1/5\n",
            "226/226 [==============================] - 27s 121ms/step - loss: 0.0974 - accuracy: 0.9705 - val_loss: 1.0184 - val_accuracy: 0.7690\n",
            "Epoch 2/5\n",
            "226/226 [==============================] - 27s 118ms/step - loss: 0.0388 - accuracy: 0.9833 - val_loss: 1.1153 - val_accuracy: 0.7480\n",
            "Epoch 3/5\n",
            "226/226 [==============================] - 27s 117ms/step - loss: 0.0273 - accuracy: 0.9853 - val_loss: 1.4452 - val_accuracy: 0.7480\n",
            "Epoch 4/5\n",
            "226/226 [==============================] - 26s 117ms/step - loss: 0.0244 - accuracy: 0.9841 - val_loss: 2.4974 - val_accuracy: 0.7533\n",
            "Epoch 5/5\n",
            "226/226 [==============================] - 26s 117ms/step - loss: 0.0277 - accuracy: 0.9856 - val_loss: 1.4893 - val_accuracy: 0.7559\n"
          ],
          "name": "stdout"
        },
        {
          "output_type": "execute_result",
          "data": {
            "text/plain": [
              "<tensorflow.python.keras.callbacks.History at 0x7f5a2e537eb8>"
            ]
          },
          "metadata": {
            "tags": []
          },
          "execution_count": 107
        }
      ]
    },
    {
      "cell_type": "code",
      "metadata": {
        "id": "C7jr6qnicWuc",
        "colab_type": "code",
        "colab": {}
      },
      "source": [
        "y_pred4 = model4.predict_classes([x_test, x_features_test])"
      ],
      "execution_count": null,
      "outputs": []
    },
    {
      "cell_type": "code",
      "metadata": {
        "id": "kmkXMcteUOKb",
        "colab_type": "code",
        "colab": {}
      },
      "source": [
        "submitFinal = test['id'].to_frame()\n",
        "submitFinal[\"pred1\"]=y_pred1\n",
        "submitFinal[\"pred2\"]=y_pred3\n",
        "submitFinal[\"pred3\"]=y_pred4\n",
        "submitFinal[\"suma\"]=submitFinal.pred1+submitFinal.pred2+submitFinal.pred3\n",
        "submitFinal[\"target\"]=submitFinal.suma.apply(lambda x: 1 if x>2 else 0)"
      ],
      "execution_count": null,
      "outputs": []
    },
    {
      "cell_type": "code",
      "metadata": {
        "id": "D0D_W4DcWguE",
        "colab_type": "code",
        "colab": {}
      },
      "source": [
        "y_cnn=submitFinal[\"target\"]"
      ],
      "execution_count": null,
      "outputs": []
    },
    {
      "cell_type": "markdown",
      "metadata": {
        "id": "auWH8lCU66nj",
        "colab_type": "text"
      },
      "source": [
        "## Light GBM"
      ]
    },
    {
      "cell_type": "code",
      "metadata": {
        "id": "lVXtzsri66nj",
        "colab_type": "code",
        "colab": {
          "base_uri": "https://localhost:8080/",
          "height": 231
        },
        "outputId": "94bdbe0c-6826-4956-974e-a4b807740eb1"
      },
      "source": [
        "train = pd.read_csv(\"data/train_pre_processing_true.csv\")\n",
        "test = pd.read_csv(\"data/test_pre_processing_true.csv\")\n",
        "x_train, y_train = train.select_dtypes(include=['float64','int64','bool']).iloc[:,:-1],train.iloc[:,-1]\n",
        "x_test = test.drop(columns=['id']).select_dtypes(include=['float64','int64','bool'])\n",
        "light_model = LGBMClassifier(random_state=1)\n",
        "light_model.fit(x_train, y_train)\n",
        "preds_1 = light_model.predict(x_test)\n",
        "ensemble_submit['target_lgbm_pred1'] = preds_1"
      ],
      "execution_count": null,
      "outputs": [
        {
          "output_type": "error",
          "ename": "NameError",
          "evalue": "ignored",
          "traceback": [
            "\u001b[0;31m---------------------------------------------------------------------------\u001b[0m",
            "\u001b[0;31mNameError\u001b[0m                                 Traceback (most recent call last)",
            "\u001b[0;32m<ipython-input-1-3b567931aeb0>\u001b[0m in \u001b[0;36m<module>\u001b[0;34m()\u001b[0m\n\u001b[0;32m----> 1\u001b[0;31m \u001b[0mtrain\u001b[0m \u001b[0;34m=\u001b[0m \u001b[0mpd\u001b[0m\u001b[0;34m.\u001b[0m\u001b[0mread_csv\u001b[0m\u001b[0;34m(\u001b[0m\u001b[0;34m\"data/train_pre_processing_true.csv\"\u001b[0m\u001b[0;34m)\u001b[0m\u001b[0;34m\u001b[0m\u001b[0;34m\u001b[0m\u001b[0m\n\u001b[0m\u001b[1;32m      2\u001b[0m \u001b[0mtest\u001b[0m \u001b[0;34m=\u001b[0m \u001b[0mpd\u001b[0m\u001b[0;34m.\u001b[0m\u001b[0mread_csv\u001b[0m\u001b[0;34m(\u001b[0m\u001b[0;34m\"data/test_pre_processing_true.csv\"\u001b[0m\u001b[0;34m)\u001b[0m\u001b[0;34m\u001b[0m\u001b[0;34m\u001b[0m\u001b[0m\n\u001b[1;32m      3\u001b[0m \u001b[0mx_train\u001b[0m\u001b[0;34m,\u001b[0m \u001b[0my_train\u001b[0m \u001b[0;34m=\u001b[0m \u001b[0mtrain\u001b[0m\u001b[0;34m.\u001b[0m\u001b[0mselect_dtypes\u001b[0m\u001b[0;34m(\u001b[0m\u001b[0minclude\u001b[0m\u001b[0;34m=\u001b[0m\u001b[0;34m[\u001b[0m\u001b[0;34m'float64'\u001b[0m\u001b[0;34m,\u001b[0m\u001b[0;34m'int64'\u001b[0m\u001b[0;34m,\u001b[0m\u001b[0;34m'bool'\u001b[0m\u001b[0;34m]\u001b[0m\u001b[0;34m)\u001b[0m\u001b[0;34m.\u001b[0m\u001b[0miloc\u001b[0m\u001b[0;34m[\u001b[0m\u001b[0;34m:\u001b[0m\u001b[0;34m,\u001b[0m\u001b[0;34m:\u001b[0m\u001b[0;34m-\u001b[0m\u001b[0;36m1\u001b[0m\u001b[0;34m]\u001b[0m\u001b[0;34m,\u001b[0m\u001b[0mtrain\u001b[0m\u001b[0;34m.\u001b[0m\u001b[0miloc\u001b[0m\u001b[0;34m[\u001b[0m\u001b[0;34m:\u001b[0m\u001b[0;34m,\u001b[0m\u001b[0;34m-\u001b[0m\u001b[0;36m1\u001b[0m\u001b[0;34m]\u001b[0m\u001b[0;34m\u001b[0m\u001b[0;34m\u001b[0m\u001b[0m\n\u001b[1;32m      4\u001b[0m \u001b[0mx_test\u001b[0m \u001b[0;34m=\u001b[0m \u001b[0mtest\u001b[0m\u001b[0;34m.\u001b[0m\u001b[0mdrop\u001b[0m\u001b[0;34m(\u001b[0m\u001b[0mcolumns\u001b[0m\u001b[0;34m=\u001b[0m\u001b[0;34m[\u001b[0m\u001b[0;34m'id'\u001b[0m\u001b[0;34m]\u001b[0m\u001b[0;34m)\u001b[0m\u001b[0;34m.\u001b[0m\u001b[0mselect_dtypes\u001b[0m\u001b[0;34m(\u001b[0m\u001b[0minclude\u001b[0m\u001b[0;34m=\u001b[0m\u001b[0;34m[\u001b[0m\u001b[0;34m'float64'\u001b[0m\u001b[0;34m,\u001b[0m\u001b[0;34m'int64'\u001b[0m\u001b[0;34m,\u001b[0m\u001b[0;34m'bool'\u001b[0m\u001b[0;34m]\u001b[0m\u001b[0;34m)\u001b[0m\u001b[0;34m\u001b[0m\u001b[0;34m\u001b[0m\u001b[0m\n\u001b[1;32m      5\u001b[0m \u001b[0mlight_model\u001b[0m \u001b[0;34m=\u001b[0m \u001b[0mLGBMClassifier\u001b[0m\u001b[0;34m(\u001b[0m\u001b[0mrandom_state\u001b[0m\u001b[0;34m=\u001b[0m\u001b[0;36m1\u001b[0m\u001b[0;34m)\u001b[0m\u001b[0;34m\u001b[0m\u001b[0;34m\u001b[0m\u001b[0m\n",
            "\u001b[0;31mNameError\u001b[0m: name 'pd' is not defined"
          ]
        }
      ]
    },
    {
      "cell_type": "code",
      "metadata": {
        "id": "a__FitqH66nq",
        "colab_type": "code",
        "colab": {
          "base_uri": "https://localhost:8080/",
          "height": 231
        },
        "outputId": "508ca3de-1498-4745-a556-32effaf936fd"
      },
      "source": [
        "train = pd.read_csv(\"data/train_pre_processing_false.csv\")\n",
        "test = pd.read_csv(\"data/test_pre_processing_false.csv\")\n",
        "x_train, y_train = train.select_dtypes(include=['float64','int64','bool']).iloc[:,:-1],train.iloc[:,-1]\n",
        "x_train.columns = [\"\".join (c if c.isalnum() else \"_\" for c in str(x)) for x in x_train.columns]\n",
        "x_test = test.drop(columns=['id']).select_dtypes(include=['float64','int64','bool'])\n",
        "x_test.columns = [\"\".join (c if c.isalnum() else \"_\" for c in str(x)) for x in x_test.columns]\n",
        "light_model = LGBMClassifier(random_state=1)\n",
        "light_model.fit(x_train, y_train)\n",
        "preds_2 = light_model.predict(x_test)\n",
        "ensemble_submit['target_lgbm_pred2'] = preds_2"
      ],
      "execution_count": null,
      "outputs": [
        {
          "output_type": "error",
          "ename": "NameError",
          "evalue": "ignored",
          "traceback": [
            "\u001b[0;31m---------------------------------------------------------------------------\u001b[0m",
            "\u001b[0;31mNameError\u001b[0m                                 Traceback (most recent call last)",
            "\u001b[0;32m<ipython-input-2-8f71a4dc72eb>\u001b[0m in \u001b[0;36m<module>\u001b[0;34m()\u001b[0m\n\u001b[0;32m----> 1\u001b[0;31m \u001b[0mtrain\u001b[0m \u001b[0;34m=\u001b[0m \u001b[0mpd\u001b[0m\u001b[0;34m.\u001b[0m\u001b[0mread_csv\u001b[0m\u001b[0;34m(\u001b[0m\u001b[0;34m\"data/train_pre_processing_false.csv\"\u001b[0m\u001b[0;34m)\u001b[0m\u001b[0;34m\u001b[0m\u001b[0;34m\u001b[0m\u001b[0m\n\u001b[0m\u001b[1;32m      2\u001b[0m \u001b[0mtest\u001b[0m \u001b[0;34m=\u001b[0m \u001b[0mpd\u001b[0m\u001b[0;34m.\u001b[0m\u001b[0mread_csv\u001b[0m\u001b[0;34m(\u001b[0m\u001b[0;34m\"data/test_pre_processing_false.csv\"\u001b[0m\u001b[0;34m)\u001b[0m\u001b[0;34m\u001b[0m\u001b[0;34m\u001b[0m\u001b[0m\n\u001b[1;32m      3\u001b[0m \u001b[0mx_train\u001b[0m\u001b[0;34m,\u001b[0m \u001b[0my_train\u001b[0m \u001b[0;34m=\u001b[0m \u001b[0mtrain\u001b[0m\u001b[0;34m.\u001b[0m\u001b[0mselect_dtypes\u001b[0m\u001b[0;34m(\u001b[0m\u001b[0minclude\u001b[0m\u001b[0;34m=\u001b[0m\u001b[0;34m[\u001b[0m\u001b[0;34m'float64'\u001b[0m\u001b[0;34m,\u001b[0m\u001b[0;34m'int64'\u001b[0m\u001b[0;34m,\u001b[0m\u001b[0;34m'bool'\u001b[0m\u001b[0;34m]\u001b[0m\u001b[0;34m)\u001b[0m\u001b[0;34m.\u001b[0m\u001b[0miloc\u001b[0m\u001b[0;34m[\u001b[0m\u001b[0;34m:\u001b[0m\u001b[0;34m,\u001b[0m\u001b[0;34m:\u001b[0m\u001b[0;34m-\u001b[0m\u001b[0;36m1\u001b[0m\u001b[0;34m]\u001b[0m\u001b[0;34m,\u001b[0m\u001b[0mtrain\u001b[0m\u001b[0;34m.\u001b[0m\u001b[0miloc\u001b[0m\u001b[0;34m[\u001b[0m\u001b[0;34m:\u001b[0m\u001b[0;34m,\u001b[0m\u001b[0;34m-\u001b[0m\u001b[0;36m1\u001b[0m\u001b[0;34m]\u001b[0m\u001b[0;34m\u001b[0m\u001b[0;34m\u001b[0m\u001b[0m\n\u001b[1;32m      4\u001b[0m \u001b[0mx_train\u001b[0m\u001b[0;34m.\u001b[0m\u001b[0mcolumns\u001b[0m \u001b[0;34m=\u001b[0m \u001b[0;34m[\u001b[0m\u001b[0;34m\"\"\u001b[0m\u001b[0;34m.\u001b[0m\u001b[0mjoin\u001b[0m \u001b[0;34m(\u001b[0m\u001b[0mc\u001b[0m \u001b[0;32mif\u001b[0m \u001b[0mc\u001b[0m\u001b[0;34m.\u001b[0m\u001b[0misalnum\u001b[0m\u001b[0;34m(\u001b[0m\u001b[0;34m)\u001b[0m \u001b[0;32melse\u001b[0m \u001b[0;34m\"_\"\u001b[0m \u001b[0;32mfor\u001b[0m \u001b[0mc\u001b[0m \u001b[0;32min\u001b[0m \u001b[0mstr\u001b[0m\u001b[0;34m(\u001b[0m\u001b[0mx\u001b[0m\u001b[0;34m)\u001b[0m\u001b[0;34m)\u001b[0m \u001b[0;32mfor\u001b[0m \u001b[0mx\u001b[0m \u001b[0;32min\u001b[0m \u001b[0mx_train\u001b[0m\u001b[0;34m.\u001b[0m\u001b[0mcolumns\u001b[0m\u001b[0;34m]\u001b[0m\u001b[0;34m\u001b[0m\u001b[0;34m\u001b[0m\u001b[0m\n\u001b[1;32m      5\u001b[0m \u001b[0mx_test\u001b[0m \u001b[0;34m=\u001b[0m \u001b[0mtest\u001b[0m\u001b[0;34m.\u001b[0m\u001b[0mdrop\u001b[0m\u001b[0;34m(\u001b[0m\u001b[0mcolumns\u001b[0m\u001b[0;34m=\u001b[0m\u001b[0;34m[\u001b[0m\u001b[0;34m'id'\u001b[0m\u001b[0;34m]\u001b[0m\u001b[0;34m)\u001b[0m\u001b[0;34m.\u001b[0m\u001b[0mselect_dtypes\u001b[0m\u001b[0;34m(\u001b[0m\u001b[0minclude\u001b[0m\u001b[0;34m=\u001b[0m\u001b[0;34m[\u001b[0m\u001b[0;34m'float64'\u001b[0m\u001b[0;34m,\u001b[0m\u001b[0;34m'int64'\u001b[0m\u001b[0;34m,\u001b[0m\u001b[0;34m'bool'\u001b[0m\u001b[0;34m]\u001b[0m\u001b[0;34m)\u001b[0m\u001b[0;34m\u001b[0m\u001b[0;34m\u001b[0m\u001b[0m\n",
            "\u001b[0;31mNameError\u001b[0m: name 'pd' is not defined"
          ]
        }
      ]
    },
    {
      "cell_type": "code",
      "metadata": {
        "id": "GbVxqxOG66ny",
        "colab_type": "code",
        "colab": {}
      },
      "source": [
        "train = pd.read_csv(\"data/train_pre_processing_true_false.csv\")\n",
        "test = pd.read_csv(\"data/test_pre_processing_true_false.csv\")\n",
        "x_train, y_train = train.select_dtypes(include=['float64','int64','bool']).iloc[:,:-1],train.iloc[:,-1]\n",
        "x_train.columns = [\"\".join (c if c.isalnum() else \"_\" for c in str(x)) for x in x_train.columns]\n",
        "x_test = test.drop(columns=['id']).select_dtypes(include=['float64','int64','bool'])\n",
        "x_test.columns = [\"\".join (c if c.isalnum() else \"_\" for c in str(x)) for x in x_test.columns]\n",
        "light_model = LGBMClassifier(random_state=1)\n",
        "light_model.fit(x_train, y_train)\n",
        "preds_3 = light_model.predict(x_test)\n",
        "ensemble_submit['target_lgbm_pred3'] = preds_3"
      ],
      "execution_count": null,
      "outputs": []
    },
    {
      "cell_type": "code",
      "metadata": {
        "id": "Pa34xx3F66n5",
        "colab_type": "code",
        "colab": {}
      },
      "source": [
        "preds_total = pd.DataFrame({'uno':preds_1,'dos':preds_2,'tres':preds_3})"
      ],
      "execution_count": null,
      "outputs": []
    },
    {
      "cell_type": "code",
      "metadata": {
        "id": "x7CKTtm466n_",
        "colab_type": "code",
        "colab": {}
      },
      "source": [
        "ensemble_submit['target_lgbm'] = preds_total.apply(lambda x: (x.uno and x.dos) or (x.tres and x.dos) or (x.uno and x.tres),axis=1)"
      ],
      "execution_count": null,
      "outputs": []
    },
    {
      "cell_type": "markdown",
      "metadata": {
        "id": "Vn8GHrOT66oI",
        "colab_type": "text"
      },
      "source": [
        "## XGBoost"
      ]
    },
    {
      "cell_type": "code",
      "metadata": {
        "id": "90eu6yIB66oK",
        "colab_type": "code",
        "colab": {}
      },
      "source": [
        "train = pd.read_csv('data/train_pre_processing_nlp_5000.csv')\n",
        "test = pd.read_csv('data/test_pre_processing_nlp_5000.csv')\n",
        "train.drop(labels=['id'], axis=1, inplace=True)\n",
        "test.drop(labels=['id'], axis=1, inplace=True)"
      ],
      "execution_count": null,
      "outputs": []
    },
    {
      "cell_type": "code",
      "metadata": {
        "id": "ePkYC75l66oP",
        "colab_type": "code",
        "colab": {}
      },
      "source": [
        "noise_cols = ['location','len_location_cero_default', \n",
        "             'total_words_location_cero_default',\n",
        "             'total_words_location_mean_default', \n",
        "              'text']\n",
        "train.drop(labels=noise_cols, axis=1, inplace=True)\n",
        "test.drop(labels=noise_cols, axis=1, inplace=True)"
      ],
      "execution_count": null,
      "outputs": []
    },
    {
      "cell_type": "code",
      "metadata": {
        "id": "wqeVz55y66oV",
        "colab_type": "code",
        "colab": {}
      },
      "source": [
        "def prepare_df_for_fit(df):\n",
        "    columns_str = ['keyword', 'text_clean', 'keyword_grouped']\n",
        "    \n",
        "    # Encode with LabelEncoder\n",
        "    encoded_cols = df[columns_str]\n",
        "    encoded_cols = encoded_cols.astype('str')\n",
        "    encoded_cols = encoded_cols.apply(LabelEncoder().fit_transform)\n",
        "    encoded_drop = df.drop(columns_str, axis = 1)\n",
        "    encoded_df = pd.concat([encoded_drop, encoded_cols], axis = 1)\n",
        "    # Drop Target column\n",
        "    if 'target' in encoded_df.columns:\n",
        "        encoded_df.drop(axis=1, labels=['target'], inplace=True)\n",
        "\n",
        "    return encoded_df"
      ],
      "execution_count": null,
      "outputs": []
    },
    {
      "cell_type": "code",
      "metadata": {
        "id": "lS_MrDhe66oc",
        "colab_type": "code",
        "colab": {}
      },
      "source": [
        "train_X = prepare_df_for_fit(train)\n",
        "test_X = prepare_df_for_fit(test) \n",
        "train_Y = train['target']"
      ],
      "execution_count": null,
      "outputs": []
    },
    {
      "cell_type": "code",
      "metadata": {
        "id": "ORohLn1I66oh",
        "colab_type": "code",
        "colab": {}
      },
      "source": [
        "xgb_model = xgb.XGBClassifier(objective=\"reg:linear\", random_state=10, colsample_bytree = 0.5, \n",
        "                             gamma = 0.1, learning_rate = 0.06, max_depth = 5, min_child_weight = 2, \n",
        "                             n_estimators = 300, reg_alpha = 0.1, seed = 123, subsample = 0.9)\n",
        "xgb_model.fit(train_X, train_Y)\n",
        "preds = xgb_model.predict(test_X)\n",
        "ensemble_submit['target_xgb'] = preds"
      ],
      "execution_count": null,
      "outputs": []
    },
    {
      "cell_type": "markdown",
      "metadata": {
        "id": "VgDwC2-O66op",
        "colab_type": "text"
      },
      "source": [
        "## Result"
      ]
    },
    {
      "cell_type": "code",
      "metadata": {
        "id": "lvUX9nOP66oq",
        "colab_type": "code",
        "colab": {}
      },
      "source": [
        "ensemble_submit.info()"
      ],
      "execution_count": null,
      "outputs": []
    },
    {
      "cell_type": "code",
      "metadata": {
        "id": "SRMvcY-v66ou",
        "colab_type": "code",
        "colab": {}
      },
      "source": [
        "column_list = list(ensemble_submit.columns)\n",
        "column_list.remove(\"id\")\n",
        "#ensemble_submit[\"sum\"] = ensemble_submit[column_list].sum(axis=1)\n",
        "ensemble_submit[\"general_sum\"] = ensemble_submit[['target_lgbm','target_xgb']].sum(axis=1)\n",
        "ensemble_submit.head(5)"
      ],
      "execution_count": null,
      "outputs": []
    },
    {
      "cell_type": "code",
      "metadata": {
        "id": "Cj4xk7WB66o0",
        "colab_type": "code",
        "colab": {}
      },
      "source": [
        "ensemble_submit[\"target\"] = ensemble_submit.general_sum.apply(lambda x: 1 if x >= 2 else 0)"
      ],
      "execution_count": null,
      "outputs": []
    },
    {
      "cell_type": "code",
      "metadata": {
        "id": "RbCdC8Y766o6",
        "colab_type": "code",
        "colab": {}
      },
      "source": [
        "ensemble_submit = ensemble_submit[['id',\"target\"]]\n",
        "ensemble_submit.to_csv('submit_xgb_lgbm_diff_dataset.csv', index=False)"
      ],
      "execution_count": null,
      "outputs": []
    },
    {
      "cell_type": "code",
      "metadata": {
        "id": "QoDhthY366o_",
        "colab_type": "code",
        "colab": {}
      },
      "source": [
        ""
      ],
      "execution_count": null,
      "outputs": []
    }
  ]
}