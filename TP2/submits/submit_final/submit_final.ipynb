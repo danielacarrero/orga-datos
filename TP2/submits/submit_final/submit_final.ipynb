{
 "cells": [
  {
   "cell_type": "code",
   "execution_count": 1,
   "metadata": {
    "colab": {},
    "colab_type": "code",
    "id": "q8dcOElw66nX"
   },
   "outputs": [],
   "source": [
    "import pandas as pd\n",
    "import numpy as np\n",
    "import matplotlib.pyplot as plt\n",
    "\n",
    "# Para correrlo en colab\n",
    "#from google.colab import files\n",
    "#import io\n",
    "#fin\n",
    "\n",
    "from lightgbm import LGBMClassifier\n",
    "import xgboost as xgb\n",
    "\n",
    "from sklearn.preprocessing import LabelEncoder\n",
    "\n",
    "import time\n",
    "start = time.time()"
   ]
  },
  {
   "cell_type": "code",
   "execution_count": 2,
   "metadata": {
    "colab": {},
    "colab_type": "code",
    "id": "CuzLPplj66nc"
   },
   "outputs": [],
   "source": [
    "test = pd.read_csv(\"data/test.csv\")\n",
    "ensemble_submit = test['id'].to_frame()"
   ]
  },
  {
   "cell_type": "markdown",
   "metadata": {
    "colab_type": "text",
    "id": "Tulgbu-p7If_"
   },
   "source": [
    "## CNN"
   ]
  },
  {
   "cell_type": "code",
   "execution_count": 3,
   "metadata": {
    "colab": {},
    "colab_type": "code",
    "id": "sIEsyV31pYyA"
   },
   "outputs": [],
   "source": [
    "from   keras                        import initializers, regularizers, constraints, callbacks, optimizers\n",
    "from   keras.layers                 import Conv1D, Embedding, GlobalMaxPooling1D, concatenate, Input, Dense,Dropout\n",
    "from   keras.models                 import Sequential, Model\n",
    "from   keras.preprocessing.sequence import pad_sequences\n",
    "from   keras.preprocessing.text     import Tokenizer\n",
    "from   sklearn.model_selection      import train_test_split\n",
    "from   gensim.models.keyedvectors   import KeyedVectors"
   ]
  },
  {
   "cell_type": "markdown",
   "metadata": {
    "colab_type": "text",
    "id": "zkLJV0zHg59V"
   },
   "source": [
    "### Preparacion de datos"
   ]
  },
  {
   "cell_type": "code",
   "execution_count": 4,
   "metadata": {
    "colab": {},
    "colab_type": "code",
    "id": "tzsxQfWLsQ0h"
   },
   "outputs": [],
   "source": [
    "train_cnn = pd.read_csv('data/train_cnn.csv')\n",
    "test_cnn = pd.read_csv('data/test_cnn.csv')"
   ]
  },
  {
   "cell_type": "code",
   "execution_count": 5,
   "metadata": {
    "colab": {},
    "colab_type": "code",
    "id": "foc4Q7Km--r4"
   },
   "outputs": [],
   "source": [
    "test_cnn.text_clean.fillna(\" \", inplace=True)\n",
    "test_it=test_cnn[[\"id\",\"text_clean\"]]\n",
    "total_words = train_cnn[[\"id\",\"text_clean\"]]\n",
    "total_words=pd.concat([total_words,test_it], sort = 'False')"
   ]
  },
  {
   "cell_type": "code",
   "execution_count": 6,
   "metadata": {
    "colab": {},
    "colab_type": "code",
    "id": "cvhjPLwLEIt2"
   },
   "outputs": [],
   "source": [
    "numWords=20000\n",
    "tokenizer = Tokenizer(num_words = numWords)\n",
    "tokenizer.fit_on_texts(total_words.text_clean)\n",
    "sequences_train  = tokenizer.texts_to_sequences(train_cnn['text_clean'])\n",
    "sequences_test  =  tokenizer.texts_to_sequences(test_cnn['text_clean'])\n",
    "word_index       = tokenizer.word_index"
   ]
  },
  {
   "cell_type": "code",
   "execution_count": 7,
   "metadata": {
    "colab": {},
    "colab_type": "code",
    "id": "s1rGH5pWfRRx"
   },
   "outputs": [],
   "source": [
    "max_length       = 300\n",
    "x_train          = pad_sequences(sequences_train, maxlen = max_length)\n",
    "x_test           = pad_sequences(sequences_test, maxlen = max_length)\n",
    "x_features_train = train_cnn[['len_text', 'count_word_uniques',\"text_contain_keyword_norm\",\"contain_question_norm\",\"contain_hashtag_norm\"]]\n",
    "x_features_test  = test_cnn[['len_text', 'count_word_uniques',\"text_contain_keyword_norm\",\"contain_question_norm\",\"contain_hashtag_norm\"]]\n",
    "y_train          = train_cnn[\"target\"].values"
   ]
  },
  {
   "cell_type": "code",
   "execution_count": 8,
   "metadata": {
    "colab": {
     "base_uri": "https://localhost:8080/",
     "height": 71
    },
    "colab_type": "code",
    "id": "yafv8_UMfS9O",
    "outputId": "4d3afb01-f1ab-4202-e836-c7b1a1b767a0"
   },
   "outputs": [],
   "source": [
    "word_vectors = KeyedVectors.load_word2vec_format('https://s3.amazonaws.com/dl4j-distribution/GoogleNews-vectors-negative300.bin.gz', binary = True)"
   ]
  },
  {
   "cell_type": "code",
   "execution_count": 9,
   "metadata": {
    "colab": {},
    "colab_type": "code",
    "id": "CDHyrn2_g06x"
   },
   "outputs": [],
   "source": [
    "embeddind_dimension = 300\n",
    "vocabulary_size = min(len(word_index) + 1, numWords)\n",
    "embedding_matrix = np.zeros((vocabulary_size, embeddind_dimension))"
   ]
  },
  {
   "cell_type": "code",
   "execution_count": 10,
   "metadata": {
    "colab": {},
    "colab_type": "code",
    "id": "itXPQI7Cg3Gz"
   },
   "outputs": [],
   "source": [
    "for word, i in word_index.items():\n",
    "    if i < numWords:\n",
    "        try:\n",
    "            embedding_vector = word_vectors[word]\n",
    "            embedding_matrix[i] = embedding_vector\n",
    "        except KeyError:\n",
    "            embedding_matrix[i] = np.random.normal(0, np.sqrt(0.25), embeddind_dimension)\n",
    "\n",
    "del(word_vectors)"
   ]
  },
  {
   "cell_type": "code",
   "execution_count": 11,
   "metadata": {
    "colab": {},
    "colab_type": "code",
    "id": "fCdOWWv2Qk-k"
   },
   "outputs": [],
   "source": [
    "e = Embedding(len(embedding_matrix), 200, input_length=300)"
   ]
  },
  {
   "cell_type": "code",
   "execution_count": 12,
   "metadata": {
    "colab": {},
    "colab_type": "code",
    "id": "8lFewX47QfRu"
   },
   "outputs": [],
   "source": [
    "Xtrain1, Xval1, ytrain1, yval1 = train_test_split(x_train, y_train,\n",
    "                                              train_size = 0.95, random_state = 233)\n",
    "\n",
    "Xfeaturestrain1, Xfeaturesval1, ytrain1, yval1 = train_test_split(x_features_train, y_train,\n",
    "                                                            train_size = 0.95, random_state = 233)"
   ]
  },
  {
   "cell_type": "markdown",
   "metadata": {
    "colab_type": "text",
    "id": "pmsN4B-xhFeu"
   },
   "source": [
    "### Uso de modelos"
   ]
  },
  {
   "cell_type": "code",
   "execution_count": 13,
   "metadata": {
    "colab": {
     "base_uri": "https://localhost:8080/",
     "height": 357
    },
    "colab_type": "code",
    "id": "tj9RTPKJ7qOL",
    "outputId": "9749a5f2-dad0-4c44-94a1-197bec3d8866"
   },
   "outputs": [
    {
     "name": "stdout",
     "output_type": "stream",
     "text": [
      "Model: \"sequential\"\n",
      "_________________________________________________________________\n",
      "Layer (type)                 Output Shape              Param #   \n",
      "=================================================================\n",
      "embedding (Embedding)        (None, 300, 200)          4000000   \n",
      "_________________________________________________________________\n",
      "conv1d (Conv1D)              (None, 299, 100)          40100     \n",
      "_________________________________________________________________\n",
      "global_max_pooling1d (Global (None, 100)               0         \n",
      "_________________________________________________________________\n",
      "dropout (Dropout)            (None, 100)               0         \n",
      "_________________________________________________________________\n",
      "dense (Dense)                (None, 256)               25856     \n",
      "_________________________________________________________________\n",
      "dense_1 (Dense)              (None, 1)                 257       \n",
      "=================================================================\n",
      "Total params: 4,066,213\n",
      "Trainable params: 4,066,213\n",
      "Non-trainable params: 0\n",
      "_________________________________________________________________\n"
     ]
    }
   ],
   "source": [
    "model = Sequential()\n",
    "model.add(e)\n",
    "model.add(Conv1D(filters=100, kernel_size=2, padding='valid', activation='relu', strides=1))\n",
    "model.add(GlobalMaxPooling1D())\n",
    "model.add(Dropout(0.25))\n",
    "model.add(Dense(256, activation='relu'))\n",
    "model.add(Dense(1, activation='sigmoid'))\n",
    "model.compile(loss='binary_crossentropy', optimizer='adam', metrics=['accuracy'])\n",
    "model.summary()"
   ]
  },
  {
   "cell_type": "code",
   "execution_count": 14,
   "metadata": {
    "colab": {
     "base_uri": "https://localhost:8080/",
     "height": 204
    },
    "colab_type": "code",
    "id": "ga3DBfSfa0KS",
    "outputId": "95a73104-06ee-4197-bba5-ed084c2ba545"
   },
   "outputs": [
    {
     "name": "stdout",
     "output_type": "stream",
     "text": [
      "Epoch 1/5\n",
      "25/25 [==============================] - 7s 285ms/step - loss: 0.6726 - accuracy: 0.5900 - val_loss: 0.6280 - val_accuracy: 0.7454\n",
      "Epoch 2/5\n",
      "25/25 [==============================] - 8s 301ms/step - loss: 0.4776 - accuracy: 0.8411 - val_loss: 0.4316 - val_accuracy: 0.8163\n",
      "Epoch 3/5\n",
      "25/25 [==============================] - 7s 297ms/step - loss: 0.2299 - accuracy: 0.9126 - val_loss: 0.4916 - val_accuracy: 0.7900\n",
      "Epoch 4/5\n",
      "25/25 [==============================] - 8s 303ms/step - loss: 0.1088 - accuracy: 0.9646 - val_loss: 0.5681 - val_accuracy: 0.7927\n",
      "Epoch 5/5\n",
      "25/25 [==============================] - 7s 291ms/step - loss: 0.0673 - accuracy: 0.9766 - val_loss: 0.6581 - val_accuracy: 0.7953\n"
     ]
    },
    {
     "data": {
      "text/plain": [
       "<tensorflow.python.keras.callbacks.History at 0x217627550>"
      ]
     },
     "execution_count": 14,
     "metadata": {},
     "output_type": "execute_result"
    }
   ],
   "source": [
    "model.fit(Xtrain1, ytrain1,\n",
    "          validation_data=(Xval1, yval1), \n",
    "          epochs=5, \n",
    "          batch_size=300,\n",
    "          verbose=1)"
   ]
  },
  {
   "cell_type": "code",
   "execution_count": 15,
   "metadata": {
    "colab": {},
    "colab_type": "code",
    "id": "YmTHMv7Ca2Lg"
   },
   "outputs": [
    {
     "name": "stdout",
     "output_type": "stream",
     "text": [
      "WARNING:tensorflow:From <ipython-input-15-8a1c430101ff>:1: Sequential.predict_classes (from tensorflow.python.keras.engine.sequential) is deprecated and will be removed after 2021-01-01.\n",
      "Instructions for updating:\n",
      "Please use instead:* `np.argmax(model.predict(x), axis=-1)`,   if your model does multi-class classification   (e.g. if it uses a `softmax` last-layer activation).* `(model.predict(x) > 0.5).astype(\"int32\")`,   if your model does binary classification   (e.g. if it uses a `sigmoid` last-layer activation).\n"
     ]
    }
   ],
   "source": [
    "y_pred1 = model.predict_classes(x_test)"
   ]
  },
  {
   "cell_type": "code",
   "execution_count": 16,
   "metadata": {
    "colab": {
     "base_uri": "https://localhost:8080/",
     "height": 425
    },
    "colab_type": "code",
    "id": "oMBh1-Po7q2D",
    "outputId": "1624ce98-4952-4d1a-f12e-6e3a478dad49"
   },
   "outputs": [
    {
     "name": "stdout",
     "output_type": "stream",
     "text": [
      "Model: \"sequential_1\"\n",
      "_________________________________________________________________\n",
      "Layer (type)                 Output Shape              Param #   \n",
      "=================================================================\n",
      "embedding (Embedding)        (None, 300, 200)          4000000   \n",
      "_________________________________________________________________\n",
      "conv1d_1 (Conv1D)            (None, 299, 100)          40100     \n",
      "_________________________________________________________________\n",
      "global_max_pooling1d_1 (Glob (None, 100)               0         \n",
      "_________________________________________________________________\n",
      "dense_2 (Dense)              (None, 200)               20200     \n",
      "_________________________________________________________________\n",
      "dropout_1 (Dropout)          (None, 200)               0         \n",
      "_________________________________________________________________\n",
      "dense_3 (Dense)              (None, 200)               40200     \n",
      "_________________________________________________________________\n",
      "dense_4 (Dense)              (None, 100)               20100     \n",
      "_________________________________________________________________\n",
      "dense_5 (Dense)              (None, 1)                 101       \n",
      "=================================================================\n",
      "Total params: 4,120,701\n",
      "Trainable params: 4,120,701\n",
      "Non-trainable params: 0\n",
      "_________________________________________________________________\n"
     ]
    }
   ],
   "source": [
    "model3 = Sequential()\n",
    "model3.add(e)\n",
    "model3.add(Conv1D(filters=100, kernel_size=2, padding='valid', activation='relu', strides=1))\n",
    "model3.add(GlobalMaxPooling1D())\n",
    "model3.add(Dense(200, activation='relu'))\n",
    "model3.add(Dropout(0.25))\n",
    "model3.add(Dense(200, activation='relu'))\n",
    "model3.add(Dense(100, activation='relu'))\n",
    "model3.add(Dense(1, activation='sigmoid'))\n",
    "model3.compile(loss='binary_crossentropy', optimizer='adam', metrics=['accuracy'])\n",
    "model3.summary()"
   ]
  },
  {
   "cell_type": "code",
   "execution_count": 17,
   "metadata": {
    "colab": {
     "base_uri": "https://localhost:8080/",
     "height": 204
    },
    "colab_type": "code",
    "id": "67Rw54QEcPFu",
    "outputId": "b5b78335-9266-43ff-996a-53e69ceade6f"
   },
   "outputs": [
    {
     "name": "stdout",
     "output_type": "stream",
     "text": [
      "Epoch 1/5\n",
      "226/226 [==============================] - 16s 69ms/step - loss: 0.2376 - accuracy: 0.9151 - val_loss: 0.6677 - val_accuracy: 0.7297\n",
      "Epoch 2/5\n",
      "226/226 [==============================] - 16s 70ms/step - loss: 0.0860 - accuracy: 0.9726 - val_loss: 0.9096 - val_accuracy: 0.7349\n",
      "Epoch 3/5\n",
      "226/226 [==============================] - 16s 73ms/step - loss: 0.0573 - accuracy: 0.9806 - val_loss: 0.9225 - val_accuracy: 0.7375\n",
      "Epoch 4/5\n",
      "226/226 [==============================] - 17s 73ms/step - loss: 0.0373 - accuracy: 0.9845 - val_loss: 0.8944 - val_accuracy: 0.7507\n",
      "Epoch 5/5\n",
      "226/226 [==============================] - 16s 71ms/step - loss: 0.0278 - accuracy: 0.9844 - val_loss: 1.2046 - val_accuracy: 0.7349\n"
     ]
    },
    {
     "data": {
      "text/plain": [
       "<tensorflow.python.keras.callbacks.History at 0x2176a8210>"
      ]
     },
     "execution_count": 17,
     "metadata": {},
     "output_type": "execute_result"
    }
   ],
   "source": [
    "model3.fit(x = [Xtrain1, Xfeaturestrain1], y = ytrain1, epochs=5,\n",
    "          validation_data = ([Xval1, Xfeaturesval1], yval1), verbose = 1)"
   ]
  },
  {
   "cell_type": "code",
   "execution_count": 18,
   "metadata": {
    "colab": {},
    "colab_type": "code",
    "id": "oShgyqaDcQ0A"
   },
   "outputs": [],
   "source": [
    "y_pred3 = model3.predict_classes([x_test, x_features_test])"
   ]
  },
  {
   "cell_type": "code",
   "execution_count": 19,
   "metadata": {
    "colab": {
     "base_uri": "https://localhost:8080/",
     "height": 493
    },
    "colab_type": "code",
    "id": "ZH8X4nZmcS16",
    "outputId": "2ab23b8c-896e-485d-f5e2-041dcbf2b25b"
   },
   "outputs": [
    {
     "name": "stdout",
     "output_type": "stream",
     "text": [
      "Model: \"sequential_2\"\n",
      "_________________________________________________________________\n",
      "Layer (type)                 Output Shape              Param #   \n",
      "=================================================================\n",
      "embedding (Embedding)        (None, 300, 200)          4000000   \n",
      "_________________________________________________________________\n",
      "conv1d_2 (Conv1D)            (None, 299, 100)          40100     \n",
      "_________________________________________________________________\n",
      "global_max_pooling1d_2 (Glob (None, 100)               0         \n",
      "_________________________________________________________________\n",
      "dense_6 (Dense)              (None, 200)               20200     \n",
      "_________________________________________________________________\n",
      "dropout_2 (Dropout)          (None, 200)               0         \n",
      "_________________________________________________________________\n",
      "dense_7 (Dense)              (None, 200)               40200     \n",
      "_________________________________________________________________\n",
      "dense_8 (Dense)              (None, 100)               20100     \n",
      "_________________________________________________________________\n",
      "dense_9 (Dense)              (None, 50)                5050      \n",
      "_________________________________________________________________\n",
      "dropout_3 (Dropout)          (None, 50)                0         \n",
      "_________________________________________________________________\n",
      "dense_10 (Dense)             (None, 1)                 51        \n",
      "=================================================================\n",
      "Total params: 4,125,701\n",
      "Trainable params: 4,125,701\n",
      "Non-trainable params: 0\n",
      "_________________________________________________________________\n"
     ]
    }
   ],
   "source": [
    "model4 = Sequential()\n",
    "model4.add(e)\n",
    "model4.add(Conv1D(filters=100, kernel_size=2, padding='valid', activation='relu', strides=1))\n",
    "model4.add(GlobalMaxPooling1D())\n",
    "model4.add(Dense(200, activation='relu'))\n",
    "model4.add(Dropout(0.25))\n",
    "model4.add(Dense(200, activation='relu'))\n",
    "model4.add(Dense(100, activation='relu'))\n",
    "model4.add(Dense(50, activation='relu'))\n",
    "model4.add(Dropout(0.25))\n",
    "model4.add(Dense(1, activation='sigmoid'))\n",
    "model4.compile(loss='binary_crossentropy', optimizer='adam', metrics=['accuracy'])\n",
    "model4.summary()"
   ]
  },
  {
   "cell_type": "code",
   "execution_count": 20,
   "metadata": {
    "colab": {
     "base_uri": "https://localhost:8080/",
     "height": 204
    },
    "colab_type": "code",
    "id": "GMxVlR3ZcU_I",
    "outputId": "bd3e4f4f-30f7-428f-b68b-a0431a23dfda"
   },
   "outputs": [
    {
     "name": "stdout",
     "output_type": "stream",
     "text": [
      "Epoch 1/5\n",
      "226/226 [==============================] - 17s 74ms/step - loss: 0.1344 - accuracy: 0.9495 - val_loss: 0.9697 - val_accuracy: 0.6955\n",
      "Epoch 2/5\n",
      "226/226 [==============================] - 17s 74ms/step - loss: 0.0487 - accuracy: 0.9815 - val_loss: 1.2950 - val_accuracy: 0.7297\n",
      "Epoch 3/5\n",
      "226/226 [==============================] - 17s 74ms/step - loss: 0.0316 - accuracy: 0.9841 - val_loss: 2.0404 - val_accuracy: 0.7218\n",
      "Epoch 4/5\n",
      "226/226 [==============================] - 17s 76ms/step - loss: 0.0276 - accuracy: 0.9862 - val_loss: 1.7670 - val_accuracy: 0.7297\n",
      "Epoch 5/5\n",
      "226/226 [==============================] - 16s 73ms/step - loss: 0.0252 - accuracy: 0.9856 - val_loss: 2.5153 - val_accuracy: 0.7349\n"
     ]
    },
    {
     "data": {
      "text/plain": [
       "<tensorflow.python.keras.callbacks.History at 0x11d8d3890>"
      ]
     },
     "execution_count": 20,
     "metadata": {},
     "output_type": "execute_result"
    }
   ],
   "source": [
    "model4.fit(x = [Xtrain1, Xfeaturestrain1], y = ytrain1, epochs=5,\n",
    "          validation_data = ([Xval1, Xfeaturesval1], yval1), verbose = 1)"
   ]
  },
  {
   "cell_type": "code",
   "execution_count": 21,
   "metadata": {
    "colab": {},
    "colab_type": "code",
    "id": "C7jr6qnicWuc"
   },
   "outputs": [],
   "source": [
    "y_pred4 = model4.predict_classes([x_test, x_features_test])"
   ]
  },
  {
   "cell_type": "code",
   "execution_count": 22,
   "metadata": {
    "colab": {},
    "colab_type": "code",
    "id": "kmkXMcteUOKb"
   },
   "outputs": [],
   "source": [
    "submitFinal = test['id'].to_frame()\n",
    "submitFinal[\"pred1\"] = y_pred1\n",
    "submitFinal[\"pred2\"] = y_pred3\n",
    "submitFinal[\"pred3\"] = y_pred4\n",
    "submitFinal[\"suma\"] = submitFinal.pred1+submitFinal.pred2+submitFinal.pred3\n",
    "ensemble_submit[\"target_cnn\"] = submitFinal.suma.apply(lambda x: 1 if x>2 else 0)"
   ]
  },
  {
   "cell_type": "markdown",
   "metadata": {
    "colab_type": "text",
    "id": "auWH8lCU66nj"
   },
   "source": [
    "## Light GBM"
   ]
  },
  {
   "cell_type": "code",
   "execution_count": 23,
   "metadata": {
    "colab": {
     "base_uri": "https://localhost:8080/",
     "height": 231
    },
    "colab_type": "code",
    "id": "lVXtzsri66nj",
    "outputId": "94bdbe0c-6826-4956-974e-a4b807740eb1"
   },
   "outputs": [],
   "source": [
    "train = pd.read_csv(\"data/train_pre_processing_true.csv\")\n",
    "test = pd.read_csv(\"data/test_pre_processing_true.csv\")\n",
    "x_train, y_train = train.select_dtypes(include=['float64','int64','bool']).iloc[:,:-1],train.iloc[:,-1]\n",
    "x_test = test.drop(columns=['id']).select_dtypes(include=['float64','int64','bool'])\n",
    "light_model = LGBMClassifier(random_state=1)\n",
    "light_model.fit(x_train, y_train)\n",
    "preds_1 = light_model.predict(x_test)"
   ]
  },
  {
   "cell_type": "code",
   "execution_count": 24,
   "metadata": {
    "colab": {
     "base_uri": "https://localhost:8080/",
     "height": 231
    },
    "colab_type": "code",
    "id": "a__FitqH66nq",
    "outputId": "508ca3de-1498-4745-a556-32effaf936fd"
   },
   "outputs": [],
   "source": [
    "train = pd.read_csv(\"data/train_pre_processing_false.csv\")\n",
    "test = pd.read_csv(\"data/test_pre_processing_false.csv\")\n",
    "x_train, y_train = train.select_dtypes(include=['float64','int64','bool']).iloc[:,:-1],train.iloc[:,-1]\n",
    "x_train.columns = [\"\".join (c if c.isalnum() else \"_\" for c in str(x)) for x in x_train.columns]\n",
    "x_test = test.drop(columns=['id']).select_dtypes(include=['float64','int64','bool'])\n",
    "x_test.columns = [\"\".join (c if c.isalnum() else \"_\" for c in str(x)) for x in x_test.columns]\n",
    "light_model = LGBMClassifier(random_state=1)\n",
    "light_model.fit(x_train, y_train)\n",
    "preds_2 = light_model.predict(x_test)"
   ]
  },
  {
   "cell_type": "code",
   "execution_count": 25,
   "metadata": {
    "colab": {},
    "colab_type": "code",
    "id": "GbVxqxOG66ny"
   },
   "outputs": [],
   "source": [
    "train = pd.read_csv(\"data/train_pre_processing_true_false.csv\")\n",
    "test = pd.read_csv(\"data/test_pre_processing_true_false.csv\")\n",
    "x_train, y_train = train.select_dtypes(include=['float64','int64','bool']).iloc[:,:-1],train.iloc[:,-1]\n",
    "x_train.columns = [\"\".join (c if c.isalnum() else \"_\" for c in str(x)) for x in x_train.columns]\n",
    "x_test = test.drop(columns=['id']).select_dtypes(include=['float64','int64','bool'])\n",
    "x_test.columns = [\"\".join (c if c.isalnum() else \"_\" for c in str(x)) for x in x_test.columns]\n",
    "light_model = LGBMClassifier(random_state=1)\n",
    "light_model.fit(x_train, y_train)\n",
    "preds_3 = light_model.predict(x_test)"
   ]
  },
  {
   "cell_type": "code",
   "execution_count": 26,
   "metadata": {
    "colab": {},
    "colab_type": "code",
    "id": "Pa34xx3F66n5"
   },
   "outputs": [],
   "source": [
    "preds_total = pd.DataFrame({'uno':preds_1,'dos':preds_2,'tres':preds_3})"
   ]
  },
  {
   "cell_type": "code",
   "execution_count": 27,
   "metadata": {
    "colab": {},
    "colab_type": "code",
    "id": "x7CKTtm466n_"
   },
   "outputs": [],
   "source": [
    "ensemble_submit['target_lgbm'] = preds_total.apply(lambda x: (x.uno and x.dos) or (x.tres and x.dos) or (x.uno and x.tres),axis=1)"
   ]
  },
  {
   "cell_type": "markdown",
   "metadata": {
    "colab_type": "text",
    "id": "Vn8GHrOT66oI"
   },
   "source": [
    "## XGBoost"
   ]
  },
  {
   "cell_type": "code",
   "execution_count": 28,
   "metadata": {
    "colab": {},
    "colab_type": "code",
    "id": "90eu6yIB66oK"
   },
   "outputs": [],
   "source": [
    "train = pd.read_csv('data/train_pre_processing_nlp_5000.csv')\n",
    "test = pd.read_csv('data/test_pre_processing_nlp_5000.csv')\n",
    "train.drop(labels=['id'], axis=1, inplace=True)\n",
    "test.drop(labels=['id'], axis=1, inplace=True)"
   ]
  },
  {
   "cell_type": "code",
   "execution_count": 29,
   "metadata": {
    "colab": {},
    "colab_type": "code",
    "id": "ePkYC75l66oP"
   },
   "outputs": [],
   "source": [
    "noise_cols = ['location','len_location_cero_default', \n",
    "             'total_words_location_cero_default',\n",
    "             'total_words_location_mean_default', \n",
    "              'text']\n",
    "train.drop(labels=noise_cols, axis=1, inplace=True)\n",
    "test.drop(labels=noise_cols, axis=1, inplace=True)"
   ]
  },
  {
   "cell_type": "code",
   "execution_count": 30,
   "metadata": {
    "colab": {},
    "colab_type": "code",
    "id": "wqeVz55y66oV"
   },
   "outputs": [],
   "source": [
    "def prepare_df_for_fit(df):\n",
    "    columns_str = ['keyword', 'text_clean', 'keyword_grouped']\n",
    "    \n",
    "    # Encode with LabelEncoder\n",
    "    encoded_cols = df[columns_str]\n",
    "    encoded_cols = encoded_cols.astype('str')\n",
    "    encoded_cols = encoded_cols.apply(LabelEncoder().fit_transform)\n",
    "    encoded_drop = df.drop(columns_str, axis = 1)\n",
    "    encoded_df = pd.concat([encoded_drop, encoded_cols], axis = 1)\n",
    "    # Drop Target column\n",
    "    if 'target' in encoded_df.columns:\n",
    "        encoded_df.drop(axis=1, labels=['target'], inplace=True)\n",
    "\n",
    "    return encoded_df"
   ]
  },
  {
   "cell_type": "code",
   "execution_count": 31,
   "metadata": {
    "colab": {},
    "colab_type": "code",
    "id": "lS_MrDhe66oc"
   },
   "outputs": [],
   "source": [
    "train_X = prepare_df_for_fit(train)\n",
    "test_X = prepare_df_for_fit(test) \n",
    "train_Y = train['target']"
   ]
  },
  {
   "cell_type": "code",
   "execution_count": 32,
   "metadata": {
    "colab": {},
    "colab_type": "code",
    "id": "ORohLn1I66oh"
   },
   "outputs": [
    {
     "name": "stdout",
     "output_type": "stream",
     "text": [
      "[00:16:58] WARNING: /Users/travis/build/dmlc/xgboost/src/objective/regression_obj.cu:170: reg:linear is now deprecated in favor of reg:squarederror.\n",
      "[00:19:32] WARNING: /Users/travis/build/dmlc/xgboost/src/objective/regression_obj.cu:170: reg:linear is now deprecated in favor of reg:squarederror.\n"
     ]
    }
   ],
   "source": [
    "xgb_model = xgb.XGBClassifier(objective=\"reg:linear\", random_state=10, colsample_bytree = 0.5, \n",
    "                             gamma = 0.1, learning_rate = 0.06, max_depth = 5, min_child_weight = 2, \n",
    "                             n_estimators = 300, reg_alpha = 0.1, seed = 123, subsample = 0.9)\n",
    "xgb_model.fit(train_X, train_Y)\n",
    "preds = xgb_model.predict(test_X)\n",
    "ensemble_submit['target_xgb'] = preds"
   ]
  },
  {
   "cell_type": "markdown",
   "metadata": {
    "colab_type": "text",
    "id": "VgDwC2-O66op"
   },
   "source": [
    "## Result"
   ]
  },
  {
   "cell_type": "code",
   "execution_count": 33,
   "metadata": {
    "colab": {},
    "colab_type": "code",
    "id": "lvUX9nOP66oq"
   },
   "outputs": [
    {
     "name": "stdout",
     "output_type": "stream",
     "text": [
      "<class 'pandas.core.frame.DataFrame'>\n",
      "RangeIndex: 3263 entries, 0 to 3262\n",
      "Data columns (total 4 columns):\n",
      " #   Column       Non-Null Count  Dtype\n",
      "---  ------       --------------  -----\n",
      " 0   id           3263 non-null   int64\n",
      " 1   target_cnn   3263 non-null   int64\n",
      " 2   target_lgbm  3263 non-null   int64\n",
      " 3   target_xgb   3263 non-null   int64\n",
      "dtypes: int64(4)\n",
      "memory usage: 102.1 KB\n"
     ]
    }
   ],
   "source": [
    "ensemble_submit.info()"
   ]
  },
  {
   "cell_type": "code",
   "execution_count": 34,
   "metadata": {},
   "outputs": [],
   "source": [
    "ensemble_submit[\"target\"] = ensemble_submit.apply(lambda x: (x.target_lgbm and x.target_xgb) or (x.target_lgbm and x.target_cnn) or (x.target_xgb and x.target_cnn),axis=1)"
   ]
  },
  {
   "cell_type": "code",
   "execution_count": 35,
   "metadata": {
    "colab": {},
    "colab_type": "code",
    "id": "RbCdC8Y766o6"
   },
   "outputs": [],
   "source": [
    "ensemble_submit = ensemble_submit[['id',\"target\"]]\n",
    "ensemble_submit.to_csv('submit_xgb_lgbm_cnn_diff_dataset.csv', index=False)"
   ]
  },
  {
   "cell_type": "code",
   "execution_count": 36,
   "metadata": {
    "colab": {},
    "colab_type": "code",
    "id": "QoDhthY366o_"
   },
   "outputs": [
    {
     "name": "stdout",
     "output_type": "stream",
     "text": [
      "Total run time: 1150.11s\n"
     ]
    }
   ],
   "source": [
    "end = time.time()\n",
    "print(f\"Total run time: {round(end - start, 2)}s\")"
   ]
  }
 ],
 "metadata": {
  "colab": {
   "name": "submit_finalVF.ipynb",
   "provenance": []
  },
  "kernelspec": {
   "display_name": "Python 3",
   "language": "python",
   "name": "python3"
  },
  "language_info": {
   "codemirror_mode": {
    "name": "ipython",
    "version": 3
   },
   "file_extension": ".py",
   "mimetype": "text/x-python",
   "name": "python",
   "nbconvert_exporter": "python",
   "pygments_lexer": "ipython3",
   "version": "3.7.4"
  }
 },
 "nbformat": 4,
 "nbformat_minor": 1
}
