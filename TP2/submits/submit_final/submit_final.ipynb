{
 "cells": [
  {
   "cell_type": "code",
   "execution_count": 70,
   "metadata": {},
   "outputs": [],
   "source": [
    "import pandas as pd\n",
    "import numpy as np\n",
    "import matplotlib.pyplot as plt\n",
    "\n",
    "from lightgbm import LGBMClassifier\n",
    "import xgboost as xgb\n",
    "\n",
    "from sklearn.preprocessing import LabelEncoder"
   ]
  },
  {
   "cell_type": "code",
   "execution_count": 60,
   "metadata": {},
   "outputs": [],
   "source": [
    "test = pd.read_csv(\"data/test.csv\")\n",
    "ensemble_submit = test['id'].to_frame()"
   ]
  },
  {
   "cell_type": "markdown",
   "metadata": {},
   "source": [
    "## Light GBM"
   ]
  },
  {
   "cell_type": "code",
   "execution_count": 61,
   "metadata": {},
   "outputs": [],
   "source": [
    "train = pd.read_csv(\"data/train_pre_processing_true.csv\")\n",
    "test = pd.read_csv(\"data/test_pre_processing_true.csv\")\n",
    "x_train, y_train = train.select_dtypes(include=['float64','int64','bool']).iloc[:,:-1],train.iloc[:,-1]\n",
    "x_test = test.drop(columns=['id']).select_dtypes(include=['float64','int64','bool'])\n",
    "light_model = LGBMClassifier(random_state=1)\n",
    "light_model.fit(x_train, y_train)\n",
    "preds_1 = light_model.predict(x_test)\n",
    "ensemble_submit['target_lgbm_pred1'] = preds_1"
   ]
  },
  {
   "cell_type": "code",
   "execution_count": 62,
   "metadata": {},
   "outputs": [],
   "source": [
    "train = pd.read_csv(\"data/train_pre_processing_false.csv\")\n",
    "test = pd.read_csv(\"data/test_pre_processing_false.csv\")\n",
    "x_train, y_train = train.select_dtypes(include=['float64','int64','bool']).iloc[:,:-1],train.iloc[:,-1]\n",
    "x_train.columns = [\"\".join (c if c.isalnum() else \"_\" for c in str(x)) for x in x_train.columns]\n",
    "x_test = test.drop(columns=['id']).select_dtypes(include=['float64','int64','bool'])\n",
    "x_test.columns = [\"\".join (c if c.isalnum() else \"_\" for c in str(x)) for x in x_test.columns]\n",
    "light_model = LGBMClassifier(random_state=1)\n",
    "light_model.fit(x_train, y_train)\n",
    "preds_2 = light_model.predict(x_test)\n",
    "ensemble_submit['target_lgbm_pred2'] = preds_2"
   ]
  },
  {
   "cell_type": "code",
   "execution_count": 63,
   "metadata": {},
   "outputs": [],
   "source": [
    "train = pd.read_csv(\"data/train_pre_processing_true_false.csv\")\n",
    "test = pd.read_csv(\"data/test_pre_processing_true_false.csv\")\n",
    "x_train, y_train = train.select_dtypes(include=['float64','int64','bool']).iloc[:,:-1],train.iloc[:,-1]\n",
    "x_train.columns = [\"\".join (c if c.isalnum() else \"_\" for c in str(x)) for x in x_train.columns]\n",
    "x_test = test.drop(columns=['id']).select_dtypes(include=['float64','int64','bool'])\n",
    "x_test.columns = [\"\".join (c if c.isalnum() else \"_\" for c in str(x)) for x in x_test.columns]\n",
    "light_model = LGBMClassifier(random_state=1)\n",
    "light_model.fit(x_train, y_train)\n",
    "preds_3 = light_model.predict(x_test)\n",
    "ensemble_submit['target_lgbm_pred3'] = preds_3"
   ]
  },
  {
   "cell_type": "code",
   "execution_count": 64,
   "metadata": {},
   "outputs": [],
   "source": [
    "preds_total = pd.DataFrame({'uno':preds_1,'dos':preds_2,'tres':preds_3})"
   ]
  },
  {
   "cell_type": "code",
   "execution_count": 65,
   "metadata": {},
   "outputs": [],
   "source": [
    "ensemble_submit['target_lgbm'] = preds_total.apply(lambda x: (x.uno and x.dos) or (x.tres and x.dos) or (x.uno and x.tres),axis=1)"
   ]
  },
  {
   "cell_type": "markdown",
   "metadata": {},
   "source": [
    "## XGBoost"
   ]
  },
  {
   "cell_type": "code",
   "execution_count": 66,
   "metadata": {},
   "outputs": [],
   "source": [
    "train = pd.read_csv('data/train_pre_processing_nlp_5000.csv')\n",
    "test = pd.read_csv('data/test_pre_processing_nlp_5000.csv')\n",
    "train.drop(labels=['id'], axis=1, inplace=True)\n",
    "test.drop(labels=['id'], axis=1, inplace=True)"
   ]
  },
  {
   "cell_type": "code",
   "execution_count": 67,
   "metadata": {},
   "outputs": [],
   "source": [
    "noise_cols = ['location','len_location_cero_default', \n",
    "             'total_words_location_cero_default',\n",
    "             'total_words_location_mean_default', \n",
    "              'text']\n",
    "train.drop(labels=noise_cols, axis=1, inplace=True)\n",
    "test.drop(labels=noise_cols, axis=1, inplace=True)"
   ]
  },
  {
   "cell_type": "code",
   "execution_count": 68,
   "metadata": {},
   "outputs": [],
   "source": [
    "def prepare_df_for_fit(df):\n",
    "    columns_str = ['keyword', 'text_clean', 'keyword_grouped']\n",
    "    \n",
    "    # Encode with LabelEncoder\n",
    "    encoded_cols = df[columns_str]\n",
    "    encoded_cols = encoded_cols.astype('str')\n",
    "    encoded_cols = encoded_cols.apply(LabelEncoder().fit_transform)\n",
    "    encoded_drop = df.drop(columns_str, axis = 1)\n",
    "    encoded_df = pd.concat([encoded_drop, encoded_cols], axis = 1)\n",
    "    # Drop Target column\n",
    "    if 'target' in encoded_df.columns:\n",
    "        encoded_df.drop(axis=1, labels=['target'], inplace=True)\n",
    "\n",
    "    return encoded_df"
   ]
  },
  {
   "cell_type": "code",
   "execution_count": 71,
   "metadata": {},
   "outputs": [],
   "source": [
    "train_X = prepare_df_for_fit(train)\n",
    "test_X = prepare_df_for_fit(test) \n",
    "train_Y = train['target']"
   ]
  },
  {
   "cell_type": "code",
   "execution_count": 72,
   "metadata": {},
   "outputs": [
    {
     "name": "stdout",
     "output_type": "stream",
     "text": [
      "[00:49:25] WARNING: /Users/travis/build/dmlc/xgboost/src/objective/regression_obj.cu:170: reg:linear is now deprecated in favor of reg:squarederror.\n",
      "[00:52:37] WARNING: /Users/travis/build/dmlc/xgboost/src/objective/regression_obj.cu:170: reg:linear is now deprecated in favor of reg:squarederror.\n"
     ]
    }
   ],
   "source": [
    "xgb_model = xgb.XGBClassifier(objective=\"reg:linear\", random_state=10, colsample_bytree = 0.5, \n",
    "                             gamma = 0.1, learning_rate = 0.06, max_depth = 5, min_child_weight = 2, \n",
    "                             n_estimators = 300, reg_alpha = 0.1, seed = 123, subsample = 0.9)\n",
    "xgb_model.fit(train_X, train_Y)\n",
    "preds = xgb_model.predict(test_X)\n",
    "ensemble_submit['target_xgb'] = preds"
   ]
  },
  {
   "cell_type": "markdown",
   "metadata": {},
   "source": [
    "## Result"
   ]
  },
  {
   "cell_type": "code",
   "execution_count": 73,
   "metadata": {},
   "outputs": [
    {
     "name": "stdout",
     "output_type": "stream",
     "text": [
      "<class 'pandas.core.frame.DataFrame'>\n",
      "RangeIndex: 3263 entries, 0 to 3262\n",
      "Data columns (total 6 columns):\n",
      " #   Column             Non-Null Count  Dtype\n",
      "---  ------             --------------  -----\n",
      " 0   id                 3263 non-null   int64\n",
      " 1   target_lgbm_pred1  3263 non-null   int64\n",
      " 2   target_lgbm_pred2  3263 non-null   int64\n",
      " 3   target_lgbm_pred3  3263 non-null   int64\n",
      " 4   target_lgbm        3263 non-null   int64\n",
      " 5   target_xgb         3263 non-null   int64\n",
      "dtypes: int64(6)\n",
      "memory usage: 153.1 KB\n"
     ]
    }
   ],
   "source": [
    "ensemble_submit.info()"
   ]
  },
  {
   "cell_type": "code",
   "execution_count": 74,
   "metadata": {},
   "outputs": [
    {
     "data": {
      "text/html": [
       "<div>\n",
       "<style scoped>\n",
       "    .dataframe tbody tr th:only-of-type {\n",
       "        vertical-align: middle;\n",
       "    }\n",
       "\n",
       "    .dataframe tbody tr th {\n",
       "        vertical-align: top;\n",
       "    }\n",
       "\n",
       "    .dataframe thead th {\n",
       "        text-align: right;\n",
       "    }\n",
       "</style>\n",
       "<table border=\"1\" class=\"dataframe\">\n",
       "  <thead>\n",
       "    <tr style=\"text-align: right;\">\n",
       "      <th></th>\n",
       "      <th>id</th>\n",
       "      <th>target_lgbm_pred1</th>\n",
       "      <th>target_lgbm_pred2</th>\n",
       "      <th>target_lgbm_pred3</th>\n",
       "      <th>target_lgbm</th>\n",
       "      <th>target_xgb</th>\n",
       "      <th>sum</th>\n",
       "      <th>general_sum</th>\n",
       "    </tr>\n",
       "  </thead>\n",
       "  <tbody>\n",
       "    <tr>\n",
       "      <th>0</th>\n",
       "      <td>0</td>\n",
       "      <td>1</td>\n",
       "      <td>1</td>\n",
       "      <td>1</td>\n",
       "      <td>1</td>\n",
       "      <td>0</td>\n",
       "      <td>4</td>\n",
       "      <td>1</td>\n",
       "    </tr>\n",
       "    <tr>\n",
       "      <th>1</th>\n",
       "      <td>2</td>\n",
       "      <td>1</td>\n",
       "      <td>1</td>\n",
       "      <td>1</td>\n",
       "      <td>1</td>\n",
       "      <td>1</td>\n",
       "      <td>5</td>\n",
       "      <td>2</td>\n",
       "    </tr>\n",
       "    <tr>\n",
       "      <th>2</th>\n",
       "      <td>3</td>\n",
       "      <td>1</td>\n",
       "      <td>1</td>\n",
       "      <td>1</td>\n",
       "      <td>1</td>\n",
       "      <td>1</td>\n",
       "      <td>5</td>\n",
       "      <td>2</td>\n",
       "    </tr>\n",
       "    <tr>\n",
       "      <th>3</th>\n",
       "      <td>9</td>\n",
       "      <td>1</td>\n",
       "      <td>1</td>\n",
       "      <td>1</td>\n",
       "      <td>1</td>\n",
       "      <td>1</td>\n",
       "      <td>5</td>\n",
       "      <td>2</td>\n",
       "    </tr>\n",
       "    <tr>\n",
       "      <th>4</th>\n",
       "      <td>11</td>\n",
       "      <td>1</td>\n",
       "      <td>1</td>\n",
       "      <td>1</td>\n",
       "      <td>1</td>\n",
       "      <td>1</td>\n",
       "      <td>5</td>\n",
       "      <td>2</td>\n",
       "    </tr>\n",
       "  </tbody>\n",
       "</table>\n",
       "</div>"
      ],
      "text/plain": [
       "   id  target_lgbm_pred1  target_lgbm_pred2  target_lgbm_pred3  target_lgbm  \\\n",
       "0   0                  1                  1                  1            1   \n",
       "1   2                  1                  1                  1            1   \n",
       "2   3                  1                  1                  1            1   \n",
       "3   9                  1                  1                  1            1   \n",
       "4  11                  1                  1                  1            1   \n",
       "\n",
       "   target_xgb  sum  general_sum  \n",
       "0           0    4            1  \n",
       "1           1    5            2  \n",
       "2           1    5            2  \n",
       "3           1    5            2  \n",
       "4           1    5            2  "
      ]
     },
     "execution_count": 74,
     "metadata": {},
     "output_type": "execute_result"
    }
   ],
   "source": [
    "column_list = list(ensemble_submit.columns)\n",
    "column_list.remove(\"id\")\n",
    "#ensemble_submit[\"sum\"] = ensemble_submit[column_list].sum(axis=1)\n",
    "ensemble_submit[\"general_sum\"] = ensemble_submit[['target_lgbm','target_xgb']].sum(axis=1)\n",
    "ensemble_submit.head(5)"
   ]
  },
  {
   "cell_type": "code",
   "execution_count": 75,
   "metadata": {},
   "outputs": [],
   "source": [
    "ensemble_submit[\"target\"] = ensemble_submit.general_sum.apply(lambda x: 1 if x >= 2 else 0)"
   ]
  },
  {
   "cell_type": "code",
   "execution_count": 76,
   "metadata": {},
   "outputs": [],
   "source": [
    "ensemble_submit = ensemble_submit[['id',\"target\"]]\n",
    "ensemble_submit.to_csv('submit_xgb_lgbm_diff_dataset.csv', index=False)"
   ]
  },
  {
   "cell_type": "code",
   "execution_count": null,
   "metadata": {},
   "outputs": [],
   "source": []
  }
 ],
 "metadata": {
  "kernelspec": {
   "display_name": "Python 3",
   "language": "python",
   "name": "python3"
  },
  "language_info": {
   "codemirror_mode": {
    "name": "ipython",
    "version": 3
   },
   "file_extension": ".py",
   "mimetype": "text/x-python",
   "name": "python",
   "nbconvert_exporter": "python",
   "pygments_lexer": "ipython3",
   "version": "3.7.4"
  }
 },
 "nbformat": 4,
 "nbformat_minor": 4
}
