{
 "cells": [
  {
   "cell_type": "code",
   "execution_count": 2,
   "metadata": {},
   "outputs": [],
   "source": [
    "from lightgbm import LGBMClassifier\n",
    "import pandas as pd\n"
   ]
  },
  {
   "cell_type": "code",
   "execution_count": 3,
   "metadata": {},
   "outputs": [],
   "source": [
    "train = pd.read_csv(\"data/train_pre_processing_3.csv\")\n",
    "test = pd.read_csv(\"data/test_pre_processing_3.csv\")"
   ]
  },
  {
   "cell_type": "code",
   "execution_count": 4,
   "metadata": {},
   "outputs": [],
   "source": [
    "x_train, y_train = train.select_dtypes(include=['float64','int64','bool']).iloc[:,:-1],train.iloc[:,-1]"
   ]
  },
  {
   "cell_type": "markdown",
   "metadata": {},
   "source": [
    "Se añaden algunos features nuevos"
   ]
  },
  {
   "cell_type": "code",
   "execution_count": 5,
   "metadata": {},
   "outputs": [],
   "source": [
    "#sumas\n",
    "x_train['total_special_chars_plus_text_best_similarity_keyword'] = x_train.total_special_chars + x_train.text_best_similarity_keyword\n",
    "x_train['total_3_orless_words_plus_total_6_orless_words'] = x_train.total_3_orless_words + x_train.total_6_orless_words\n",
    "x_train['total_5_ormore_words_plus_text_best_similarity_keyword'] = x_train.total_5_ormore_words + x_train.text_best_similarity_keyword\n",
    "\n",
    "#restas\n",
    "x_train['total_numbers_chars_minus_total_special_chars'] = x_train.total_numbers_chars - x_train.total_special_chars\n",
    "x_train['total_special_chars_minus_total_numbers_chars'] = x_train.total_special_chars - x_train.total_numbers_chars\n",
    "x_train['total_8_words_minus_text_best_similarity_keyword'] = x_train.total_8_words - x_train.text_best_similarity_keyword\n",
    "x_train['text_best_similarity_keyword_minus_total_8_words'] = x_train.text_best_similarity_keyword - x_train.total_8_words\n",
    "\n",
    "#multiplicación\n",
    "x_train['total_special_chars_multi_ratio_short_big_words'] = x_train.total_special_chars * x_train.ratio_short_big_words\n",
    "x_train['total_words_location_cero_default_multi_ratio_short_big_words'] = x_train.total_words_location_cero_default * x_train.ratio_short_big_words\n",
    "x_train['stopword_count_multi_text_similarity_keyword'] = x_train.stopword_count * x_train.text_similarity_keyword\n",
    "\n",
    "#división\n",
    "\n",
    "x_train['total_3_ormore_words_div_total_5_ormore_words'] = x_train.total_3_ormore_words / x_train.total_5_ormore_words.replace(0,1)\n",
    "x_train['total_5_ormore_words_div_total_3_ormore_words'] = x_train.total_5_ormore_words / x_train.total_3_ormore_words.replace(0,1)\n",
    "x_train['total_numbers_chars_div_text_best_similarity_keyword'] = x_train.total_numbers_chars / x_train.text_best_similarity_keyword.replace(0,1)\n",
    "x_train['text_best_similarity_keyword_div_total_numbers_chars'] = x_train.text_best_similarity_keyword / x_train.total_numbers_chars.replace(0,1)\n",
    "\n",
    "#operaciones boleanas\n",
    "x_train['contain_upper_words_and_text_contain_keyword_similarity'] = x_train.apply(lambda y: y.contain_upper_words and y.text_contain_keyword_similarity,axis=1)\n",
    "x_train['contain_upper_words_or_text_contain_keyword_similarity'] = x_train.apply(lambda y: y.contain_upper_words or y.text_contain_keyword_similarity,axis=1)\n",
    "x_train['contain_upper_words_xor_text_contain_keyword_similarity'] = x_train.apply(lambda y: ((not y.contain_upper_words) and y.text_contain_keyword_similarity) or (y.contain_upper_words and (not y.text_contain_keyword_similarity)),axis=1)\n",
    "x_train['contain_link_and_text_contain_word_location'] = x_train.apply(lambda y: y.contain_link and y.text_contain_word_location,axis=1)\n",
    "x_train['contain_link_or_text_contain_word_location'] = x_train.apply(lambda y: y.contain_link or y.text_contain_word_location,axis=1)\n",
    "x_train['contain_link_xor_text_contain_word_location'] = x_train.apply(lambda y: ((not y.contain_link) and y.text_contain_word_location) or (y.contain_link and (not y.text_contain_word_location)),axis=1)"
   ]
  },
  {
   "cell_type": "code",
   "execution_count": 7,
   "metadata": {},
   "outputs": [],
   "source": [
    "submit = test['id'].to_frame()"
   ]
  },
  {
   "cell_type": "code",
   "execution_count": 8,
   "metadata": {},
   "outputs": [],
   "source": [
    "x_test = test.drop(columns=['id']).select_dtypes(include=['float64','int64','bool']).copy()\n",
    "\n",
    "#sumas\n",
    "x_test['total_special_chars_plus_text_best_similarity_keyword'] = x_test.total_special_chars + x_test.text_best_similarity_keyword\n",
    "x_test['total_3_orless_words_plus_total_6_orless_words'] = x_test.total_3_orless_words + x_test.total_6_orless_words\n",
    "x_test['total_5_ormore_words_plus_text_best_similarity_keyword'] = x_test.total_5_ormore_words + x_test.text_best_similarity_keyword\n",
    "\n",
    "#restas\n",
    "x_test['total_numbers_chars_minus_total_special_chars'] = x_test.total_numbers_chars - x_test.total_special_chars\n",
    "x_test['total_special_chars_minus_total_numbers_chars'] = x_test.total_special_chars - x_test.total_numbers_chars\n",
    "x_test['total_8_words_minus_text_best_similarity_keyword'] = x_test.total_8_words - x_test.text_best_similarity_keyword\n",
    "x_test['text_best_similarity_keyword_minus_total_8_words'] = x_test.text_best_similarity_keyword - x_test.total_8_words\n",
    "\n",
    "#multiplicación\n",
    "x_test['total_special_chars_multi_ratio_short_big_words'] = x_test.total_special_chars * x_test.ratio_short_big_words\n",
    "x_test['total_words_location_cero_default_multi_ratio_short_big_words'] = x_test.total_words_location_cero_default * x_test.ratio_short_big_words\n",
    "x_test['stopword_count_multi_text_similarity_keyword'] = x_test.stopword_count * x_test.text_similarity_keyword\n",
    "\n",
    "#división\n",
    "\n",
    "x_test['total_3_ormore_words_div_total_5_ormore_words'] = x_test.total_3_ormore_words / x_test.total_5_ormore_words.replace(0,1)\n",
    "x_test['total_5_ormore_words_div_total_3_ormore_words'] = x_test.total_5_ormore_words / x_test.total_3_ormore_words.replace(0,1)\n",
    "x_test['total_numbers_chars_div_text_best_similarity_keyword'] = x_test.total_numbers_chars / x_test.text_best_similarity_keyword.replace(0,1)\n",
    "x_test['text_best_similarity_keyword_div_total_numbers_chars'] = x_test.text_best_similarity_keyword / x_test.total_numbers_chars.replace(0,1)\n",
    "\n",
    "#operaciones boleanas\n",
    "x_test['contain_upper_words_and_text_contain_keyword_similarity'] = x_test.apply(lambda y: y.contain_upper_words and y.text_contain_keyword_similarity,axis=1)\n",
    "x_test['contain_upper_words_or_text_contain_keyword_similarity'] = x_test.apply(lambda y: y.contain_upper_words or y.text_contain_keyword_similarity,axis=1)\n",
    "x_test['contain_upper_words_xor_text_contain_keyword_similarity'] = x_test.apply(lambda y: ((not y.contain_upper_words) and y.text_contain_keyword_similarity) or (y.contain_upper_words and (not y.text_contain_keyword_similarity)),axis=1)\n",
    "x_test['contain_link_and_text_contain_word_location'] = x_test.apply(lambda y: y.contain_link and y.text_contain_word_location,axis=1)\n",
    "x_test['contain_link_or_text_contain_word_location'] = x_test.apply(lambda y: y.contain_link or y.text_contain_word_location,axis=1)\n",
    "x_test['contain_link_xor_text_contain_word_location'] = x_test.apply(lambda y: ((not y.contain_link) and y.text_contain_word_location) or (y.contain_link and (not y.text_contain_word_location)),axis=1)\n"
   ]
  },
  {
   "cell_type": "code",
   "execution_count": 9,
   "metadata": {},
   "outputs": [],
   "source": [
    "light_model = LGBMClassifier(random_state=1)\n",
    "light_model.fit(x_train, y_train)\n",
    "preds = light_model.predict(x_test)"
   ]
  },
  {
   "cell_type": "code",
   "execution_count": 10,
   "metadata": {},
   "outputs": [
    {
     "data": {
      "text/html": [
       "<div>\n",
       "<style scoped>\n",
       "    .dataframe tbody tr th:only-of-type {\n",
       "        vertical-align: middle;\n",
       "    }\n",
       "\n",
       "    .dataframe tbody tr th {\n",
       "        vertical-align: top;\n",
       "    }\n",
       "\n",
       "    .dataframe thead th {\n",
       "        text-align: right;\n",
       "    }\n",
       "</style>\n",
       "<table border=\"1\" class=\"dataframe\">\n",
       "  <thead>\n",
       "    <tr style=\"text-align: right;\">\n",
       "      <th></th>\n",
       "      <th>id</th>\n",
       "      <th>target</th>\n",
       "    </tr>\n",
       "  </thead>\n",
       "  <tbody>\n",
       "    <tr>\n",
       "      <th>0</th>\n",
       "      <td>0</td>\n",
       "      <td>1</td>\n",
       "    </tr>\n",
       "    <tr>\n",
       "      <th>1</th>\n",
       "      <td>2</td>\n",
       "      <td>1</td>\n",
       "    </tr>\n",
       "    <tr>\n",
       "      <th>2</th>\n",
       "      <td>3</td>\n",
       "      <td>1</td>\n",
       "    </tr>\n",
       "    <tr>\n",
       "      <th>3</th>\n",
       "      <td>9</td>\n",
       "      <td>1</td>\n",
       "    </tr>\n",
       "    <tr>\n",
       "      <th>4</th>\n",
       "      <td>11</td>\n",
       "      <td>1</td>\n",
       "    </tr>\n",
       "    <tr>\n",
       "      <th>...</th>\n",
       "      <td>...</td>\n",
       "      <td>...</td>\n",
       "    </tr>\n",
       "    <tr>\n",
       "      <th>3258</th>\n",
       "      <td>10861</td>\n",
       "      <td>1</td>\n",
       "    </tr>\n",
       "    <tr>\n",
       "      <th>3259</th>\n",
       "      <td>10865</td>\n",
       "      <td>1</td>\n",
       "    </tr>\n",
       "    <tr>\n",
       "      <th>3260</th>\n",
       "      <td>10868</td>\n",
       "      <td>1</td>\n",
       "    </tr>\n",
       "    <tr>\n",
       "      <th>3261</th>\n",
       "      <td>10874</td>\n",
       "      <td>1</td>\n",
       "    </tr>\n",
       "    <tr>\n",
       "      <th>3262</th>\n",
       "      <td>10875</td>\n",
       "      <td>1</td>\n",
       "    </tr>\n",
       "  </tbody>\n",
       "</table>\n",
       "<p>3263 rows × 2 columns</p>\n",
       "</div>"
      ],
      "text/plain": [
       "         id  target\n",
       "0         0       1\n",
       "1         2       1\n",
       "2         3       1\n",
       "3         9       1\n",
       "4        11       1\n",
       "...     ...     ...\n",
       "3258  10861       1\n",
       "3259  10865       1\n",
       "3260  10868       1\n",
       "3261  10874       1\n",
       "3262  10875       1\n",
       "\n",
       "[3263 rows x 2 columns]"
      ]
     },
     "execution_count": 10,
     "metadata": {},
     "output_type": "execute_result"
    }
   ],
   "source": [
    "submit['target'] = preds\n",
    "submit"
   ]
  },
  {
   "cell_type": "code",
   "execution_count": 11,
   "metadata": {},
   "outputs": [],
   "source": [
    "submit.to_csv('data/submit_kaggle.csv', index=False)"
   ]
  },
  {
   "cell_type": "code",
   "execution_count": null,
   "metadata": {},
   "outputs": [],
   "source": []
  }
 ],
 "metadata": {
  "kernelspec": {
   "display_name": "Python 3",
   "language": "python",
   "name": "python3"
  },
  "language_info": {
   "codemirror_mode": {
    "name": "ipython",
    "version": 3
   },
   "file_extension": ".py",
   "mimetype": "text/x-python",
   "name": "python",
   "nbconvert_exporter": "python",
   "pygments_lexer": "ipython3",
   "version": "3.7.6"
  }
 },
 "nbformat": 4,
 "nbformat_minor": 4
}
