{
 "cells": [
  {
   "cell_type": "code",
   "execution_count": 30,
   "metadata": {},
   "outputs": [],
   "source": [
    "import pandas as pd\n",
    "import numpy as np\n",
    "import matplotlib.pyplot as plt\n",
    "\n",
    "from sklearn.metrics import accuracy_score, roc_auc_score\n",
    "from sklearn.model_selection import train_test_split, GridSearchCV\n",
    "from sklearn.preprocessing import LabelEncoder\n",
    "\n",
    "import xgboost as xgb"
   ]
  },
  {
   "cell_type": "code",
   "execution_count": 10,
   "metadata": {
    "scrolled": true
   },
   "outputs": [
    {
     "name": "stdout",
     "output_type": "stream",
     "text": [
      "<class 'pandas.core.frame.DataFrame'>\n",
      "RangeIndex: 7613 entries, 0 to 7612\n",
      "Data columns (total 47 columns):\n",
      "keyword                              7552 non-null object\n",
      "location                             5080 non-null object\n",
      "text                                 7613 non-null object\n",
      "keyword_grouped                      7552 non-null object\n",
      "text_contain_keyword                 7613 non-null bool\n",
      "total_words                          7613 non-null int64\n",
      "total_upper_chars                    7613 non-null int64\n",
      "total_numbers_chars                  7613 non-null int64\n",
      "total_special_chars                  7613 non-null int64\n",
      "contain_question                     7613 non-null bool\n",
      "contain_link                         7613 non-null bool\n",
      "contain_hashtag                      7613 non-null bool\n",
      "contain_upper_words                  7613 non-null bool\n",
      "total_3_words                        7613 non-null int64\n",
      "total_5_words                        7613 non-null int64\n",
      "total_6_words                        7613 non-null int64\n",
      "total_8_words                        7613 non-null int64\n",
      "total_3_ormore_words                 7613 non-null int64\n",
      "total_5_ormore_words                 7613 non-null int64\n",
      "total_6_ormore_words                 7613 non-null int64\n",
      "total_8_ormore_words                 7613 non-null int64\n",
      "total_3_orless_words                 7613 non-null int64\n",
      "total_5_orless_words                 7613 non-null int64\n",
      "total_6_orless_words                 7613 non-null int64\n",
      "total_8_orless_words                 7613 non-null int64\n",
      "polarity_text                        7613 non-null float64\n",
      "stopword_count                       7613 non-null int64\n",
      "unique_word_count                    7613 non-null int64\n",
      "text_contain_word_location           7613 non-null bool\n",
      "len_location_cero_default            7613 non-null int64\n",
      "total_words_location_cero_default    7613 non-null int64\n",
      "total_words_location_mean_default    7613 non-null int64\n",
      "text_contain_keyword_similarity      7613 non-null bool\n",
      "text_similarity_keyword              7613 non-null int64\n",
      "text_best_similarity_keyword         7613 non-null int64\n",
      "ratio_short_big_words                7613 non-null float64\n",
      "contain_words_100_true               7613 non-null bool\n",
      "contain_words_90_true                7613 non-null bool\n",
      "contain_words_90_false               7613 non-null bool\n",
      "contain_words_85_true                7613 non-null bool\n",
      "contain_words_85_false               7613 non-null bool\n",
      "contain_words_80_true                7613 non-null bool\n",
      "contain_words_80_false               7613 non-null bool\n",
      "contain_words_75_true                7613 non-null bool\n",
      "contain_words_70_true                7613 non-null bool\n",
      "contain_words_70_false               7613 non-null bool\n",
      "target                               7613 non-null int64\n",
      "dtypes: bool(17), float64(2), int64(24), object(4)\n",
      "memory usage: 1.9+ MB\n"
     ]
    }
   ],
   "source": [
    "train = pd.read_csv('data/train_pre_processing_3.csv')\n",
    "test = pd.read_csv('data/test_pre_processing_3.csv')\n",
    "train.info()"
   ]
  },
  {
   "cell_type": "code",
   "execution_count": 19,
   "metadata": {},
   "outputs": [],
   "source": [
    "def prepare_df_for_fit(df):\n",
    "    columns_str = ['keyword', 'location', 'text', 'keyword_grouped']\n",
    "\n",
    "    # Encode with LabelEncoder\n",
    "    encoded_cols = df[columns_str]\n",
    "    encoded_cols = encoded_cols.astype('str')\n",
    "    encoded_cols = encoded_cols.apply(LabelEncoder().fit_transform)\n",
    "    encoded_drop = df.drop(columns_str, axis = 1)\n",
    "    encoded_df = pd.concat([encoded_drop, encoded_cols], axis = 1)\n",
    "    # Drop Target column\n",
    "    if 'target' in encoded_df.columns:\n",
    "        encoded_df.drop(axis=1, labels=['target'], inplace=True)\n",
    "\n",
    "    return encoded_df"
   ]
  },
  {
   "cell_type": "code",
   "execution_count": 21,
   "metadata": {},
   "outputs": [],
   "source": [
    "train_X = prepare_df_for_fit(train)\n",
    "test_X = prepare_df_for_fit(test)\n",
    "train_Y = train['target']"
   ]
  },
  {
   "cell_type": "code",
   "execution_count": 23,
   "metadata": {},
   "outputs": [],
   "source": [
    "X_train, X_test, y_train, y_test = train_test_split(train_X, train_Y, test_size = 0.25, random_state = 10)"
   ]
  },
  {
   "cell_type": "code",
   "execution_count": 24,
   "metadata": {},
   "outputs": [
    {
     "data": {
      "text/plain": [
       "XGBClassifier(base_score=0.5, booster='gbtree', colsample_bylevel=1,\n",
       "       colsample_bytree=1, gamma=0, learning_rate=0.1, max_delta_step=0,\n",
       "       max_depth=3, min_child_weight=1, missing=None, n_estimators=100,\n",
       "       n_jobs=1, nthread=None, objective='reg:linear', random_state=10,\n",
       "       reg_alpha=0, reg_lambda=1, scale_pos_weight=1, seed=None,\n",
       "       silent=True, subsample=1)"
      ]
     },
     "execution_count": 24,
     "metadata": {},
     "output_type": "execute_result"
    }
   ],
   "source": [
    "xgb_model = xgb.XGBClassifier(objective=\"reg:linear\", random_state=10)\n",
    "\n",
    "xgb_model.fit(X_train, y_train)"
   ]
  },
  {
   "cell_type": "code",
   "execution_count": 25,
   "metadata": {},
   "outputs": [],
   "source": [
    "preds = xgb_model.predict(X_test)"
   ]
  },
  {
   "cell_type": "code",
   "execution_count": 28,
   "metadata": {},
   "outputs": [
    {
     "data": {
      "text/plain": [
       "0.7669233182963819"
      ]
     },
     "execution_count": 28,
     "metadata": {},
     "output_type": "execute_result"
    }
   ],
   "source": [
    "roc_auc_score(y_test, preds)"
   ]
  },
  {
   "cell_type": "code",
   "execution_count": 29,
   "metadata": {},
   "outputs": [
    {
     "name": "stdout",
     "output_type": "stream",
     "text": [
      "ACC: 0.779937\n"
     ]
    }
   ],
   "source": [
    "acc = accuracy_score(preds,y_test)\n",
    "print(\"ACC: %f\" % (acc))"
   ]
  },
  {
   "cell_type": "markdown",
   "metadata": {},
   "source": [
    "## GridSearchCV (Objective)"
   ]
  },
  {
   "cell_type": "code",
   "execution_count": 36,
   "metadata": {
    "scrolled": true
   },
   "outputs": [],
   "source": [
    "parameters = [{'objective': ['reg:linear']},\n",
    "              {'objective': ['binary:logistic']}]\n",
    "grid_search = GridSearchCV(estimator = xgb_model,\n",
    "                           param_grid = parameters,\n",
    "                           scoring = 'accuracy',\n",
    "                           cv = 10,\n",
    "                           n_jobs = -1)\n",
    "grid_search = grid_search.fit(X_train, y_train)"
   ]
  },
  {
   "cell_type": "code",
   "execution_count": 39,
   "metadata": {},
   "outputs": [
    {
     "name": "stdout",
     "output_type": "stream",
     "text": [
      "0.7940094587493431\n",
      "{'objective': 'reg:linear'}\n"
     ]
    }
   ],
   "source": [
    "print(grid_search.best_score_)\n",
    "print(grid_search.best_params_)"
   ]
  },
  {
   "cell_type": "markdown",
   "metadata": {},
   "source": [
    "## GridSearchCV (max_depth & min_child_weight)"
   ]
  },
  {
   "cell_type": "code",
   "execution_count": 43,
   "metadata": {},
   "outputs": [],
   "source": [
    "parameters = [{\n",
    " 'max_depth':range(3,10,1),\n",
    " 'min_child_weight':range(1,6,1)\n",
    "}]\n",
    "\n",
    "grid_search = GridSearchCV(estimator = xgb_model,\n",
    "                           param_grid = parameters,\n",
    "                           scoring = 'accuracy',\n",
    "                           cv = 10,\n",
    "                           n_jobs = -1)\n",
    "grid_search = grid_search.fit(X_train, y_train)"
   ]
  },
  {
   "cell_type": "code",
   "execution_count": 44,
   "metadata": {},
   "outputs": [
    {
     "name": "stdout",
     "output_type": "stream",
     "text": [
      "0.7954107549483272\n",
      "{'max_depth': 5, 'min_child_weight': 1}\n"
     ]
    }
   ],
   "source": [
    "print(grid_search.best_score_)\n",
    "print(grid_search.best_params_)"
   ]
  },
  {
   "cell_type": "markdown",
   "metadata": {},
   "source": [
    "## GridSearchCV (min_child_weight)"
   ]
  },
  {
   "cell_type": "code",
   "execution_count": 72,
   "metadata": {},
   "outputs": [],
   "source": [
    "# Probando con parametros en el rango de los valores tipicos \n",
    "# para lograr un min_child_weight adaptable\n",
    "parameters = [{\n",
    "    'learning_rate': [0.04], \n",
    "    'max_depth': [5], \n",
    "    'n_estimators': [300], \n",
    "    'min_child_weight': range(1,6,1), \n",
    "    'gamma': [0.3], \n",
    "    'subsample': [0.9], \n",
    "    'colsample_bytree': [0.5], \n",
    "    'reg_alpha': [0.1], \n",
    "    'seed': [123]\n",
    "}]\n",
    "\n",
    "grid_search = GridSearchCV(estimator = xgb_model,\n",
    "                           param_grid = parameters,\n",
    "                           scoring = 'accuracy',\n",
    "                           cv = 10,\n",
    "                           n_jobs = -1)\n",
    "grid_search = grid_search.fit(X_train, y_train)"
   ]
  },
  {
   "cell_type": "code",
   "execution_count": 73,
   "metadata": {},
   "outputs": [
    {
     "name": "stdout",
     "output_type": "stream",
     "text": [
      "0.7996146435452793\n",
      "{'colsample_bytree': 0.5, 'gamma': 0.3, 'learning_rate': 0.04, 'max_depth': 5, 'min_child_weight': 2, 'n_estimators': 300, 'reg_alpha': 0.1, 'seed': 123, 'subsample': 0.9}\n"
     ]
    }
   ],
   "source": [
    "print(grid_search.best_score_)\n",
    "print(grid_search.best_params_)"
   ]
  },
  {
   "cell_type": "markdown",
   "metadata": {},
   "source": [
    "## GridSearchCV (gamma)"
   ]
  },
  {
   "cell_type": "code",
   "execution_count": 75,
   "metadata": {},
   "outputs": [],
   "source": [
    "parameters = [{\n",
    "    'gamma': np.arange(0,1,0.05),\n",
    "    'max_depth': [grid_search.best_params_.get('max_depth')],\n",
    "    'min_child_weight': [grid_search.best_params_.get('min_child_weight')],\n",
    "    'learning_rate': [0.04],\n",
    "    'n_estimators': [300],\n",
    "    'subsample': [0.9], \n",
    "    'colsample_bytree': [0.5], \n",
    "    'reg_alpha': [0.1], \n",
    "    'seed': [123]\n",
    "}]\n",
    "\n",
    "grid_search = GridSearchCV(estimator = xgb_model,\n",
    "                           param_grid = parameters,\n",
    "                           scoring = 'accuracy',\n",
    "                           cv = 10,\n",
    "                           n_jobs = -1)\n",
    "grid_search = grid_search.fit(X_train, y_train)"
   ]
  },
  {
   "cell_type": "code",
   "execution_count": 76,
   "metadata": {},
   "outputs": [
    {
     "name": "stdout",
     "output_type": "stream",
     "text": [
      "0.8003152916447714\n",
      "{'colsample_bytree': 0.5, 'gamma': 0.1, 'learning_rate': 0.04, 'max_depth': 5, 'min_child_weight': 2, 'n_estimators': 300, 'reg_alpha': 0.1, 'seed': 123, 'subsample': 0.9}\n"
     ]
    }
   ],
   "source": [
    "print(grid_search.best_score_)\n",
    "print(grid_search.best_params_)"
   ]
  },
  {
   "cell_type": "markdown",
   "metadata": {},
   "source": [
    "## GridSearchCV (n_estimators)"
   ]
  },
  {
   "cell_type": "code",
   "execution_count": 77,
   "metadata": {},
   "outputs": [],
   "source": [
    "parameters = [{\n",
    "    'gamma': [grid_search.best_params_.get('gamma')],\n",
    "    'max_depth': [grid_search.best_params_.get('max_depth')],\n",
    "    'min_child_weight': [grid_search.best_params_.get('min_child_weight')],\n",
    "    'learning_rate': [0.04],\n",
    "    'n_estimators': range(100,1000,50),\n",
    "    'subsample': [0.9], \n",
    "    'colsample_bytree': [0.5], \n",
    "    'reg_alpha': [0.1], \n",
    "    'seed': [123]\n",
    "}]\n",
    "\n",
    "grid_search = GridSearchCV(estimator = xgb_model,\n",
    "                           param_grid = parameters,\n",
    "                           scoring = 'accuracy',\n",
    "                           cv = 10,\n",
    "                           n_jobs = -1)\n",
    "grid_search = grid_search.fit(X_train, y_train)"
   ]
  },
  {
   "cell_type": "code",
   "execution_count": 78,
   "metadata": {},
   "outputs": [
    {
     "name": "stdout",
     "output_type": "stream",
     "text": [
      "0.8003152916447714\n",
      "{'colsample_bytree': 0.5, 'gamma': 0.1, 'learning_rate': 0.04, 'max_depth': 5, 'min_child_weight': 2, 'n_estimators': 300, 'reg_alpha': 0.1, 'seed': 123, 'subsample': 0.9}\n"
     ]
    }
   ],
   "source": [
    "print(grid_search.best_score_)\n",
    "print(grid_search.best_params_)"
   ]
  },
  {
   "cell_type": "markdown",
   "metadata": {},
   "source": [
    "## GridSearchCV (colsample_bytree + subsample)"
   ]
  },
  {
   "cell_type": "code",
   "execution_count": 79,
   "metadata": {
    "scrolled": false
   },
   "outputs": [],
   "source": [
    "parameters = [{\n",
    "    'colsample_bytree': np.arange(0.5, 1, 0.1),\n",
    "    'subsample': np.arange(0.5, 1, 0.1),\n",
    "    'learning_rate': [0.04],\n",
    "    'n_stimators': [grid_search.best_params_.get('n_estimators')],\n",
    "    'gamma': [grid_search.best_params_.get('gamma')],\n",
    "    'max_depth': [grid_search.best_params_.get('max_depth')],\n",
    "    'min_child_weight': [grid_search.best_params_.get('min_child_weight')],\n",
    "    'reg_alpha': [0.1],\n",
    "    'seed': [123]\n",
    "}]\n",
    "\n",
    "grid_search = GridSearchCV(estimator = xgb_model,\n",
    "                           param_grid = parameters,\n",
    "                           scoring = 'accuracy',\n",
    "                           cv = 10,\n",
    "                           n_jobs = -1)\n",
    "grid_search = grid_search.fit(X_train, y_train)"
   ]
  },
  {
   "cell_type": "code",
   "execution_count": 80,
   "metadata": {},
   "outputs": [
    {
     "name": "stdout",
     "output_type": "stream",
     "text": [
      "0.7968120511473112\n",
      "{'colsample_bytree': 0.5, 'gamma': 0.1, 'learning_rate': 0.04, 'max_depth': 5, 'min_child_weight': 2, 'n_stimators': 300, 'reg_alpha': 0.1, 'seed': 123, 'subsample': 0.8999999999999999}\n"
     ]
    }
   ],
   "source": [
    "print(grid_search.best_score_)\n",
    "print(grid_search.best_params_)"
   ]
  },
  {
   "cell_type": "markdown",
   "metadata": {},
   "source": [
    "## GridSearchCV (learning_rate)"
   ]
  },
  {
   "cell_type": "code",
   "execution_count": 85,
   "metadata": {},
   "outputs": [],
   "source": [
    "parameters = [{\n",
    "    'colsample_bytree': [grid_search.best_params_.get('colsample_bytree')],\n",
    "    'subsample': [grid_search.best_params_.get('subsample')],\n",
    "    'learning_rate': np.arange(0,0.1,0.01),\n",
    "    'n_stimators': [grid_search.best_params_.get('n_estimators')],\n",
    "    'gamma': [grid_search.best_params_.get('gamma')],\n",
    "    'max_depth': [grid_search.best_params_.get('max_depth')],\n",
    "    'min_child_weight': [grid_search.best_params_.get('min_child_weight')],\n",
    "    'reg_alpha': [0.1],\n",
    "    'seed': [123]\n",
    "}]\n",
    "\n",
    "grid_search = GridSearchCV(estimator = xgb_model,\n",
    "                           param_grid = parameters,\n",
    "                           scoring = 'accuracy',\n",
    "                           cv = 10,\n",
    "                           n_jobs = -1)\n",
    "grid_search = grid_search.fit(X_train, y_train)"
   ]
  },
  {
   "cell_type": "code",
   "execution_count": 86,
   "metadata": {},
   "outputs": [
    {
     "name": "stdout",
     "output_type": "stream",
     "text": [
      "0.7973375372219302\n",
      "{'colsample_bytree': 0.5, 'gamma': 0.1, 'learning_rate': 0.06, 'max_depth': 5, 'min_child_weight': 2, 'n_stimators': None, 'reg_alpha': 0.1, 'seed': 123, 'subsample': 0.8999999999999999}\n"
     ]
    }
   ],
   "source": [
    "print(grid_search.best_score_)\n",
    "print(grid_search.best_params_)"
   ]
  },
  {
   "cell_type": "markdown",
   "metadata": {},
   "source": [
    "## Multiple GridSearchCV"
   ]
  },
  {
   "cell_type": "code",
   "execution_count": null,
   "metadata": {},
   "outputs": [],
   "source": [
    "parameters = [{\n",
    "    'colsample_bytree': np.arange(0.5, 1, 0.1),\n",
    "    'subsample': np.arange(0.5, 1, 0.1),\n",
    "    'learning_rate': np.arange(0,0.1,0.01),\n",
    "    'n_stimators': range(100,700,50),\n",
    "    'gamma': np.arange(0,1,0.05),\n",
    "    'max_depth': [grid_search.best_params_.get('max_depth')],\n",
    "    'min_child_weight': [grid_search.best_params_.get('min_child_weight')],\n",
    "    'reg_alpha': [0.1],\n",
    "    'seed': [123]\n",
    "}]\n",
    "\n",
    "grid_search = GridSearchCV(estimator = xgb_model,\n",
    "                           param_grid = parameters,\n",
    "                           scoring = 'accuracy',\n",
    "                           cv = 10,\n",
    "                           n_jobs = -1)\n",
    "grid_search = grid_search.fit(X_train, y_train)"
   ]
  },
  {
   "cell_type": "code",
   "execution_count": null,
   "metadata": {},
   "outputs": [],
   "source": [
    "print(grid_search.best_score_)\n",
    "print(grid_search.best_params_)"
   ]
  },
  {
   "cell_type": "code",
   "execution_count": null,
   "metadata": {},
   "outputs": [],
   "source": []
  }
 ],
 "metadata": {
  "kernelspec": {
   "display_name": "Python 3",
   "language": "python",
   "name": "python3"
  },
  "language_info": {
   "codemirror_mode": {
    "name": "ipython",
    "version": 3
   },
   "file_extension": ".py",
   "mimetype": "text/x-python",
   "name": "python",
   "nbconvert_exporter": "python",
   "pygments_lexer": "ipython3",
   "version": "3.7.2"
  }
 },
 "nbformat": 4,
 "nbformat_minor": 2
}
