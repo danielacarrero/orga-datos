{
 "cells": [
  {
   "cell_type": "code",
   "execution_count": 1,
   "metadata": {},
   "outputs": [],
   "source": [
    "import pandas as pd\n",
    "import numpy as np\n",
    "import matplotlib.pyplot as plt\n",
    "\n",
    "# metrics\n",
    "from sklearn.metrics import accuracy_score, roc_auc_score\n",
    "from sklearn.model_selection import train_test_split, cross_val_score\n",
    "from sklearn.preprocessing import LabelEncoder\n",
    "from collections import defaultdict\n",
    "\n",
    "#xgb\n",
    "import xgboost as xgb"
   ]
  },
  {
   "cell_type": "code",
   "execution_count": 2,
   "metadata": {},
   "outputs": [],
   "source": [
    "tweets = pd.read_csv(\"data/train_pre_processing.csv\")\n",
    "tweets = tweets.fillna('0')"
   ]
  },
  {
   "cell_type": "code",
   "execution_count": 3,
   "metadata": {},
   "outputs": [
    {
     "name": "stdout",
     "output_type": "stream",
     "text": [
      "<class 'pandas.core.frame.DataFrame'>\n",
      "RangeIndex: 7613 entries, 0 to 7612\n",
      "Data columns (total 38 columns):\n",
      "keyword                 7613 non-null object\n",
      "location                7613 non-null object\n",
      "text                    7613 non-null object\n",
      "keyword_grouped         7613 non-null object\n",
      "text_contain_keyword    7613 non-null object\n",
      "total_words             7613 non-null int64\n",
      "len_text                7613 non-null int64\n",
      "total_upper_chars       7613 non-null int64\n",
      "total_numbers_chars     7613 non-null int64\n",
      "total_special_chars     7613 non-null int64\n",
      "total_common_chars      7613 non-null int64\n",
      "contain_question        7613 non-null bool\n",
      "contain_link            7613 non-null bool\n",
      "contain_hashtag         7613 non-null bool\n",
      "contain_upper_words     7613 non-null bool\n",
      "total_3_words           7613 non-null int64\n",
      "total_4_words           7613 non-null int64\n",
      "total_5_words           7613 non-null int64\n",
      "total_6_words           7613 non-null int64\n",
      "total_7_words           7613 non-null int64\n",
      "total_8_words           7613 non-null int64\n",
      "total_3_ormore_words    7613 non-null int64\n",
      "total_4_ormore_words    7613 non-null int64\n",
      "total_5_ormore_words    7613 non-null int64\n",
      "total_6_ormore_words    7613 non-null int64\n",
      "total_7_ormore_words    7613 non-null int64\n",
      "total_8_ormore_words    7613 non-null int64\n",
      "total_3_orless_words    7613 non-null int64\n",
      "total_4_orless_words    7613 non-null int64\n",
      "total_5_orless_words    7613 non-null int64\n",
      "total_6_orless_words    7613 non-null int64\n",
      "total_7_orless_words    7613 non-null int64\n",
      "total_8_orless_words    7613 non-null int64\n",
      "subjectivity_text       7613 non-null float64\n",
      "polarity_text           7613 non-null float64\n",
      "stopword_count          7613 non-null int64\n",
      "unique_word_count       7613 non-null int64\n",
      "target                  7613 non-null int64\n",
      "dtypes: bool(4), float64(2), int64(27), object(5)\n",
      "memory usage: 2.0+ MB\n"
     ]
    }
   ],
   "source": [
    "tweets.info()"
   ]
  },
  {
   "cell_type": "markdown",
   "metadata": {},
   "source": [
    "## Encode: LabelEncoder"
   ]
  },
  {
   "cell_type": "code",
   "execution_count": 4,
   "metadata": {},
   "outputs": [],
   "source": [
    "encode_columns = ['keyword', 'location', 'text', 'keyword_grouped', 'text_contain_keyword']\n",
    "\n",
    "encode_tweets = tweets[encode_columns]\n",
    "encode_tweets = encode_tweets.astype('str')\n",
    "encode_tweets = encode_tweets.apply(LabelEncoder().fit_transform)\n",
    "tweets_encode_drop = tweets.drop(encode_columns, axis = 1)\n",
    "tweets_encode = pd.concat([tweets_encode_drop, encode_tweets], axis = 1)\n",
    "tweets_encode.drop(axis=1, labels=['target'], inplace=True)\n",
    "\n",
    "Y = tweets.iloc[:,-1]"
   ]
  },
  {
   "cell_type": "code",
   "execution_count": 5,
   "metadata": {},
   "outputs": [],
   "source": [
    "seed = 7\n",
    "test_size = 0.20\n",
    "X_train, X_test, y_train, y_test = train_test_split(tweets_encode, Y, test_size=0.20, random_state=42)"
   ]
  },
  {
   "cell_type": "code",
   "execution_count": 66,
   "metadata": {},
   "outputs": [
    {
     "data": {
      "text/plain": [
       "XGBRegressor(base_score=0.5, booster='gbtree', colsample_bylevel=1,\n",
       "       colsample_bytree=0.4, gamma=0.3, learning_rate=0.05,\n",
       "       max_delta_step=0, max_depth=3, min_child_weight=5, missing=None,\n",
       "       n_estimators=400, n_jobs=1, nthread=None, objective='reg:linear',\n",
       "       random_state=42, reg_alpha=0.1, reg_lambda=1, scale_pos_weight=1,\n",
       "       seed=123, silent=True, subsample=0.7)"
      ]
     },
     "execution_count": 66,
     "metadata": {},
     "output_type": "execute_result"
    }
   ],
   "source": [
    "xgb_model = xgb.XGBRegressor(objective=\"reg:linear\", random_state=42, learning_rate=0.05, \n",
    "                             max_depth= 3, n_estimators=400, min_child_weight=5, gamma=0.3, subsample=0.7, \n",
    "                             colsample_bytree=0.4, reg_alpha=0.1, seed=123)\n",
    "\n",
    "xgb_model.fit(X_train, y_train)"
   ]
  },
  {
   "cell_type": "code",
   "execution_count": 70,
   "metadata": {},
   "outputs": [],
   "source": [
    "preds = xgb_model.predict(X_test)"
   ]
  },
  {
   "cell_type": "code",
   "execution_count": 71,
   "metadata": {},
   "outputs": [
    {
     "data": {
      "text/plain": [
       "0.7969989034353151"
      ]
     },
     "execution_count": 71,
     "metadata": {},
     "output_type": "execute_result"
    }
   ],
   "source": [
    "roc_auc_score(y_test, preds)"
   ]
  },
  {
   "cell_type": "code",
   "execution_count": null,
   "metadata": {},
   "outputs": [],
   "source": [
    "# 0.7969989034353151"
   ]
  }
 ],
 "metadata": {
  "kernelspec": {
   "display_name": "Python 3",
   "language": "python",
   "name": "python3"
  },
  "language_info": {
   "codemirror_mode": {
    "name": "ipython",
    "version": 3
   },
   "file_extension": ".py",
   "mimetype": "text/x-python",
   "name": "python",
   "nbconvert_exporter": "python",
   "pygments_lexer": "ipython3",
   "version": "3.7.2"
  }
 },
 "nbformat": 4,
 "nbformat_minor": 2
}
