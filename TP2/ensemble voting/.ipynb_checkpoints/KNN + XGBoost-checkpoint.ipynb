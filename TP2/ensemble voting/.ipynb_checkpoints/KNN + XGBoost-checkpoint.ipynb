{
 "cells": [
  {
   "cell_type": "code",
   "execution_count": 1,
   "metadata": {},
   "outputs": [],
   "source": [
    "import pandas as pd\n",
    "import numpy as np\n",
    "import matplotlib.pyplot as plt\n",
    "\n",
    "from sklearn.metrics import accuracy_score, roc_auc_score\n",
    "from sklearn.model_selection import train_test_split, GridSearchCV\n",
    "from sklearn.preprocessing import LabelEncoder, StandardScaler\n",
    "from sklearn.neighbors import KNeighborsClassifier\n",
    "from sklearn.ensemble import VotingClassifier\n",
    "\n",
    "import xgboost as xgb\n",
    "\n",
    "from pathlib import Path"
   ]
  },
  {
   "cell_type": "code",
   "execution_count": 2,
   "metadata": {
    "scrolled": true
   },
   "outputs": [
    {
     "name": "stdout",
     "output_type": "stream",
     "text": [
      "<class 'pandas.core.frame.DataFrame'>\n",
      "RangeIndex: 7613 entries, 0 to 7612\n",
      "Columns: 5057 entries, keyword to target\n",
      "dtypes: bool(21), float64(5000), int64(31), object(5)\n",
      "memory usage: 292.7+ MB\n"
     ]
    }
   ],
   "source": [
    "train = pd.read_csv('data/train_pre_processing_nlp_5000.csv')\n",
    "test = pd.read_csv('data/test_pre_processing_nlp_5000.csv')\n",
    "train.info()\n",
    "\n",
    "submit = test['id'].to_frame()\n",
    "train.drop(labels=['id'], axis=1, inplace=True)\n",
    "test.drop(labels=['id'], axis=1, inplace=True)"
   ]
  },
  {
   "cell_type": "code",
   "execution_count": 3,
   "metadata": {},
   "outputs": [],
   "source": [
    "noise_cols = ['location', 'len_location_cero_default', \n",
    "              'len_location_mean_default', 'total_words_location_cero_default',\n",
    "             'total_words_location_mean_default', 'text']\n",
    "train.drop(labels=noise_cols, axis=1, inplace=True)\n",
    "test.drop(labels=noise_cols, axis=1, inplace=True)"
   ]
  },
  {
   "cell_type": "code",
   "execution_count": 4,
   "metadata": {},
   "outputs": [],
   "source": [
    "def prepare_df_for_fit(df):\n",
    "    columns_str = ['keyword_grouped', 'keyword', 'text_clean']\n",
    "    \n",
    "    # Encode with LabelEncoder\n",
    "    encoded_cols = df[columns_str]\n",
    "    encoded_cols = encoded_cols.astype('str')\n",
    "    encoded_cols = encoded_cols.apply(LabelEncoder().fit_transform)\n",
    "    encoded_drop = df.drop(columns_str, axis = 1)\n",
    "    encoded_df = pd.concat([encoded_drop, encoded_cols], axis = 1)\n",
    "    # Drop Target column\n",
    "    if 'target' in encoded_df.columns:\n",
    "        encoded_df.drop(axis=1, labels=['target'], inplace=True)\n",
    "\n",
    "    return encoded_df"
   ]
  },
  {
   "cell_type": "code",
   "execution_count": 5,
   "metadata": {},
   "outputs": [],
   "source": [
    "train_X = prepare_df_for_fit(train) #train.drop(axis=1, labels=['target']) \n",
    "test_X = prepare_df_for_fit(test) #train.drop(axis=1, labels=['target'])\n",
    "train_Y = train['target']"
   ]
  },
  {
   "cell_type": "code",
   "execution_count": 6,
   "metadata": {},
   "outputs": [],
   "source": [
    "X_train, X_test, y_train, y_test = train_test_split(train_X, train_Y, test_size = 0.25, random_state = 10)"
   ]
  },
  {
   "cell_type": "code",
   "execution_count": null,
   "metadata": {},
   "outputs": [],
   "source": [
    "%%time\n",
    "xgb_model = xgb.XGBClassifier(objective=\"reg:linear\", random_state=10, colsample_bytree = 0.5, \n",
    "                             gamma = 0.1, learning_rate = 0.06, max_depth = 5, min_child_weight = 2, \n",
    "                             n_estimators = 300, reg_alpha = 0.1, seed = 123, subsample = 0.9)\n",
    "\n",
    "xgb_model.fit(X_train, y_train)"
   ]
  },
  {
   "cell_type": "code",
   "execution_count": null,
   "metadata": {},
   "outputs": [],
   "source": [
    "preds = xgb_model.predict(X_test)"
   ]
  },
  {
   "cell_type": "code",
   "execution_count": null,
   "metadata": {},
   "outputs": [],
   "source": [
    "roc_auc_score(y_test, preds)"
   ]
  },
  {
   "cell_type": "code",
   "execution_count": null,
   "metadata": {},
   "outputs": [],
   "source": [
    "acc = accuracy_score(preds,y_test)\n",
    "print(\"ACC: %f\" % (acc))"
   ]
  },
  {
   "cell_type": "code",
   "execution_count": null,
   "metadata": {},
   "outputs": [],
   "source": [
    "# 0.7875611684509691\n",
    "# ACC: 0.799895"
   ]
  },
  {
   "cell_type": "markdown",
   "metadata": {},
   "source": [
    "## KNN"
   ]
  },
  {
   "cell_type": "code",
   "execution_count": null,
   "metadata": {},
   "outputs": [],
   "source": [
    "scaler = StandardScaler()\n",
    "scaler.fit(train_X)\n",
    "sc_transform = scaler.transform(train_X)\n",
    "X = pd.DataFrame(sc_transform)"
   ]
  },
  {
   "cell_type": "code",
   "execution_count": null,
   "metadata": {},
   "outputs": [],
   "source": [
    "seed = 7\n",
    "test_size = 0.20\n",
    "X_train, X_test, y_train, y_test = train_test_split(X, train_Y, test_size=0.20, random_state=42)"
   ]
  },
  {
   "cell_type": "code",
   "execution_count": null,
   "metadata": {},
   "outputs": [],
   "source": [
    "%%time\n",
    "knn_model = KNeighborsClassifier(n_neighbors=15)\n",
    "knn_model.fit(X_train, y_train)"
   ]
  },
  {
   "cell_type": "code",
   "execution_count": null,
   "metadata": {},
   "outputs": [],
   "source": [
    "preds = knn_model.predict(X_test)\n",
    "roc_auc_score(y_test, preds)"
   ]
  },
  {
   "cell_type": "code",
   "execution_count": null,
   "metadata": {},
   "outputs": [],
   "source": [
    "# 0.789257720908421"
   ]
  },
  {
   "cell_type": "markdown",
   "metadata": {},
   "source": [
    "#### Optimal K"
   ]
  },
  {
   "cell_type": "markdown",
   "metadata": {},
   "source": [
    "## Voting Classifier"
   ]
  },
  {
   "cell_type": "code",
   "execution_count": null,
   "metadata": {},
   "outputs": [],
   "source": [
    "%%time\n",
    "eclf1 = VotingClassifier(estimators=[\n",
    "        ('knn', knn_model), ('xgb', xgb_model)], voting='hard', weights=[1,3])\n",
    "eclf1 = eclf1.fit(X_train, y_train)\n",
    "preds = eclf1.predict(X_test)\n",
    "roc_auc_score(y_test, preds)"
   ]
  },
  {
   "cell_type": "code",
   "execution_count": null,
   "metadata": {},
   "outputs": [],
   "source": [
    "# 0.7900968925966017 (5000 TF IDF)"
   ]
  },
  {
   "cell_type": "markdown",
   "metadata": {},
   "source": [
    "## Submit"
   ]
  },
  {
   "cell_type": "code",
   "execution_count": null,
   "metadata": {},
   "outputs": [],
   "source": [
    "%%time\n",
    "eclf1 = eclf1.fit(train_X, train_Y)\n",
    "preds = eclf1.predict(test_X)\n",
    "submit['target'] = pd.DataFrame(preds)\n",
    "submit"
   ]
  },
  {
   "cell_type": "code",
   "execution_count": null,
   "metadata": {},
   "outputs": [],
   "source": [
    "Path(\"result\").mkdir(parents=True, exist_ok=True)\n",
    "submit.to_csv('result/submit.csv', index=False)"
   ]
  },
  {
   "cell_type": "code",
   "execution_count": null,
   "metadata": {},
   "outputs": [],
   "source": []
  }
 ],
 "metadata": {
  "kernelspec": {
   "display_name": "Python 3",
   "language": "python",
   "name": "python3"
  },
  "language_info": {
   "codemirror_mode": {
    "name": "ipython",
    "version": 3
   },
   "file_extension": ".py",
   "mimetype": "text/x-python",
   "name": "python",
   "nbconvert_exporter": "python",
   "pygments_lexer": "ipython3",
   "version": "3.7.2"
  }
 },
 "nbformat": 4,
 "nbformat_minor": 2
}
