{
 "cells": [
  {
   "cell_type": "markdown",
   "metadata": {},
   "source": [
    "Conitnuación del notebook pre_processing_data_jesus. Se añaden features adicionales para seguir haciendo pruebas"
   ]
  },
  {
   "cell_type": "code",
   "execution_count": 135,
   "metadata": {},
   "outputs": [],
   "source": [
    "import pandas as pd\n",
    "from fuzzywuzzy import fuzz\n"
   ]
  },
  {
   "cell_type": "code",
   "execution_count": 136,
   "metadata": {},
   "outputs": [
    {
     "name": "stdout",
     "output_type": "stream",
     "text": [
      "<class 'pandas.core.frame.DataFrame'>\n",
      "RangeIndex: 7613 entries, 0 to 7612\n",
      "Data columns (total 36 columns):\n",
      " #   Column                Non-Null Count  Dtype  \n",
      "---  ------                --------------  -----  \n",
      " 0   keyword               7552 non-null   object \n",
      " 1   location              5080 non-null   object \n",
      " 2   text                  7613 non-null   object \n",
      " 3   keyword_grouped       7552 non-null   object \n",
      " 4   text_contain_keyword  7552 non-null   object \n",
      " 5   total_words           7613 non-null   int64  \n",
      " 6   len_text              7613 non-null   int64  \n",
      " 7   total_upper_chars     7613 non-null   int64  \n",
      " 8   total_numbers_chars   7613 non-null   int64  \n",
      " 9   total_special_chars   7613 non-null   int64  \n",
      " 10  total_common_chars    7613 non-null   int64  \n",
      " 11  contain_question      7613 non-null   bool   \n",
      " 12  contain_link          7613 non-null   bool   \n",
      " 13  contain_hashtag       7613 non-null   bool   \n",
      " 14  contain_upper_words   7613 non-null   bool   \n",
      " 15  total_3_words         7613 non-null   int64  \n",
      " 16  total_4_words         7613 non-null   int64  \n",
      " 17  total_5_words         7613 non-null   int64  \n",
      " 18  total_6_words         7613 non-null   int64  \n",
      " 19  total_7_words         7613 non-null   int64  \n",
      " 20  total_8_words         7613 non-null   int64  \n",
      " 21  total_3_ormore_words  7613 non-null   int64  \n",
      " 22  total_4_ormore_words  7613 non-null   int64  \n",
      " 23  total_5_ormore_words  7613 non-null   int64  \n",
      " 24  total_6_ormore_words  7613 non-null   int64  \n",
      " 25  total_7_ormore_words  7613 non-null   int64  \n",
      " 26  total_8_ormore_words  7613 non-null   int64  \n",
      " 27  total_3_orless_words  7613 non-null   int64  \n",
      " 28  total_4_orless_words  7613 non-null   int64  \n",
      " 29  total_5_orless_words  7613 non-null   int64  \n",
      " 30  total_6_orless_words  7613 non-null   int64  \n",
      " 31  total_7_orless_words  7613 non-null   int64  \n",
      " 32  total_8_orless_words  7613 non-null   int64  \n",
      " 33  subjectivity_text     7613 non-null   float64\n",
      " 34  polarity_text         7613 non-null   float64\n",
      " 35  target                7613 non-null   int64  \n",
      "dtypes: bool(4), float64(2), int64(25), object(5)\n",
      "memory usage: 1.9+ MB\n"
     ]
    }
   ],
   "source": [
    "tweets = pd.read_csv(\"data/train_pre_processing.csv\")\n",
    "tweets.info()"
   ]
  },
  {
   "cell_type": "markdown",
   "metadata": {},
   "source": [
    "Convertir text_contain_keyword en bool (en el anterior no se hizo). Aquellos registros con null se sustituyen por false"
   ]
  },
  {
   "cell_type": "code",
   "execution_count": 137,
   "metadata": {},
   "outputs": [],
   "source": [
    "tweets['text_contain_keyword'] = tweets.text_contain_keyword.fillna(False).astype('bool')"
   ]
  },
  {
   "cell_type": "markdown",
   "metadata": {},
   "source": [
    "El texto cointiene al menos una de las palabras del campo location (la palabra debe al menos tener 4 caracteres)"
   ]
  },
  {
   "cell_type": "code",
   "execution_count": 138,
   "metadata": {},
   "outputs": [],
   "source": [
    "def string_contain_word_string(s,ws):\n",
    "    if pd.isna(ws):\n",
    "        return False\n",
    "    for w1 in ws.lower().split(\" \"):\n",
    "        for w2 in w1.split(\",\"):\n",
    "            for w3 in w2.split(\":\"):\n",
    "                for w in w3.split(\".\"):\n",
    "                    if len(w) > 3 and w in s.lower():\n",
    "                        return True\n",
    "    return False\n",
    "\n",
    "tweets['text_contain_word_location'] = tweets.apply(lambda x: string_contain_word_string(x.text,x.location), axis = 1)\n"
   ]
  },
  {
   "cell_type": "code",
   "execution_count": 139,
   "metadata": {},
   "outputs": [
    {
     "data": {
      "text/plain": [
       "False    7352\n",
       "True      261\n",
       "Name: text_contain_word_location, dtype: int64"
      ]
     },
     "execution_count": 139,
     "metadata": {},
     "output_type": "execute_result"
    }
   ],
   "source": [
    "tweets.text_contain_word_location.value_counts()"
   ]
  },
  {
   "cell_type": "markdown",
   "metadata": {},
   "source": [
    "Longitud del campo location siendo 0 el valor por default para aquellos que no poseen dicho campo"
   ]
  },
  {
   "cell_type": "code",
   "execution_count": 140,
   "metadata": {},
   "outputs": [],
   "source": [
    "tweets['len_location_cero_default'] = tweets.location.transform(lambda x: 0 if pd.isna(x) else len(x))"
   ]
  },
  {
   "cell_type": "markdown",
   "metadata": {},
   "source": [
    "Longitud del campo location siendo el promedio el valor por default para aquellos que no poseen dicho campo"
   ]
  },
  {
   "cell_type": "code",
   "execution_count": 141,
   "metadata": {},
   "outputs": [],
   "source": [
    "len_location_mean = int(tweets.loc[tweets.len_location_cero_default != 0,'len_location_cero_default'].mean())\n",
    "\n",
    "tweets['len_location_mean_default'] = tweets.len_location_cero_default.replace(0, len_location_mean)\n"
   ]
  },
  {
   "cell_type": "markdown",
   "metadata": {},
   "source": [
    "Total de palabras en location  siendo 0 el valor por default para aquellos que no poseen dicho campo"
   ]
  },
  {
   "cell_type": "code",
   "execution_count": 142,
   "metadata": {},
   "outputs": [],
   "source": [
    "tweets['total_words_location_cero_default'] = tweets.location.transform(lambda x: 0 if pd.isna(x) else len(x.split(\" \")))\n"
   ]
  },
  {
   "cell_type": "markdown",
   "metadata": {},
   "source": [
    "Total de palabras en location  siendo el promedio el valor por default para aquellos que no poseen dicho campo"
   ]
  },
  {
   "cell_type": "code",
   "execution_count": 143,
   "metadata": {},
   "outputs": [],
   "source": [
    "total_words_location_mean = int(tweets.loc[tweets.total_words_location_cero_default != 0,'total_words_location_cero_default'].mean())\n",
    "\n",
    "tweets['total_words_location_mean_default'] = tweets.total_words_location_cero_default.replace(0, total_words_location_mean)\n"
   ]
  },
  {
   "cell_type": "markdown",
   "metadata": {},
   "source": [
    "Similarmente a text_contain_keyword, el siguiente campo indica si el texto contiene una palabra muy similar según la librería fuzzywuzzy "
   ]
  },
  {
   "cell_type": "code",
   "execution_count": 144,
   "metadata": {},
   "outputs": [],
   "source": [
    "def text_contain_similarity_word(x,y):\n",
    "    if pd.isna(y):\n",
    "        return False\n",
    "    \n",
    "    for w in x.lower().split(\" \"):\n",
    "        if fuzz.ratio(w,y.lower()) > 80:\n",
    "            return True\n",
    "    return False \n",
    "\n",
    "tweets['text_contain_keyword_similarity'] = tweets.apply(lambda x: text_contain_similarity_word(x.text,x.keyword_grouped), axis = 1)\n"
   ]
  },
  {
   "cell_type": "markdown",
   "metadata": {},
   "source": [
    "Similaridad entre keyword y text (0 por default)"
   ]
  },
  {
   "cell_type": "code",
   "execution_count": 145,
   "metadata": {},
   "outputs": [],
   "source": [
    "tweets['text_similarity_keyword'] = tweets.apply(lambda x: 0 if pd.isna(x.keyword_grouped) else fuzz.ratio(x.text.lower(),x.keyword_grouped.lower()), axis = 1)\n"
   ]
  },
  {
   "cell_type": "markdown",
   "metadata": {},
   "source": [
    "mejor similaridad entre keyword y cada palabra del text (0 por default)"
   ]
  },
  {
   "cell_type": "code",
   "execution_count": 146,
   "metadata": {},
   "outputs": [],
   "source": [
    "def get_best_similarity(s,w):\n",
    "    similarity = 0\n",
    "    \n",
    "    for x in s.split(\" \"):\n",
    "        if fuzz.ratio(x,w) > similarity:\n",
    "            similarity = fuzz.ratio(x,w)\n",
    "    return similarity\n",
    "\n",
    "tweets['text_best_similarity_keyword'] = tweets.apply(lambda x: 0 if pd.isna(x.keyword_grouped) else get_best_similarity(x.text.lower(),x.keyword_grouped.lower()), axis = 1)\n"
   ]
  },
  {
   "cell_type": "markdown",
   "metadata": {},
   "source": [
    "Similaridad entre location y text (0 por default)"
   ]
  },
  {
   "cell_type": "code",
   "execution_count": 147,
   "metadata": {},
   "outputs": [],
   "source": [
    "tweets['text_similarity_location'] = tweets.apply(lambda x: 0 if pd.isna(x.location) else fuzz.ratio(x.text.lower(),x.location.lower()), axis = 1)\n"
   ]
  },
  {
   "cell_type": "markdown",
   "metadata": {},
   "source": [
    "mejor similaridad entre location y cada palabra del text (0 por default)"
   ]
  },
  {
   "cell_type": "code",
   "execution_count": 148,
   "metadata": {},
   "outputs": [],
   "source": [
    "tweets['text_best_similarity_location'] = tweets.apply(lambda x: 0 if pd.isna(x.location) else get_best_similarity(x.text.lower(),x.location.lower()), axis = 1)\n"
   ]
  },
  {
   "cell_type": "markdown",
   "metadata": {},
   "source": [
    "Proporción entre cantidad de palabras cortas (menor o igual a tres caracteres) y palabras largas (al menos 5 caracteres)"
   ]
  },
  {
   "cell_type": "code",
   "execution_count": 149,
   "metadata": {},
   "outputs": [],
   "source": [
    "tweets['ratio_short_big_words']  = tweets['total_3_orless_words'] / tweets['total_5_ormore_words'].replace(0,1)\n"
   ]
  },
  {
   "cell_type": "code",
   "execution_count": 150,
   "metadata": {},
   "outputs": [
    {
     "name": "stdout",
     "output_type": "stream",
     "text": [
      "<class 'pandas.core.frame.DataFrame'>\n",
      "RangeIndex: 7613 entries, 0 to 7612\n",
      "Data columns (total 47 columns):\n",
      " #   Column                             Non-Null Count  Dtype  \n",
      "---  ------                             --------------  -----  \n",
      " 0   keyword                            7552 non-null   object \n",
      " 1   location                           5080 non-null   object \n",
      " 2   text                               7613 non-null   object \n",
      " 3   keyword_grouped                    7552 non-null   object \n",
      " 4   text_contain_keyword               7613 non-null   bool   \n",
      " 5   total_words                        7613 non-null   int64  \n",
      " 6   len_text                           7613 non-null   int64  \n",
      " 7   total_upper_chars                  7613 non-null   int64  \n",
      " 8   total_numbers_chars                7613 non-null   int64  \n",
      " 9   total_special_chars                7613 non-null   int64  \n",
      " 10  total_common_chars                 7613 non-null   int64  \n",
      " 11  contain_question                   7613 non-null   bool   \n",
      " 12  contain_link                       7613 non-null   bool   \n",
      " 13  contain_hashtag                    7613 non-null   bool   \n",
      " 14  contain_upper_words                7613 non-null   bool   \n",
      " 15  total_3_words                      7613 non-null   int64  \n",
      " 16  total_4_words                      7613 non-null   int64  \n",
      " 17  total_5_words                      7613 non-null   int64  \n",
      " 18  total_6_words                      7613 non-null   int64  \n",
      " 19  total_7_words                      7613 non-null   int64  \n",
      " 20  total_8_words                      7613 non-null   int64  \n",
      " 21  total_3_ormore_words               7613 non-null   int64  \n",
      " 22  total_4_ormore_words               7613 non-null   int64  \n",
      " 23  total_5_ormore_words               7613 non-null   int64  \n",
      " 24  total_6_ormore_words               7613 non-null   int64  \n",
      " 25  total_7_ormore_words               7613 non-null   int64  \n",
      " 26  total_8_ormore_words               7613 non-null   int64  \n",
      " 27  total_3_orless_words               7613 non-null   int64  \n",
      " 28  total_4_orless_words               7613 non-null   int64  \n",
      " 29  total_5_orless_words               7613 non-null   int64  \n",
      " 30  total_6_orless_words               7613 non-null   int64  \n",
      " 31  total_7_orless_words               7613 non-null   int64  \n",
      " 32  total_8_orless_words               7613 non-null   int64  \n",
      " 33  subjectivity_text                  7613 non-null   float64\n",
      " 34  polarity_text                      7613 non-null   float64\n",
      " 35  text_contain_word_location         7613 non-null   bool   \n",
      " 36  len_location_cero_default          7613 non-null   int64  \n",
      " 37  len_location_mean_default          7613 non-null   int64  \n",
      " 38  total_words_location_cero_default  7613 non-null   int64  \n",
      " 39  total_words_location_mean_default  7613 non-null   int64  \n",
      " 40  text_contain_keyword_similarity    7613 non-null   bool   \n",
      " 41  text_similarity_keyword            7613 non-null   int64  \n",
      " 42  text_best_similarity_keyword       7613 non-null   int64  \n",
      " 43  text_similarity_location           7613 non-null   int64  \n",
      " 44  text_best_similarity_location      7613 non-null   int64  \n",
      " 45  ratio_short_big_words              7613 non-null   float64\n",
      " 46  target                             7613 non-null   int64  \n",
      "dtypes: bool(7), float64(3), int64(33), object(4)\n",
      "memory usage: 2.4+ MB\n"
     ]
    }
   ],
   "source": [
    "target = tweets.target\n",
    "tweets.drop(columns=['target'], inplace=True)\n",
    "tweets['target'] = target\n",
    "tweets.info()"
   ]
  },
  {
   "cell_type": "code",
   "execution_count": 152,
   "metadata": {},
   "outputs": [],
   "source": [
    "#tweets.to_csv('data/train_pre_processing_2.csv', index=False)"
   ]
  },
  {
   "cell_type": "code",
   "execution_count": null,
   "metadata": {},
   "outputs": [],
   "source": []
  }
 ],
 "metadata": {
  "kernelspec": {
   "display_name": "Python 3",
   "language": "python",
   "name": "python3"
  },
  "language_info": {
   "codemirror_mode": {
    "name": "ipython",
    "version": 3
   },
   "file_extension": ".py",
   "mimetype": "text/x-python",
   "name": "python",
   "nbconvert_exporter": "python",
   "pygments_lexer": "ipython3",
   "version": "3.7.6"
  }
 },
 "nbformat": 4,
 "nbformat_minor": 4
}
